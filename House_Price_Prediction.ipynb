{
  "cells": [
    {
      "cell_type": "markdown",
      "metadata": {
        "id": "nzhFMKPe_KpT"
      },
      "source": [
        "Importing the dependencies"
      ]
    },
    {
      "cell_type": "code",
      "execution_count": 1,
      "metadata": {
        "id": "GEPxwjkh-flT",
        "colab": {
          "base_uri": "https://localhost:8080/",
          "height": 17
        },
        "outputId": "d9dee6ed-eb0e-43cc-c81d-a02a2ec06742"
      },
      "outputs": [
        {
          "output_type": "display_data",
          "data": {
            "application/javascript": [
              "(function(root) {\n",
              "  function now() {\n",
              "    return new Date();\n",
              "  }\n",
              "\n",
              "  var force = true;\n",
              "  var py_version = '3.2.2'.replace('rc', '-rc.').replace('.dev', '-dev.');\n",
              "  var is_dev = py_version.indexOf(\"+\") !== -1 || py_version.indexOf(\"-\") !== -1;\n",
              "  var reloading = false;\n",
              "  var Bokeh = root.Bokeh;\n",
              "  var bokeh_loaded = Bokeh != null && (Bokeh.version === py_version || (Bokeh.versions !== undefined && Bokeh.versions.has(py_version)));\n",
              "\n",
              "  if (typeof (root._bokeh_timeout) === \"undefined\" || force) {\n",
              "    root._bokeh_timeout = Date.now() + 5000;\n",
              "    root._bokeh_failed_load = false;\n",
              "  }\n",
              "\n",
              "  function run_callbacks() {\n",
              "    try {\n",
              "      root._bokeh_onload_callbacks.forEach(function(callback) {\n",
              "        if (callback != null)\n",
              "          callback();\n",
              "      });\n",
              "    } finally {\n",
              "      delete root._bokeh_onload_callbacks;\n",
              "    }\n",
              "    console.debug(\"Bokeh: all callbacks have finished\");\n",
              "  }\n",
              "\n",
              "  function load_libs(css_urls, js_urls, js_modules, js_exports, callback) {\n",
              "    if (css_urls == null) css_urls = [];\n",
              "    if (js_urls == null) js_urls = [];\n",
              "    if (js_modules == null) js_modules = [];\n",
              "    if (js_exports == null) js_exports = {};\n",
              "\n",
              "    root._bokeh_onload_callbacks.push(callback);\n",
              "\n",
              "    if (root._bokeh_is_loading > 0) {\n",
              "      console.debug(\"Bokeh: BokehJS is being loaded, scheduling callback at\", now());\n",
              "      return null;\n",
              "    }\n",
              "    if (js_urls.length === 0 && js_modules.length === 0 && Object.keys(js_exports).length === 0) {\n",
              "      run_callbacks();\n",
              "      return null;\n",
              "    }\n",
              "    if (!reloading) {\n",
              "      console.debug(\"Bokeh: BokehJS not loaded, scheduling load and callback at\", now());\n",
              "    }\n",
              "\n",
              "    function on_load() {\n",
              "      root._bokeh_is_loading--;\n",
              "      if (root._bokeh_is_loading === 0) {\n",
              "        console.debug(\"Bokeh: all BokehJS libraries/stylesheets loaded\");\n",
              "        run_callbacks()\n",
              "      }\n",
              "    }\n",
              "    window._bokeh_on_load = on_load\n",
              "\n",
              "    function on_error() {\n",
              "      console.error(\"failed to load \" + url);\n",
              "    }\n",
              "\n",
              "    var skip = [];\n",
              "    if (window.requirejs) {\n",
              "      window.requirejs.config({'packages': {}, 'paths': {'jspanel': 'https://cdn.jsdelivr.net/npm/jspanel4@4.12.0/dist/jspanel', 'jspanel-modal': 'https://cdn.jsdelivr.net/npm/jspanel4@4.12.0/dist/extensions/modal/jspanel.modal', 'jspanel-tooltip': 'https://cdn.jsdelivr.net/npm/jspanel4@4.12.0/dist/extensions/tooltip/jspanel.tooltip', 'jspanel-hint': 'https://cdn.jsdelivr.net/npm/jspanel4@4.12.0/dist/extensions/hint/jspanel.hint', 'jspanel-layout': 'https://cdn.jsdelivr.net/npm/jspanel4@4.12.0/dist/extensions/layout/jspanel.layout', 'jspanel-contextmenu': 'https://cdn.jsdelivr.net/npm/jspanel4@4.12.0/dist/extensions/contextmenu/jspanel.contextmenu', 'jspanel-dock': 'https://cdn.jsdelivr.net/npm/jspanel4@4.12.0/dist/extensions/dock/jspanel.dock', 'gridstack': 'https://cdn.jsdelivr.net/npm/gridstack@7.2.3/dist/gridstack-all', 'notyf': 'https://cdn.jsdelivr.net/npm/notyf@3/notyf.min'}, 'shim': {'jspanel': {'exports': 'jsPanel'}, 'gridstack': {'exports': 'GridStack'}}});\n",
              "      require([\"jspanel\"], function(jsPanel) {\n",
              "\twindow.jsPanel = jsPanel\n",
              "\ton_load()\n",
              "      })\n",
              "      require([\"jspanel-modal\"], function() {\n",
              "\ton_load()\n",
              "      })\n",
              "      require([\"jspanel-tooltip\"], function() {\n",
              "\ton_load()\n",
              "      })\n",
              "      require([\"jspanel-hint\"], function() {\n",
              "\ton_load()\n",
              "      })\n",
              "      require([\"jspanel-layout\"], function() {\n",
              "\ton_load()\n",
              "      })\n",
              "      require([\"jspanel-contextmenu\"], function() {\n",
              "\ton_load()\n",
              "      })\n",
              "      require([\"jspanel-dock\"], function() {\n",
              "\ton_load()\n",
              "      })\n",
              "      require([\"gridstack\"], function(GridStack) {\n",
              "\twindow.GridStack = GridStack\n",
              "\ton_load()\n",
              "      })\n",
              "      require([\"notyf\"], function() {\n",
              "\ton_load()\n",
              "      })\n",
              "      root._bokeh_is_loading = css_urls.length + 9;\n",
              "    } else {\n",
              "      root._bokeh_is_loading = css_urls.length + js_urls.length + js_modules.length + Object.keys(js_exports).length;\n",
              "    }\n",
              "\n",
              "    var existing_stylesheets = []\n",
              "    var links = document.getElementsByTagName('link')\n",
              "    for (var i = 0; i < links.length; i++) {\n",
              "      var link = links[i]\n",
              "      if (link.href != null) {\n",
              "\texisting_stylesheets.push(link.href)\n",
              "      }\n",
              "    }\n",
              "    for (var i = 0; i < css_urls.length; i++) {\n",
              "      var url = css_urls[i];\n",
              "      if (existing_stylesheets.indexOf(url) !== -1) {\n",
              "\ton_load()\n",
              "\tcontinue;\n",
              "      }\n",
              "      const element = document.createElement(\"link\");\n",
              "      element.onload = on_load;\n",
              "      element.onerror = on_error;\n",
              "      element.rel = \"stylesheet\";\n",
              "      element.type = \"text/css\";\n",
              "      element.href = url;\n",
              "      console.debug(\"Bokeh: injecting link tag for BokehJS stylesheet: \", url);\n",
              "      document.body.appendChild(element);\n",
              "    }    if (((window['jsPanel'] !== undefined) && (!(window['jsPanel'] instanceof HTMLElement))) || window.requirejs) {\n",
              "      var urls = ['https://cdn.holoviz.org/panel/1.2.1/dist/bundled/floatpanel/jspanel4@4.12.0/dist/jspanel.js', 'https://cdn.holoviz.org/panel/1.2.1/dist/bundled/floatpanel/jspanel4@4.12.0/dist/extensions/modal/jspanel.modal.js', 'https://cdn.holoviz.org/panel/1.2.1/dist/bundled/floatpanel/jspanel4@4.12.0/dist/extensions/tooltip/jspanel.tooltip.js', 'https://cdn.holoviz.org/panel/1.2.1/dist/bundled/floatpanel/jspanel4@4.12.0/dist/extensions/hint/jspanel.hint.js', 'https://cdn.holoviz.org/panel/1.2.1/dist/bundled/floatpanel/jspanel4@4.12.0/dist/extensions/layout/jspanel.layout.js', 'https://cdn.holoviz.org/panel/1.2.1/dist/bundled/floatpanel/jspanel4@4.12.0/dist/extensions/contextmenu/jspanel.contextmenu.js', 'https://cdn.holoviz.org/panel/1.2.1/dist/bundled/floatpanel/jspanel4@4.12.0/dist/extensions/dock/jspanel.dock.js'];\n",
              "      for (var i = 0; i < urls.length; i++) {\n",
              "        skip.push(urls[i])\n",
              "      }\n",
              "    }    if (((window['GridStack'] !== undefined) && (!(window['GridStack'] instanceof HTMLElement))) || window.requirejs) {\n",
              "      var urls = ['https://cdn.holoviz.org/panel/1.2.1/dist/bundled/gridstack/gridstack@7.2.3/dist/gridstack-all.js'];\n",
              "      for (var i = 0; i < urls.length; i++) {\n",
              "        skip.push(urls[i])\n",
              "      }\n",
              "    }    if (((window['Notyf'] !== undefined) && (!(window['Notyf'] instanceof HTMLElement))) || window.requirejs) {\n",
              "      var urls = ['https://cdn.holoviz.org/panel/1.2.1/dist/bundled/notificationarea/notyf@3/notyf.min.js'];\n",
              "      for (var i = 0; i < urls.length; i++) {\n",
              "        skip.push(urls[i])\n",
              "      }\n",
              "    }    var existing_scripts = []\n",
              "    var scripts = document.getElementsByTagName('script')\n",
              "    for (var i = 0; i < scripts.length; i++) {\n",
              "      var script = scripts[i]\n",
              "      if (script.src != null) {\n",
              "\texisting_scripts.push(script.src)\n",
              "      }\n",
              "    }\n",
              "    for (var i = 0; i < js_urls.length; i++) {\n",
              "      var url = js_urls[i];\n",
              "      if (skip.indexOf(url) !== -1 || existing_scripts.indexOf(url) !== -1) {\n",
              "\tif (!window.requirejs) {\n",
              "\t  on_load();\n",
              "\t}\n",
              "\tcontinue;\n",
              "      }\n",
              "      var element = document.createElement('script');\n",
              "      element.onload = on_load;\n",
              "      element.onerror = on_error;\n",
              "      element.async = false;\n",
              "      element.src = url;\n",
              "      console.debug(\"Bokeh: injecting script tag for BokehJS library: \", url);\n",
              "      document.head.appendChild(element);\n",
              "    }\n",
              "    for (var i = 0; i < js_modules.length; i++) {\n",
              "      var url = js_modules[i];\n",
              "      if (skip.indexOf(url) !== -1 || existing_scripts.indexOf(url) !== -1) {\n",
              "\tif (!window.requirejs) {\n",
              "\t  on_load();\n",
              "\t}\n",
              "\tcontinue;\n",
              "      }\n",
              "      var element = document.createElement('script');\n",
              "      element.onload = on_load;\n",
              "      element.onerror = on_error;\n",
              "      element.async = false;\n",
              "      element.src = url;\n",
              "      element.type = \"module\";\n",
              "      console.debug(\"Bokeh: injecting script tag for BokehJS library: \", url);\n",
              "      document.head.appendChild(element);\n",
              "    }\n",
              "    for (const name in js_exports) {\n",
              "      var url = js_exports[name];\n",
              "      if (skip.indexOf(url) >= 0 || root[name] != null) {\n",
              "\tif (!window.requirejs) {\n",
              "\t  on_load();\n",
              "\t}\n",
              "\tcontinue;\n",
              "      }\n",
              "      var element = document.createElement('script');\n",
              "      element.onerror = on_error;\n",
              "      element.async = false;\n",
              "      element.type = \"module\";\n",
              "      console.debug(\"Bokeh: injecting script tag for BokehJS library: \", url);\n",
              "      element.textContent = `\n",
              "      import ${name} from \"${url}\"\n",
              "      window.${name} = ${name}\n",
              "      window._bokeh_on_load()\n",
              "      `\n",
              "      document.head.appendChild(element);\n",
              "    }\n",
              "    if (!js_urls.length && !js_modules.length) {\n",
              "      on_load()\n",
              "    }\n",
              "  };\n",
              "\n",
              "  function inject_raw_css(css) {\n",
              "    const element = document.createElement(\"style\");\n",
              "    element.appendChild(document.createTextNode(css));\n",
              "    document.body.appendChild(element);\n",
              "  }\n",
              "\n",
              "  var js_urls = [\"https://cdn.bokeh.org/bokeh/release/bokeh-3.2.2.min.js\", \"https://cdn.bokeh.org/bokeh/release/bokeh-gl-3.2.2.min.js\", \"https://cdn.bokeh.org/bokeh/release/bokeh-widgets-3.2.2.min.js\", \"https://cdn.bokeh.org/bokeh/release/bokeh-tables-3.2.2.min.js\", \"https://cdn.holoviz.org/panel/1.2.1/dist/panel.min.js\"];\n",
              "  var js_modules = [];\n",
              "  var js_exports = {};\n",
              "  var css_urls = [];\n",
              "  var inline_js = [    function(Bokeh) {\n",
              "      Bokeh.set_log_level(\"info\");\n",
              "    },\n",
              "function(Bokeh) {} // ensure no trailing comma for IE\n",
              "  ];\n",
              "\n",
              "  function run_inline_js() {\n",
              "    if ((root.Bokeh !== undefined) || (force === true)) {\n",
              "      for (var i = 0; i < inline_js.length; i++) {\n",
              "        inline_js[i].call(root, root.Bokeh);\n",
              "      }\n",
              "      // Cache old bokeh versions\n",
              "      if (Bokeh != undefined && !reloading) {\n",
              "\tvar NewBokeh = root.Bokeh;\n",
              "\tif (Bokeh.versions === undefined) {\n",
              "\t  Bokeh.versions = new Map();\n",
              "\t}\n",
              "\tif (NewBokeh.version !== Bokeh.version) {\n",
              "\t  Bokeh.versions.set(NewBokeh.version, NewBokeh)\n",
              "\t}\n",
              "\troot.Bokeh = Bokeh;\n",
              "      }} else if (Date.now() < root._bokeh_timeout) {\n",
              "      setTimeout(run_inline_js, 100);\n",
              "    } else if (!root._bokeh_failed_load) {\n",
              "      console.log(\"Bokeh: BokehJS failed to load within specified timeout.\");\n",
              "      root._bokeh_failed_load = true;\n",
              "    }\n",
              "    root._bokeh_is_initializing = false\n",
              "  }\n",
              "\n",
              "  function load_or_wait() {\n",
              "    // Implement a backoff loop that tries to ensure we do not load multiple\n",
              "    // versions of Bokeh and its dependencies at the same time.\n",
              "    // In recent versions we use the root._bokeh_is_initializing flag\n",
              "    // to determine whether there is an ongoing attempt to initialize\n",
              "    // bokeh, however for backward compatibility we also try to ensure\n",
              "    // that we do not start loading a newer (Panel>=1.0 and Bokeh>3) version\n",
              "    // before older versions are fully initialized.\n",
              "    if (root._bokeh_is_initializing && Date.now() > root._bokeh_timeout) {\n",
              "      root._bokeh_is_initializing = false;\n",
              "      root._bokeh_onload_callbacks = undefined;\n",
              "      console.log(\"Bokeh: BokehJS was loaded multiple times but one version failed to initialize.\");\n",
              "      load_or_wait();\n",
              "    } else if (root._bokeh_is_initializing || (typeof root._bokeh_is_initializing === \"undefined\" && root._bokeh_onload_callbacks !== undefined)) {\n",
              "      setTimeout(load_or_wait, 100);\n",
              "    } else {\n",
              "      Bokeh = root.Bokeh;\n",
              "      bokeh_loaded = Bokeh != null && (Bokeh.version === py_version || (Bokeh.versions !== undefined && Bokeh.versions.has(py_version)));\n",
              "      root._bokeh_is_initializing = true\n",
              "      root._bokeh_onload_callbacks = []\n",
              "      if (!reloading && (!bokeh_loaded || is_dev)) {\n",
              "\troot.Bokeh = undefined;\n",
              "      }\n",
              "      load_libs(css_urls, js_urls, js_modules, js_exports, function() {\n",
              "\tconsole.debug(\"Bokeh: BokehJS plotting callback run at\", now());\n",
              "\trun_inline_js();\n",
              "      });\n",
              "    }\n",
              "  }\n",
              "  // Give older versions of the autoload script a head-start to ensure\n",
              "  // they initialize before we start loading newer version.\n",
              "  setTimeout(load_or_wait, 100)\n",
              "}(window));"
            ],
            "application/vnd.holoviews_load.v0+json": "(function(root) {\n  function now() {\n    return new Date();\n  }\n\n  var force = true;\n  var py_version = '3.2.2'.replace('rc', '-rc.').replace('.dev', '-dev.');\n  var is_dev = py_version.indexOf(\"+\") !== -1 || py_version.indexOf(\"-\") !== -1;\n  var reloading = false;\n  var Bokeh = root.Bokeh;\n  var bokeh_loaded = Bokeh != null && (Bokeh.version === py_version || (Bokeh.versions !== undefined && Bokeh.versions.has(py_version)));\n\n  if (typeof (root._bokeh_timeout) === \"undefined\" || force) {\n    root._bokeh_timeout = Date.now() + 5000;\n    root._bokeh_failed_load = false;\n  }\n\n  function run_callbacks() {\n    try {\n      root._bokeh_onload_callbacks.forEach(function(callback) {\n        if (callback != null)\n          callback();\n      });\n    } finally {\n      delete root._bokeh_onload_callbacks;\n    }\n    console.debug(\"Bokeh: all callbacks have finished\");\n  }\n\n  function load_libs(css_urls, js_urls, js_modules, js_exports, callback) {\n    if (css_urls == null) css_urls = [];\n    if (js_urls == null) js_urls = [];\n    if (js_modules == null) js_modules = [];\n    if (js_exports == null) js_exports = {};\n\n    root._bokeh_onload_callbacks.push(callback);\n\n    if (root._bokeh_is_loading > 0) {\n      console.debug(\"Bokeh: BokehJS is being loaded, scheduling callback at\", now());\n      return null;\n    }\n    if (js_urls.length === 0 && js_modules.length === 0 && Object.keys(js_exports).length === 0) {\n      run_callbacks();\n      return null;\n    }\n    if (!reloading) {\n      console.debug(\"Bokeh: BokehJS not loaded, scheduling load and callback at\", now());\n    }\n\n    function on_load() {\n      root._bokeh_is_loading--;\n      if (root._bokeh_is_loading === 0) {\n        console.debug(\"Bokeh: all BokehJS libraries/stylesheets loaded\");\n        run_callbacks()\n      }\n    }\n    window._bokeh_on_load = on_load\n\n    function on_error() {\n      console.error(\"failed to load \" + url);\n    }\n\n    var skip = [];\n    if (window.requirejs) {\n      window.requirejs.config({'packages': {}, 'paths': {'jspanel': 'https://cdn.jsdelivr.net/npm/jspanel4@4.12.0/dist/jspanel', 'jspanel-modal': 'https://cdn.jsdelivr.net/npm/jspanel4@4.12.0/dist/extensions/modal/jspanel.modal', 'jspanel-tooltip': 'https://cdn.jsdelivr.net/npm/jspanel4@4.12.0/dist/extensions/tooltip/jspanel.tooltip', 'jspanel-hint': 'https://cdn.jsdelivr.net/npm/jspanel4@4.12.0/dist/extensions/hint/jspanel.hint', 'jspanel-layout': 'https://cdn.jsdelivr.net/npm/jspanel4@4.12.0/dist/extensions/layout/jspanel.layout', 'jspanel-contextmenu': 'https://cdn.jsdelivr.net/npm/jspanel4@4.12.0/dist/extensions/contextmenu/jspanel.contextmenu', 'jspanel-dock': 'https://cdn.jsdelivr.net/npm/jspanel4@4.12.0/dist/extensions/dock/jspanel.dock', 'gridstack': 'https://cdn.jsdelivr.net/npm/gridstack@7.2.3/dist/gridstack-all', 'notyf': 'https://cdn.jsdelivr.net/npm/notyf@3/notyf.min'}, 'shim': {'jspanel': {'exports': 'jsPanel'}, 'gridstack': {'exports': 'GridStack'}}});\n      require([\"jspanel\"], function(jsPanel) {\n\twindow.jsPanel = jsPanel\n\ton_load()\n      })\n      require([\"jspanel-modal\"], function() {\n\ton_load()\n      })\n      require([\"jspanel-tooltip\"], function() {\n\ton_load()\n      })\n      require([\"jspanel-hint\"], function() {\n\ton_load()\n      })\n      require([\"jspanel-layout\"], function() {\n\ton_load()\n      })\n      require([\"jspanel-contextmenu\"], function() {\n\ton_load()\n      })\n      require([\"jspanel-dock\"], function() {\n\ton_load()\n      })\n      require([\"gridstack\"], function(GridStack) {\n\twindow.GridStack = GridStack\n\ton_load()\n      })\n      require([\"notyf\"], function() {\n\ton_load()\n      })\n      root._bokeh_is_loading = css_urls.length + 9;\n    } else {\n      root._bokeh_is_loading = css_urls.length + js_urls.length + js_modules.length + Object.keys(js_exports).length;\n    }\n\n    var existing_stylesheets = []\n    var links = document.getElementsByTagName('link')\n    for (var i = 0; i < links.length; i++) {\n      var link = links[i]\n      if (link.href != null) {\n\texisting_stylesheets.push(link.href)\n      }\n    }\n    for (var i = 0; i < css_urls.length; i++) {\n      var url = css_urls[i];\n      if (existing_stylesheets.indexOf(url) !== -1) {\n\ton_load()\n\tcontinue;\n      }\n      const element = document.createElement(\"link\");\n      element.onload = on_load;\n      element.onerror = on_error;\n      element.rel = \"stylesheet\";\n      element.type = \"text/css\";\n      element.href = url;\n      console.debug(\"Bokeh: injecting link tag for BokehJS stylesheet: \", url);\n      document.body.appendChild(element);\n    }    if (((window['jsPanel'] !== undefined) && (!(window['jsPanel'] instanceof HTMLElement))) || window.requirejs) {\n      var urls = ['https://cdn.holoviz.org/panel/1.2.1/dist/bundled/floatpanel/jspanel4@4.12.0/dist/jspanel.js', 'https://cdn.holoviz.org/panel/1.2.1/dist/bundled/floatpanel/jspanel4@4.12.0/dist/extensions/modal/jspanel.modal.js', 'https://cdn.holoviz.org/panel/1.2.1/dist/bundled/floatpanel/jspanel4@4.12.0/dist/extensions/tooltip/jspanel.tooltip.js', 'https://cdn.holoviz.org/panel/1.2.1/dist/bundled/floatpanel/jspanel4@4.12.0/dist/extensions/hint/jspanel.hint.js', 'https://cdn.holoviz.org/panel/1.2.1/dist/bundled/floatpanel/jspanel4@4.12.0/dist/extensions/layout/jspanel.layout.js', 'https://cdn.holoviz.org/panel/1.2.1/dist/bundled/floatpanel/jspanel4@4.12.0/dist/extensions/contextmenu/jspanel.contextmenu.js', 'https://cdn.holoviz.org/panel/1.2.1/dist/bundled/floatpanel/jspanel4@4.12.0/dist/extensions/dock/jspanel.dock.js'];\n      for (var i = 0; i < urls.length; i++) {\n        skip.push(urls[i])\n      }\n    }    if (((window['GridStack'] !== undefined) && (!(window['GridStack'] instanceof HTMLElement))) || window.requirejs) {\n      var urls = ['https://cdn.holoviz.org/panel/1.2.1/dist/bundled/gridstack/gridstack@7.2.3/dist/gridstack-all.js'];\n      for (var i = 0; i < urls.length; i++) {\n        skip.push(urls[i])\n      }\n    }    if (((window['Notyf'] !== undefined) && (!(window['Notyf'] instanceof HTMLElement))) || window.requirejs) {\n      var urls = ['https://cdn.holoviz.org/panel/1.2.1/dist/bundled/notificationarea/notyf@3/notyf.min.js'];\n      for (var i = 0; i < urls.length; i++) {\n        skip.push(urls[i])\n      }\n    }    var existing_scripts = []\n    var scripts = document.getElementsByTagName('script')\n    for (var i = 0; i < scripts.length; i++) {\n      var script = scripts[i]\n      if (script.src != null) {\n\texisting_scripts.push(script.src)\n      }\n    }\n    for (var i = 0; i < js_urls.length; i++) {\n      var url = js_urls[i];\n      if (skip.indexOf(url) !== -1 || existing_scripts.indexOf(url) !== -1) {\n\tif (!window.requirejs) {\n\t  on_load();\n\t}\n\tcontinue;\n      }\n      var element = document.createElement('script');\n      element.onload = on_load;\n      element.onerror = on_error;\n      element.async = false;\n      element.src = url;\n      console.debug(\"Bokeh: injecting script tag for BokehJS library: \", url);\n      document.head.appendChild(element);\n    }\n    for (var i = 0; i < js_modules.length; i++) {\n      var url = js_modules[i];\n      if (skip.indexOf(url) !== -1 || existing_scripts.indexOf(url) !== -1) {\n\tif (!window.requirejs) {\n\t  on_load();\n\t}\n\tcontinue;\n      }\n      var element = document.createElement('script');\n      element.onload = on_load;\n      element.onerror = on_error;\n      element.async = false;\n      element.src = url;\n      element.type = \"module\";\n      console.debug(\"Bokeh: injecting script tag for BokehJS library: \", url);\n      document.head.appendChild(element);\n    }\n    for (const name in js_exports) {\n      var url = js_exports[name];\n      if (skip.indexOf(url) >= 0 || root[name] != null) {\n\tif (!window.requirejs) {\n\t  on_load();\n\t}\n\tcontinue;\n      }\n      var element = document.createElement('script');\n      element.onerror = on_error;\n      element.async = false;\n      element.type = \"module\";\n      console.debug(\"Bokeh: injecting script tag for BokehJS library: \", url);\n      element.textContent = `\n      import ${name} from \"${url}\"\n      window.${name} = ${name}\n      window._bokeh_on_load()\n      `\n      document.head.appendChild(element);\n    }\n    if (!js_urls.length && !js_modules.length) {\n      on_load()\n    }\n  };\n\n  function inject_raw_css(css) {\n    const element = document.createElement(\"style\");\n    element.appendChild(document.createTextNode(css));\n    document.body.appendChild(element);\n  }\n\n  var js_urls = [\"https://cdn.bokeh.org/bokeh/release/bokeh-3.2.2.min.js\", \"https://cdn.bokeh.org/bokeh/release/bokeh-gl-3.2.2.min.js\", \"https://cdn.bokeh.org/bokeh/release/bokeh-widgets-3.2.2.min.js\", \"https://cdn.bokeh.org/bokeh/release/bokeh-tables-3.2.2.min.js\", \"https://cdn.holoviz.org/panel/1.2.1/dist/panel.min.js\"];\n  var js_modules = [];\n  var js_exports = {};\n  var css_urls = [];\n  var inline_js = [    function(Bokeh) {\n      Bokeh.set_log_level(\"info\");\n    },\nfunction(Bokeh) {} // ensure no trailing comma for IE\n  ];\n\n  function run_inline_js() {\n    if ((root.Bokeh !== undefined) || (force === true)) {\n      for (var i = 0; i < inline_js.length; i++) {\n        inline_js[i].call(root, root.Bokeh);\n      }\n      // Cache old bokeh versions\n      if (Bokeh != undefined && !reloading) {\n\tvar NewBokeh = root.Bokeh;\n\tif (Bokeh.versions === undefined) {\n\t  Bokeh.versions = new Map();\n\t}\n\tif (NewBokeh.version !== Bokeh.version) {\n\t  Bokeh.versions.set(NewBokeh.version, NewBokeh)\n\t}\n\troot.Bokeh = Bokeh;\n      }} else if (Date.now() < root._bokeh_timeout) {\n      setTimeout(run_inline_js, 100);\n    } else if (!root._bokeh_failed_load) {\n      console.log(\"Bokeh: BokehJS failed to load within specified timeout.\");\n      root._bokeh_failed_load = true;\n    }\n    root._bokeh_is_initializing = false\n  }\n\n  function load_or_wait() {\n    // Implement a backoff loop that tries to ensure we do not load multiple\n    // versions of Bokeh and its dependencies at the same time.\n    // In recent versions we use the root._bokeh_is_initializing flag\n    // to determine whether there is an ongoing attempt to initialize\n    // bokeh, however for backward compatibility we also try to ensure\n    // that we do not start loading a newer (Panel>=1.0 and Bokeh>3) version\n    // before older versions are fully initialized.\n    if (root._bokeh_is_initializing && Date.now() > root._bokeh_timeout) {\n      root._bokeh_is_initializing = false;\n      root._bokeh_onload_callbacks = undefined;\n      console.log(\"Bokeh: BokehJS was loaded multiple times but one version failed to initialize.\");\n      load_or_wait();\n    } else if (root._bokeh_is_initializing || (typeof root._bokeh_is_initializing === \"undefined\" && root._bokeh_onload_callbacks !== undefined)) {\n      setTimeout(load_or_wait, 100);\n    } else {\n      Bokeh = root.Bokeh;\n      bokeh_loaded = Bokeh != null && (Bokeh.version === py_version || (Bokeh.versions !== undefined && Bokeh.versions.has(py_version)));\n      root._bokeh_is_initializing = true\n      root._bokeh_onload_callbacks = []\n      if (!reloading && (!bokeh_loaded || is_dev)) {\n\troot.Bokeh = undefined;\n      }\n      load_libs(css_urls, js_urls, js_modules, js_exports, function() {\n\tconsole.debug(\"Bokeh: BokehJS plotting callback run at\", now());\n\trun_inline_js();\n      });\n    }\n  }\n  // Give older versions of the autoload script a head-start to ensure\n  // they initialize before we start loading newer version.\n  setTimeout(load_or_wait, 100)\n}(window));"
          },
          "metadata": {}
        },
        {
          "output_type": "display_data",
          "data": {
            "application/vnd.holoviews_load.v0+json": "\nif ((window.PyViz === undefined) || (window.PyViz instanceof HTMLElement)) {\n  window.PyViz = {comms: {}, comm_status:{}, kernels:{}, receivers: {}, plot_index: []}\n}\n\n\n    function JupyterCommManager() {\n    }\n\n    JupyterCommManager.prototype.register_target = function(plot_id, comm_id, msg_handler) {\n      if (window.comm_manager || ((window.Jupyter !== undefined) && (Jupyter.notebook.kernel != null))) {\n        var comm_manager = window.comm_manager || Jupyter.notebook.kernel.comm_manager;\n        comm_manager.register_target(comm_id, function(comm) {\n          comm.on_msg(msg_handler);\n        });\n      } else if ((plot_id in window.PyViz.kernels) && (window.PyViz.kernels[plot_id])) {\n        window.PyViz.kernels[plot_id].registerCommTarget(comm_id, function(comm) {\n          comm.onMsg = msg_handler;\n        });\n      } else if (typeof google != 'undefined' && google.colab.kernel != null) {\n        google.colab.kernel.comms.registerTarget(comm_id, (comm) => {\n          var messages = comm.messages[Symbol.asyncIterator]();\n          function processIteratorResult(result) {\n            var message = result.value;\n            console.log(message)\n            var content = {data: message.data, comm_id};\n            var buffers = []\n            for (var buffer of message.buffers || []) {\n              buffers.push(new DataView(buffer))\n            }\n            var metadata = message.metadata || {};\n            var msg = {content, buffers, metadata}\n            msg_handler(msg);\n            return messages.next().then(processIteratorResult);\n          }\n          return messages.next().then(processIteratorResult);\n        })\n      }\n    }\n\n    JupyterCommManager.prototype.get_client_comm = function(plot_id, comm_id, msg_handler) {\n      if (comm_id in window.PyViz.comms) {\n        return window.PyViz.comms[comm_id];\n      } else if (window.comm_manager || ((window.Jupyter !== undefined) && (Jupyter.notebook.kernel != null))) {\n        var comm_manager = window.comm_manager || Jupyter.notebook.kernel.comm_manager;\n        var comm = comm_manager.new_comm(comm_id, {}, {}, {}, comm_id);\n        if (msg_handler) {\n          comm.on_msg(msg_handler);\n        }\n      } else if ((plot_id in window.PyViz.kernels) && (window.PyViz.kernels[plot_id])) {\n        var comm = window.PyViz.kernels[plot_id].connectToComm(comm_id);\n        comm.open();\n        if (msg_handler) {\n          comm.onMsg = msg_handler;\n        }\n      } else if (typeof google != 'undefined' && google.colab.kernel != null) {\n        var comm_promise = google.colab.kernel.comms.open(comm_id)\n        comm_promise.then((comm) => {\n          window.PyViz.comms[comm_id] = comm;\n          if (msg_handler) {\n            var messages = comm.messages[Symbol.asyncIterator]();\n            function processIteratorResult(result) {\n              var message = result.value;\n              var content = {data: message.data};\n              var metadata = message.metadata || {comm_id};\n              var msg = {content, metadata}\n              msg_handler(msg);\n              return messages.next().then(processIteratorResult);\n            }\n            return messages.next().then(processIteratorResult);\n          }\n        }) \n        var sendClosure = (data, metadata, buffers, disposeOnDone) => {\n          return comm_promise.then((comm) => {\n            comm.send(data, metadata, buffers, disposeOnDone);\n          });\n        };\n        var comm = {\n          send: sendClosure\n        };\n      }\n      window.PyViz.comms[comm_id] = comm;\n      return comm;\n    }\n    window.PyViz.comm_manager = new JupyterCommManager();\n    \n\n\nvar JS_MIME_TYPE = 'application/javascript';\nvar HTML_MIME_TYPE = 'text/html';\nvar EXEC_MIME_TYPE = 'application/vnd.holoviews_exec.v0+json';\nvar CLASS_NAME = 'output';\n\n/**\n * Render data to the DOM node\n */\nfunction render(props, node) {\n  var div = document.createElement(\"div\");\n  var script = document.createElement(\"script\");\n  node.appendChild(div);\n  node.appendChild(script);\n}\n\n/**\n * Handle when a new output is added\n */\nfunction handle_add_output(event, handle) {\n  var output_area = handle.output_area;\n  var output = handle.output;\n  if ((output.data == undefined) || (!output.data.hasOwnProperty(EXEC_MIME_TYPE))) {\n    return\n  }\n  var id = output.metadata[EXEC_MIME_TYPE][\"id\"];\n  var toinsert = output_area.element.find(\".\" + CLASS_NAME.split(' ')[0]);\n  if (id !== undefined) {\n    var nchildren = toinsert.length;\n    var html_node = toinsert[nchildren-1].children[0];\n    html_node.innerHTML = output.data[HTML_MIME_TYPE];\n    var scripts = [];\n    var nodelist = html_node.querySelectorAll(\"script\");\n    for (var i in nodelist) {\n      if (nodelist.hasOwnProperty(i)) {\n        scripts.push(nodelist[i])\n      }\n    }\n\n    scripts.forEach( function (oldScript) {\n      var newScript = document.createElement(\"script\");\n      var attrs = [];\n      var nodemap = oldScript.attributes;\n      for (var j in nodemap) {\n        if (nodemap.hasOwnProperty(j)) {\n          attrs.push(nodemap[j])\n        }\n      }\n      attrs.forEach(function(attr) { newScript.setAttribute(attr.name, attr.value) });\n      newScript.appendChild(document.createTextNode(oldScript.innerHTML));\n      oldScript.parentNode.replaceChild(newScript, oldScript);\n    });\n    if (JS_MIME_TYPE in output.data) {\n      toinsert[nchildren-1].children[1].textContent = output.data[JS_MIME_TYPE];\n    }\n    output_area._hv_plot_id = id;\n    if ((window.Bokeh !== undefined) && (id in Bokeh.index)) {\n      window.PyViz.plot_index[id] = Bokeh.index[id];\n    } else {\n      window.PyViz.plot_index[id] = null;\n    }\n  } else if (output.metadata[EXEC_MIME_TYPE][\"server_id\"] !== undefined) {\n    var bk_div = document.createElement(\"div\");\n    bk_div.innerHTML = output.data[HTML_MIME_TYPE];\n    var script_attrs = bk_div.children[0].attributes;\n    for (var i = 0; i < script_attrs.length; i++) {\n      toinsert[toinsert.length - 1].childNodes[1].setAttribute(script_attrs[i].name, script_attrs[i].value);\n    }\n    // store reference to server id on output_area\n    output_area._bokeh_server_id = output.metadata[EXEC_MIME_TYPE][\"server_id\"];\n  }\n}\n\n/**\n * Handle when an output is cleared or removed\n */\nfunction handle_clear_output(event, handle) {\n  var id = handle.cell.output_area._hv_plot_id;\n  var server_id = handle.cell.output_area._bokeh_server_id;\n  if (((id === undefined) || !(id in PyViz.plot_index)) && (server_id !== undefined)) { return; }\n  var comm = window.PyViz.comm_manager.get_client_comm(\"hv-extension-comm\", \"hv-extension-comm\", function () {});\n  if (server_id !== null) {\n    comm.send({event_type: 'server_delete', 'id': server_id});\n    return;\n  } else if (comm !== null) {\n    comm.send({event_type: 'delete', 'id': id});\n  }\n  delete PyViz.plot_index[id];\n  if ((window.Bokeh !== undefined) & (id in window.Bokeh.index)) {\n    var doc = window.Bokeh.index[id].model.document\n    doc.clear();\n    const i = window.Bokeh.documents.indexOf(doc);\n    if (i > -1) {\n      window.Bokeh.documents.splice(i, 1);\n    }\n  }\n}\n\n/**\n * Handle kernel restart event\n */\nfunction handle_kernel_cleanup(event, handle) {\n  delete PyViz.comms[\"hv-extension-comm\"];\n  window.PyViz.plot_index = {}\n}\n\n/**\n * Handle update_display_data messages\n */\nfunction handle_update_output(event, handle) {\n  handle_clear_output(event, {cell: {output_area: handle.output_area}})\n  handle_add_output(event, handle)\n}\n\nfunction register_renderer(events, OutputArea) {\n  function append_mime(data, metadata, element) {\n    // create a DOM node to render to\n    var toinsert = this.create_output_subarea(\n    metadata,\n    CLASS_NAME,\n    EXEC_MIME_TYPE\n    );\n    this.keyboard_manager.register_events(toinsert);\n    // Render to node\n    var props = {data: data, metadata: metadata[EXEC_MIME_TYPE]};\n    render(props, toinsert[0]);\n    element.append(toinsert);\n    return toinsert\n  }\n\n  events.on('output_added.OutputArea', handle_add_output);\n  events.on('output_updated.OutputArea', handle_update_output);\n  events.on('clear_output.CodeCell', handle_clear_output);\n  events.on('delete.Cell', handle_clear_output);\n  events.on('kernel_ready.Kernel', handle_kernel_cleanup);\n\n  OutputArea.prototype.register_mime_type(EXEC_MIME_TYPE, append_mime, {\n    safe: true,\n    index: 0\n  });\n}\n\nif (window.Jupyter !== undefined) {\n  try {\n    var events = require('base/js/events');\n    var OutputArea = require('notebook/js/outputarea').OutputArea;\n    if (OutputArea.prototype.mime_types().indexOf(EXEC_MIME_TYPE) == -1) {\n      register_renderer(events, OutputArea);\n    }\n  } catch(err) {\n  }\n}\n",
            "application/javascript": [
              "\n",
              "if ((window.PyViz === undefined) || (window.PyViz instanceof HTMLElement)) {\n",
              "  window.PyViz = {comms: {}, comm_status:{}, kernels:{}, receivers: {}, plot_index: []}\n",
              "}\n",
              "\n",
              "\n",
              "    function JupyterCommManager() {\n",
              "    }\n",
              "\n",
              "    JupyterCommManager.prototype.register_target = function(plot_id, comm_id, msg_handler) {\n",
              "      if (window.comm_manager || ((window.Jupyter !== undefined) && (Jupyter.notebook.kernel != null))) {\n",
              "        var comm_manager = window.comm_manager || Jupyter.notebook.kernel.comm_manager;\n",
              "        comm_manager.register_target(comm_id, function(comm) {\n",
              "          comm.on_msg(msg_handler);\n",
              "        });\n",
              "      } else if ((plot_id in window.PyViz.kernels) && (window.PyViz.kernels[plot_id])) {\n",
              "        window.PyViz.kernels[plot_id].registerCommTarget(comm_id, function(comm) {\n",
              "          comm.onMsg = msg_handler;\n",
              "        });\n",
              "      } else if (typeof google != 'undefined' && google.colab.kernel != null) {\n",
              "        google.colab.kernel.comms.registerTarget(comm_id, (comm) => {\n",
              "          var messages = comm.messages[Symbol.asyncIterator]();\n",
              "          function processIteratorResult(result) {\n",
              "            var message = result.value;\n",
              "            console.log(message)\n",
              "            var content = {data: message.data, comm_id};\n",
              "            var buffers = []\n",
              "            for (var buffer of message.buffers || []) {\n",
              "              buffers.push(new DataView(buffer))\n",
              "            }\n",
              "            var metadata = message.metadata || {};\n",
              "            var msg = {content, buffers, metadata}\n",
              "            msg_handler(msg);\n",
              "            return messages.next().then(processIteratorResult);\n",
              "          }\n",
              "          return messages.next().then(processIteratorResult);\n",
              "        })\n",
              "      }\n",
              "    }\n",
              "\n",
              "    JupyterCommManager.prototype.get_client_comm = function(plot_id, comm_id, msg_handler) {\n",
              "      if (comm_id in window.PyViz.comms) {\n",
              "        return window.PyViz.comms[comm_id];\n",
              "      } else if (window.comm_manager || ((window.Jupyter !== undefined) && (Jupyter.notebook.kernel != null))) {\n",
              "        var comm_manager = window.comm_manager || Jupyter.notebook.kernel.comm_manager;\n",
              "        var comm = comm_manager.new_comm(comm_id, {}, {}, {}, comm_id);\n",
              "        if (msg_handler) {\n",
              "          comm.on_msg(msg_handler);\n",
              "        }\n",
              "      } else if ((plot_id in window.PyViz.kernels) && (window.PyViz.kernels[plot_id])) {\n",
              "        var comm = window.PyViz.kernels[plot_id].connectToComm(comm_id);\n",
              "        comm.open();\n",
              "        if (msg_handler) {\n",
              "          comm.onMsg = msg_handler;\n",
              "        }\n",
              "      } else if (typeof google != 'undefined' && google.colab.kernel != null) {\n",
              "        var comm_promise = google.colab.kernel.comms.open(comm_id)\n",
              "        comm_promise.then((comm) => {\n",
              "          window.PyViz.comms[comm_id] = comm;\n",
              "          if (msg_handler) {\n",
              "            var messages = comm.messages[Symbol.asyncIterator]();\n",
              "            function processIteratorResult(result) {\n",
              "              var message = result.value;\n",
              "              var content = {data: message.data};\n",
              "              var metadata = message.metadata || {comm_id};\n",
              "              var msg = {content, metadata}\n",
              "              msg_handler(msg);\n",
              "              return messages.next().then(processIteratorResult);\n",
              "            }\n",
              "            return messages.next().then(processIteratorResult);\n",
              "          }\n",
              "        }) \n",
              "        var sendClosure = (data, metadata, buffers, disposeOnDone) => {\n",
              "          return comm_promise.then((comm) => {\n",
              "            comm.send(data, metadata, buffers, disposeOnDone);\n",
              "          });\n",
              "        };\n",
              "        var comm = {\n",
              "          send: sendClosure\n",
              "        };\n",
              "      }\n",
              "      window.PyViz.comms[comm_id] = comm;\n",
              "      return comm;\n",
              "    }\n",
              "    window.PyViz.comm_manager = new JupyterCommManager();\n",
              "    \n",
              "\n",
              "\n",
              "var JS_MIME_TYPE = 'application/javascript';\n",
              "var HTML_MIME_TYPE = 'text/html';\n",
              "var EXEC_MIME_TYPE = 'application/vnd.holoviews_exec.v0+json';\n",
              "var CLASS_NAME = 'output';\n",
              "\n",
              "/**\n",
              " * Render data to the DOM node\n",
              " */\n",
              "function render(props, node) {\n",
              "  var div = document.createElement(\"div\");\n",
              "  var script = document.createElement(\"script\");\n",
              "  node.appendChild(div);\n",
              "  node.appendChild(script);\n",
              "}\n",
              "\n",
              "/**\n",
              " * Handle when a new output is added\n",
              " */\n",
              "function handle_add_output(event, handle) {\n",
              "  var output_area = handle.output_area;\n",
              "  var output = handle.output;\n",
              "  if ((output.data == undefined) || (!output.data.hasOwnProperty(EXEC_MIME_TYPE))) {\n",
              "    return\n",
              "  }\n",
              "  var id = output.metadata[EXEC_MIME_TYPE][\"id\"];\n",
              "  var toinsert = output_area.element.find(\".\" + CLASS_NAME.split(' ')[0]);\n",
              "  if (id !== undefined) {\n",
              "    var nchildren = toinsert.length;\n",
              "    var html_node = toinsert[nchildren-1].children[0];\n",
              "    html_node.innerHTML = output.data[HTML_MIME_TYPE];\n",
              "    var scripts = [];\n",
              "    var nodelist = html_node.querySelectorAll(\"script\");\n",
              "    for (var i in nodelist) {\n",
              "      if (nodelist.hasOwnProperty(i)) {\n",
              "        scripts.push(nodelist[i])\n",
              "      }\n",
              "    }\n",
              "\n",
              "    scripts.forEach( function (oldScript) {\n",
              "      var newScript = document.createElement(\"script\");\n",
              "      var attrs = [];\n",
              "      var nodemap = oldScript.attributes;\n",
              "      for (var j in nodemap) {\n",
              "        if (nodemap.hasOwnProperty(j)) {\n",
              "          attrs.push(nodemap[j])\n",
              "        }\n",
              "      }\n",
              "      attrs.forEach(function(attr) { newScript.setAttribute(attr.name, attr.value) });\n",
              "      newScript.appendChild(document.createTextNode(oldScript.innerHTML));\n",
              "      oldScript.parentNode.replaceChild(newScript, oldScript);\n",
              "    });\n",
              "    if (JS_MIME_TYPE in output.data) {\n",
              "      toinsert[nchildren-1].children[1].textContent = output.data[JS_MIME_TYPE];\n",
              "    }\n",
              "    output_area._hv_plot_id = id;\n",
              "    if ((window.Bokeh !== undefined) && (id in Bokeh.index)) {\n",
              "      window.PyViz.plot_index[id] = Bokeh.index[id];\n",
              "    } else {\n",
              "      window.PyViz.plot_index[id] = null;\n",
              "    }\n",
              "  } else if (output.metadata[EXEC_MIME_TYPE][\"server_id\"] !== undefined) {\n",
              "    var bk_div = document.createElement(\"div\");\n",
              "    bk_div.innerHTML = output.data[HTML_MIME_TYPE];\n",
              "    var script_attrs = bk_div.children[0].attributes;\n",
              "    for (var i = 0; i < script_attrs.length; i++) {\n",
              "      toinsert[toinsert.length - 1].childNodes[1].setAttribute(script_attrs[i].name, script_attrs[i].value);\n",
              "    }\n",
              "    // store reference to server id on output_area\n",
              "    output_area._bokeh_server_id = output.metadata[EXEC_MIME_TYPE][\"server_id\"];\n",
              "  }\n",
              "}\n",
              "\n",
              "/**\n",
              " * Handle when an output is cleared or removed\n",
              " */\n",
              "function handle_clear_output(event, handle) {\n",
              "  var id = handle.cell.output_area._hv_plot_id;\n",
              "  var server_id = handle.cell.output_area._bokeh_server_id;\n",
              "  if (((id === undefined) || !(id in PyViz.plot_index)) && (server_id !== undefined)) { return; }\n",
              "  var comm = window.PyViz.comm_manager.get_client_comm(\"hv-extension-comm\", \"hv-extension-comm\", function () {});\n",
              "  if (server_id !== null) {\n",
              "    comm.send({event_type: 'server_delete', 'id': server_id});\n",
              "    return;\n",
              "  } else if (comm !== null) {\n",
              "    comm.send({event_type: 'delete', 'id': id});\n",
              "  }\n",
              "  delete PyViz.plot_index[id];\n",
              "  if ((window.Bokeh !== undefined) & (id in window.Bokeh.index)) {\n",
              "    var doc = window.Bokeh.index[id].model.document\n",
              "    doc.clear();\n",
              "    const i = window.Bokeh.documents.indexOf(doc);\n",
              "    if (i > -1) {\n",
              "      window.Bokeh.documents.splice(i, 1);\n",
              "    }\n",
              "  }\n",
              "}\n",
              "\n",
              "/**\n",
              " * Handle kernel restart event\n",
              " */\n",
              "function handle_kernel_cleanup(event, handle) {\n",
              "  delete PyViz.comms[\"hv-extension-comm\"];\n",
              "  window.PyViz.plot_index = {}\n",
              "}\n",
              "\n",
              "/**\n",
              " * Handle update_display_data messages\n",
              " */\n",
              "function handle_update_output(event, handle) {\n",
              "  handle_clear_output(event, {cell: {output_area: handle.output_area}})\n",
              "  handle_add_output(event, handle)\n",
              "}\n",
              "\n",
              "function register_renderer(events, OutputArea) {\n",
              "  function append_mime(data, metadata, element) {\n",
              "    // create a DOM node to render to\n",
              "    var toinsert = this.create_output_subarea(\n",
              "    metadata,\n",
              "    CLASS_NAME,\n",
              "    EXEC_MIME_TYPE\n",
              "    );\n",
              "    this.keyboard_manager.register_events(toinsert);\n",
              "    // Render to node\n",
              "    var props = {data: data, metadata: metadata[EXEC_MIME_TYPE]};\n",
              "    render(props, toinsert[0]);\n",
              "    element.append(toinsert);\n",
              "    return toinsert\n",
              "  }\n",
              "\n",
              "  events.on('output_added.OutputArea', handle_add_output);\n",
              "  events.on('output_updated.OutputArea', handle_update_output);\n",
              "  events.on('clear_output.CodeCell', handle_clear_output);\n",
              "  events.on('delete.Cell', handle_clear_output);\n",
              "  events.on('kernel_ready.Kernel', handle_kernel_cleanup);\n",
              "\n",
              "  OutputArea.prototype.register_mime_type(EXEC_MIME_TYPE, append_mime, {\n",
              "    safe: true,\n",
              "    index: 0\n",
              "  });\n",
              "}\n",
              "\n",
              "if (window.Jupyter !== undefined) {\n",
              "  try {\n",
              "    var events = require('base/js/events');\n",
              "    var OutputArea = require('notebook/js/outputarea').OutputArea;\n",
              "    if (OutputArea.prototype.mime_types().indexOf(EXEC_MIME_TYPE) == -1) {\n",
              "      register_renderer(events, OutputArea);\n",
              "    }\n",
              "  } catch(err) {\n",
              "  }\n",
              "}\n"
            ]
          },
          "metadata": {}
        },
        {
          "output_type": "display_data",
          "data": {
            "text/html": [
              "<style>*[data-root-id],\n",
              "*[data-root-id] > * {\n",
              "  box-sizing: border-box;\n",
              "  font-family: var(--jp-ui-font-family);\n",
              "  font-size: var(--jp-ui-font-size1);\n",
              "  color: var(--vscode-editor-foreground, var(--jp-ui-font-color1));\n",
              "}\n",
              "\n",
              "/* Override VSCode background color */\n",
              ".cell-output-ipywidget-background:has(\n",
              "    > .cell-output-ipywidget-background > .lm-Widget > *[data-root-id]\n",
              "  ),\n",
              ".cell-output-ipywidget-background:has(> .lm-Widget > *[data-root-id]) {\n",
              "  background-color: transparent !important;\n",
              "}\n",
              "</style>"
            ]
          },
          "metadata": {}
        }
      ],
      "source": [
        "import numpy as np\n",
        "import pandas as pd\n",
        "import matplotlib.pyplot as plt\n",
        "import seaborn as sns\n",
        "import hvplot.pandas\n",
        "import sklearn.datasets\n",
        "from sklearn.model_selection import train_test_split\n",
        "from xgboost import XGBRFRegressor\n",
        "from sklearn import metrics"
      ]
    },
    {
      "cell_type": "markdown",
      "source": [
        "Check out the data"
      ],
      "metadata": {
        "id": "YtA9p0PP3u9C"
      }
    },
    {
      "cell_type": "code",
      "execution_count": 2,
      "metadata": {
        "id": "ol0iE2Q0BCiB"
      },
      "outputs": [],
      "source": [
        "house_price_dataset = pd.read_csv(\"/content/drive/MyDrive/USA_Housing.csv\")"
      ]
    },
    {
      "cell_type": "code",
      "execution_count": 3,
      "metadata": {
        "colab": {
          "base_uri": "https://localhost:8080/",
          "height": 434
        },
        "id": "NdZl8Q3nBXLY",
        "outputId": "5c4fe38a-68f3-4e9f-cd72-abfe66ea6074"
      },
      "outputs": [
        {
          "output_type": "execute_result",
          "data": {
            "text/plain": [
              "   Avg. Area Income  Avg. Area House Age  Avg. Area Number of Rooms  \\\n",
              "0      79545.458574             5.682861                   7.009188   \n",
              "1      79248.642455             6.002900                   6.730821   \n",
              "2      61287.067179             5.865890                   8.512727   \n",
              "3      63345.240046             7.188236                   5.586729   \n",
              "4      59982.197226             5.040555                   7.839388   \n",
              "\n",
              "   Avg. Area Number of Bedrooms  Area Population         Price  \\\n",
              "0                          4.09     23086.800503  1.059034e+06   \n",
              "1                          3.09     40173.072174  1.505891e+06   \n",
              "2                          5.13     36882.159400  1.058988e+06   \n",
              "3                          3.26     34310.242831  1.260617e+06   \n",
              "4                          4.23     26354.109472  6.309435e+05   \n",
              "\n",
              "                                             Address  \n",
              "0  208 Michael Ferry Apt. 674\\nLaurabury, NE 3701...  \n",
              "1  188 Johnson Views Suite 079\\nLake Kathleen, CA...  \n",
              "2  9127 Elizabeth Stravenue\\nDanieltown, WI 06482...  \n",
              "3                          USS Barnett\\nFPO AP 44820  \n",
              "4                         USNS Raymond\\nFPO AE 09386  "
            ],
            "text/html": [
              "\n",
              "  <div id=\"df-448a6e6e-b955-4fbc-9a3b-3309ea07c8bb\" class=\"colab-df-container\">\n",
              "    <div>\n",
              "<style scoped>\n",
              "    .dataframe tbody tr th:only-of-type {\n",
              "        vertical-align: middle;\n",
              "    }\n",
              "\n",
              "    .dataframe tbody tr th {\n",
              "        vertical-align: top;\n",
              "    }\n",
              "\n",
              "    .dataframe thead th {\n",
              "        text-align: right;\n",
              "    }\n",
              "</style>\n",
              "<table border=\"1\" class=\"dataframe\">\n",
              "  <thead>\n",
              "    <tr style=\"text-align: right;\">\n",
              "      <th></th>\n",
              "      <th>Avg. Area Income</th>\n",
              "      <th>Avg. Area House Age</th>\n",
              "      <th>Avg. Area Number of Rooms</th>\n",
              "      <th>Avg. Area Number of Bedrooms</th>\n",
              "      <th>Area Population</th>\n",
              "      <th>Price</th>\n",
              "      <th>Address</th>\n",
              "    </tr>\n",
              "  </thead>\n",
              "  <tbody>\n",
              "    <tr>\n",
              "      <th>0</th>\n",
              "      <td>79545.458574</td>\n",
              "      <td>5.682861</td>\n",
              "      <td>7.009188</td>\n",
              "      <td>4.09</td>\n",
              "      <td>23086.800503</td>\n",
              "      <td>1.059034e+06</td>\n",
              "      <td>208 Michael Ferry Apt. 674\\nLaurabury, NE 3701...</td>\n",
              "    </tr>\n",
              "    <tr>\n",
              "      <th>1</th>\n",
              "      <td>79248.642455</td>\n",
              "      <td>6.002900</td>\n",
              "      <td>6.730821</td>\n",
              "      <td>3.09</td>\n",
              "      <td>40173.072174</td>\n",
              "      <td>1.505891e+06</td>\n",
              "      <td>188 Johnson Views Suite 079\\nLake Kathleen, CA...</td>\n",
              "    </tr>\n",
              "    <tr>\n",
              "      <th>2</th>\n",
              "      <td>61287.067179</td>\n",
              "      <td>5.865890</td>\n",
              "      <td>8.512727</td>\n",
              "      <td>5.13</td>\n",
              "      <td>36882.159400</td>\n",
              "      <td>1.058988e+06</td>\n",
              "      <td>9127 Elizabeth Stravenue\\nDanieltown, WI 06482...</td>\n",
              "    </tr>\n",
              "    <tr>\n",
              "      <th>3</th>\n",
              "      <td>63345.240046</td>\n",
              "      <td>7.188236</td>\n",
              "      <td>5.586729</td>\n",
              "      <td>3.26</td>\n",
              "      <td>34310.242831</td>\n",
              "      <td>1.260617e+06</td>\n",
              "      <td>USS Barnett\\nFPO AP 44820</td>\n",
              "    </tr>\n",
              "    <tr>\n",
              "      <th>4</th>\n",
              "      <td>59982.197226</td>\n",
              "      <td>5.040555</td>\n",
              "      <td>7.839388</td>\n",
              "      <td>4.23</td>\n",
              "      <td>26354.109472</td>\n",
              "      <td>6.309435e+05</td>\n",
              "      <td>USNS Raymond\\nFPO AE 09386</td>\n",
              "    </tr>\n",
              "  </tbody>\n",
              "</table>\n",
              "</div>\n",
              "    <div class=\"colab-df-buttons\">\n",
              "\n",
              "  <div class=\"colab-df-container\">\n",
              "    <button class=\"colab-df-convert\" onclick=\"convertToInteractive('df-448a6e6e-b955-4fbc-9a3b-3309ea07c8bb')\"\n",
              "            title=\"Convert this dataframe to an interactive table.\"\n",
              "            style=\"display:none;\">\n",
              "\n",
              "  <svg xmlns=\"http://www.w3.org/2000/svg\" height=\"24px\" viewBox=\"0 -960 960 960\">\n",
              "    <path d=\"M120-120v-720h720v720H120Zm60-500h600v-160H180v160Zm220 220h160v-160H400v160Zm0 220h160v-160H400v160ZM180-400h160v-160H180v160Zm440 0h160v-160H620v160ZM180-180h160v-160H180v160Zm440 0h160v-160H620v160Z\"/>\n",
              "  </svg>\n",
              "    </button>\n",
              "\n",
              "  <style>\n",
              "    .colab-df-container {\n",
              "      display:flex;\n",
              "      gap: 12px;\n",
              "    }\n",
              "\n",
              "    .colab-df-convert {\n",
              "      background-color: #E8F0FE;\n",
              "      border: none;\n",
              "      border-radius: 50%;\n",
              "      cursor: pointer;\n",
              "      display: none;\n",
              "      fill: #1967D2;\n",
              "      height: 32px;\n",
              "      padding: 0 0 0 0;\n",
              "      width: 32px;\n",
              "    }\n",
              "\n",
              "    .colab-df-convert:hover {\n",
              "      background-color: #E2EBFA;\n",
              "      box-shadow: 0px 1px 2px rgba(60, 64, 67, 0.3), 0px 1px 3px 1px rgba(60, 64, 67, 0.15);\n",
              "      fill: #174EA6;\n",
              "    }\n",
              "\n",
              "    .colab-df-buttons div {\n",
              "      margin-bottom: 4px;\n",
              "    }\n",
              "\n",
              "    [theme=dark] .colab-df-convert {\n",
              "      background-color: #3B4455;\n",
              "      fill: #D2E3FC;\n",
              "    }\n",
              "\n",
              "    [theme=dark] .colab-df-convert:hover {\n",
              "      background-color: #434B5C;\n",
              "      box-shadow: 0px 1px 3px 1px rgba(0, 0, 0, 0.15);\n",
              "      filter: drop-shadow(0px 1px 2px rgba(0, 0, 0, 0.3));\n",
              "      fill: #FFFFFF;\n",
              "    }\n",
              "  </style>\n",
              "\n",
              "    <script>\n",
              "      const buttonEl =\n",
              "        document.querySelector('#df-448a6e6e-b955-4fbc-9a3b-3309ea07c8bb button.colab-df-convert');\n",
              "      buttonEl.style.display =\n",
              "        google.colab.kernel.accessAllowed ? 'block' : 'none';\n",
              "\n",
              "      async function convertToInteractive(key) {\n",
              "        const element = document.querySelector('#df-448a6e6e-b955-4fbc-9a3b-3309ea07c8bb');\n",
              "        const dataTable =\n",
              "          await google.colab.kernel.invokeFunction('convertToInteractive',\n",
              "                                                    [key], {});\n",
              "        if (!dataTable) return;\n",
              "\n",
              "        const docLinkHtml = 'Like what you see? Visit the ' +\n",
              "          '<a target=\"_blank\" href=https://colab.research.google.com/notebooks/data_table.ipynb>data table notebook</a>'\n",
              "          + ' to learn more about interactive tables.';\n",
              "        element.innerHTML = '';\n",
              "        dataTable['output_type'] = 'display_data';\n",
              "        await google.colab.output.renderOutput(dataTable, element);\n",
              "        const docLink = document.createElement('div');\n",
              "        docLink.innerHTML = docLinkHtml;\n",
              "        element.appendChild(docLink);\n",
              "      }\n",
              "    </script>\n",
              "  </div>\n",
              "\n",
              "\n",
              "<div id=\"df-bd1aefad-dddd-4b79-8eeb-f41fca2aa3c5\">\n",
              "  <button class=\"colab-df-quickchart\" onclick=\"quickchart('df-bd1aefad-dddd-4b79-8eeb-f41fca2aa3c5')\"\n",
              "            title=\"Suggest charts.\"\n",
              "            style=\"display:none;\">\n",
              "\n",
              "<svg xmlns=\"http://www.w3.org/2000/svg\" height=\"24px\"viewBox=\"0 0 24 24\"\n",
              "     width=\"24px\">\n",
              "    <g>\n",
              "        <path d=\"M19 3H5c-1.1 0-2 .9-2 2v14c0 1.1.9 2 2 2h14c1.1 0 2-.9 2-2V5c0-1.1-.9-2-2-2zM9 17H7v-7h2v7zm4 0h-2V7h2v10zm4 0h-2v-4h2v4z\"/>\n",
              "    </g>\n",
              "</svg>\n",
              "  </button>\n",
              "\n",
              "<style>\n",
              "  .colab-df-quickchart {\n",
              "    background-color: #E8F0FE;\n",
              "    border: none;\n",
              "    border-radius: 50%;\n",
              "    cursor: pointer;\n",
              "    display: none;\n",
              "    fill: #1967D2;\n",
              "    height: 32px;\n",
              "    padding: 0 0 0 0;\n",
              "    width: 32px;\n",
              "  }\n",
              "\n",
              "  .colab-df-quickchart:hover {\n",
              "    background-color: #E2EBFA;\n",
              "    box-shadow: 0px 1px 2px rgba(60, 64, 67, 0.3), 0px 1px 3px 1px rgba(60, 64, 67, 0.15);\n",
              "    fill: #174EA6;\n",
              "  }\n",
              "\n",
              "  [theme=dark] .colab-df-quickchart {\n",
              "    background-color: #3B4455;\n",
              "    fill: #D2E3FC;\n",
              "  }\n",
              "\n",
              "  [theme=dark] .colab-df-quickchart:hover {\n",
              "    background-color: #434B5C;\n",
              "    box-shadow: 0px 1px 3px 1px rgba(0, 0, 0, 0.15);\n",
              "    filter: drop-shadow(0px 1px 2px rgba(0, 0, 0, 0.3));\n",
              "    fill: #FFFFFF;\n",
              "  }\n",
              "</style>\n",
              "\n",
              "  <script>\n",
              "    async function quickchart(key) {\n",
              "      const charts = await google.colab.kernel.invokeFunction(\n",
              "          'suggestCharts', [key], {});\n",
              "    }\n",
              "    (() => {\n",
              "      let quickchartButtonEl =\n",
              "        document.querySelector('#df-bd1aefad-dddd-4b79-8eeb-f41fca2aa3c5 button');\n",
              "      quickchartButtonEl.style.display =\n",
              "        google.colab.kernel.accessAllowed ? 'block' : 'none';\n",
              "    })();\n",
              "  </script>\n",
              "</div>\n",
              "    </div>\n",
              "  </div>\n"
            ]
          },
          "metadata": {},
          "execution_count": 3
        }
      ],
      "source": [
        "house_price_dataset.head()"
      ]
    },
    {
      "cell_type": "markdown",
      "metadata": {
        "id": "nBToL6BfCQFl"
      },
      "source": [
        "# New section"
      ]
    },
    {
      "cell_type": "code",
      "source": [
        "house_price_dataset.shape"
      ],
      "metadata": {
        "colab": {
          "base_uri": "https://localhost:8080/",
          "height": 0
        },
        "id": "EIJtvuAo5XyP",
        "outputId": "6839d4d1-2954-4507-8f40-6946a3a2a443"
      },
      "execution_count": 4,
      "outputs": [
        {
          "output_type": "execute_result",
          "data": {
            "text/plain": [
              "(5000, 7)"
            ]
          },
          "metadata": {},
          "execution_count": 4
        }
      ]
    },
    {
      "cell_type": "code",
      "execution_count": 5,
      "metadata": {
        "id": "UL5A9oD0ErHz",
        "colab": {
          "base_uri": "https://localhost:8080/",
          "height": 0
        },
        "outputId": "42f5df01-2e72-422f-a35a-848d9b81c4b9"
      },
      "outputs": [
        {
          "output_type": "stream",
          "name": "stdout",
          "text": [
            "<class 'pandas.core.frame.DataFrame'>\n",
            "RangeIndex: 5000 entries, 0 to 4999\n",
            "Data columns (total 7 columns):\n",
            " #   Column                        Non-Null Count  Dtype  \n",
            "---  ------                        --------------  -----  \n",
            " 0   Avg. Area Income              5000 non-null   float64\n",
            " 1   Avg. Area House Age           5000 non-null   float64\n",
            " 2   Avg. Area Number of Rooms     5000 non-null   float64\n",
            " 3   Avg. Area Number of Bedrooms  5000 non-null   float64\n",
            " 4   Area Population               5000 non-null   float64\n",
            " 5   Price                         5000 non-null   float64\n",
            " 6   Address                       5000 non-null   object \n",
            "dtypes: float64(6), object(1)\n",
            "memory usage: 273.6+ KB\n"
          ]
        }
      ],
      "source": [
        "house_price_dataset.info()"
      ]
    },
    {
      "cell_type": "code",
      "execution_count": 6,
      "metadata": {
        "colab": {
          "base_uri": "https://localhost:8080/",
          "height": 355
        },
        "id": "WxIVEAuNFUpM",
        "outputId": "52ab28a5-07be-4ba4-c1b9-368be3bf59ec"
      },
      "outputs": [
        {
          "output_type": "execute_result",
          "data": {
            "text/plain": [
              "       Avg. Area Income  Avg. Area House Age  Avg. Area Number of Rooms  \\\n",
              "count       5000.000000          5000.000000                5000.000000   \n",
              "mean       68583.108984             5.977222                   6.987792   \n",
              "std        10657.991214             0.991456                   1.005833   \n",
              "min        17796.631190             2.644304                   3.236194   \n",
              "25%        61480.562388             5.322283                   6.299250   \n",
              "50%        68804.286404             5.970429                   7.002902   \n",
              "75%        75783.338666             6.650808                   7.665871   \n",
              "max       107701.748378             9.519088                  10.759588   \n",
              "\n",
              "       Avg. Area Number of Bedrooms  Area Population         Price  \n",
              "count                   5000.000000      5000.000000  5.000000e+03  \n",
              "mean                       3.981330     36163.516039  1.232073e+06  \n",
              "std                        1.234137      9925.650114  3.531176e+05  \n",
              "min                        2.000000       172.610686  1.593866e+04  \n",
              "25%                        3.140000     29403.928702  9.975771e+05  \n",
              "50%                        4.050000     36199.406689  1.232669e+06  \n",
              "75%                        4.490000     42861.290769  1.471210e+06  \n",
              "max                        6.500000     69621.713378  2.469066e+06  "
            ],
            "text/html": [
              "\n",
              "  <div id=\"df-9e7546d0-1161-4366-90b6-625247a426fc\" class=\"colab-df-container\">\n",
              "    <div>\n",
              "<style scoped>\n",
              "    .dataframe tbody tr th:only-of-type {\n",
              "        vertical-align: middle;\n",
              "    }\n",
              "\n",
              "    .dataframe tbody tr th {\n",
              "        vertical-align: top;\n",
              "    }\n",
              "\n",
              "    .dataframe thead th {\n",
              "        text-align: right;\n",
              "    }\n",
              "</style>\n",
              "<table border=\"1\" class=\"dataframe\">\n",
              "  <thead>\n",
              "    <tr style=\"text-align: right;\">\n",
              "      <th></th>\n",
              "      <th>Avg. Area Income</th>\n",
              "      <th>Avg. Area House Age</th>\n",
              "      <th>Avg. Area Number of Rooms</th>\n",
              "      <th>Avg. Area Number of Bedrooms</th>\n",
              "      <th>Area Population</th>\n",
              "      <th>Price</th>\n",
              "    </tr>\n",
              "  </thead>\n",
              "  <tbody>\n",
              "    <tr>\n",
              "      <th>count</th>\n",
              "      <td>5000.000000</td>\n",
              "      <td>5000.000000</td>\n",
              "      <td>5000.000000</td>\n",
              "      <td>5000.000000</td>\n",
              "      <td>5000.000000</td>\n",
              "      <td>5.000000e+03</td>\n",
              "    </tr>\n",
              "    <tr>\n",
              "      <th>mean</th>\n",
              "      <td>68583.108984</td>\n",
              "      <td>5.977222</td>\n",
              "      <td>6.987792</td>\n",
              "      <td>3.981330</td>\n",
              "      <td>36163.516039</td>\n",
              "      <td>1.232073e+06</td>\n",
              "    </tr>\n",
              "    <tr>\n",
              "      <th>std</th>\n",
              "      <td>10657.991214</td>\n",
              "      <td>0.991456</td>\n",
              "      <td>1.005833</td>\n",
              "      <td>1.234137</td>\n",
              "      <td>9925.650114</td>\n",
              "      <td>3.531176e+05</td>\n",
              "    </tr>\n",
              "    <tr>\n",
              "      <th>min</th>\n",
              "      <td>17796.631190</td>\n",
              "      <td>2.644304</td>\n",
              "      <td>3.236194</td>\n",
              "      <td>2.000000</td>\n",
              "      <td>172.610686</td>\n",
              "      <td>1.593866e+04</td>\n",
              "    </tr>\n",
              "    <tr>\n",
              "      <th>25%</th>\n",
              "      <td>61480.562388</td>\n",
              "      <td>5.322283</td>\n",
              "      <td>6.299250</td>\n",
              "      <td>3.140000</td>\n",
              "      <td>29403.928702</td>\n",
              "      <td>9.975771e+05</td>\n",
              "    </tr>\n",
              "    <tr>\n",
              "      <th>50%</th>\n",
              "      <td>68804.286404</td>\n",
              "      <td>5.970429</td>\n",
              "      <td>7.002902</td>\n",
              "      <td>4.050000</td>\n",
              "      <td>36199.406689</td>\n",
              "      <td>1.232669e+06</td>\n",
              "    </tr>\n",
              "    <tr>\n",
              "      <th>75%</th>\n",
              "      <td>75783.338666</td>\n",
              "      <td>6.650808</td>\n",
              "      <td>7.665871</td>\n",
              "      <td>4.490000</td>\n",
              "      <td>42861.290769</td>\n",
              "      <td>1.471210e+06</td>\n",
              "    </tr>\n",
              "    <tr>\n",
              "      <th>max</th>\n",
              "      <td>107701.748378</td>\n",
              "      <td>9.519088</td>\n",
              "      <td>10.759588</td>\n",
              "      <td>6.500000</td>\n",
              "      <td>69621.713378</td>\n",
              "      <td>2.469066e+06</td>\n",
              "    </tr>\n",
              "  </tbody>\n",
              "</table>\n",
              "</div>\n",
              "    <div class=\"colab-df-buttons\">\n",
              "\n",
              "  <div class=\"colab-df-container\">\n",
              "    <button class=\"colab-df-convert\" onclick=\"convertToInteractive('df-9e7546d0-1161-4366-90b6-625247a426fc')\"\n",
              "            title=\"Convert this dataframe to an interactive table.\"\n",
              "            style=\"display:none;\">\n",
              "\n",
              "  <svg xmlns=\"http://www.w3.org/2000/svg\" height=\"24px\" viewBox=\"0 -960 960 960\">\n",
              "    <path d=\"M120-120v-720h720v720H120Zm60-500h600v-160H180v160Zm220 220h160v-160H400v160Zm0 220h160v-160H400v160ZM180-400h160v-160H180v160Zm440 0h160v-160H620v160ZM180-180h160v-160H180v160Zm440 0h160v-160H620v160Z\"/>\n",
              "  </svg>\n",
              "    </button>\n",
              "\n",
              "  <style>\n",
              "    .colab-df-container {\n",
              "      display:flex;\n",
              "      gap: 12px;\n",
              "    }\n",
              "\n",
              "    .colab-df-convert {\n",
              "      background-color: #E8F0FE;\n",
              "      border: none;\n",
              "      border-radius: 50%;\n",
              "      cursor: pointer;\n",
              "      display: none;\n",
              "      fill: #1967D2;\n",
              "      height: 32px;\n",
              "      padding: 0 0 0 0;\n",
              "      width: 32px;\n",
              "    }\n",
              "\n",
              "    .colab-df-convert:hover {\n",
              "      background-color: #E2EBFA;\n",
              "      box-shadow: 0px 1px 2px rgba(60, 64, 67, 0.3), 0px 1px 3px 1px rgba(60, 64, 67, 0.15);\n",
              "      fill: #174EA6;\n",
              "    }\n",
              "\n",
              "    .colab-df-buttons div {\n",
              "      margin-bottom: 4px;\n",
              "    }\n",
              "\n",
              "    [theme=dark] .colab-df-convert {\n",
              "      background-color: #3B4455;\n",
              "      fill: #D2E3FC;\n",
              "    }\n",
              "\n",
              "    [theme=dark] .colab-df-convert:hover {\n",
              "      background-color: #434B5C;\n",
              "      box-shadow: 0px 1px 3px 1px rgba(0, 0, 0, 0.15);\n",
              "      filter: drop-shadow(0px 1px 2px rgba(0, 0, 0, 0.3));\n",
              "      fill: #FFFFFF;\n",
              "    }\n",
              "  </style>\n",
              "\n",
              "    <script>\n",
              "      const buttonEl =\n",
              "        document.querySelector('#df-9e7546d0-1161-4366-90b6-625247a426fc button.colab-df-convert');\n",
              "      buttonEl.style.display =\n",
              "        google.colab.kernel.accessAllowed ? 'block' : 'none';\n",
              "\n",
              "      async function convertToInteractive(key) {\n",
              "        const element = document.querySelector('#df-9e7546d0-1161-4366-90b6-625247a426fc');\n",
              "        const dataTable =\n",
              "          await google.colab.kernel.invokeFunction('convertToInteractive',\n",
              "                                                    [key], {});\n",
              "        if (!dataTable) return;\n",
              "\n",
              "        const docLinkHtml = 'Like what you see? Visit the ' +\n",
              "          '<a target=\"_blank\" href=https://colab.research.google.com/notebooks/data_table.ipynb>data table notebook</a>'\n",
              "          + ' to learn more about interactive tables.';\n",
              "        element.innerHTML = '';\n",
              "        dataTable['output_type'] = 'display_data';\n",
              "        await google.colab.output.renderOutput(dataTable, element);\n",
              "        const docLink = document.createElement('div');\n",
              "        docLink.innerHTML = docLinkHtml;\n",
              "        element.appendChild(docLink);\n",
              "      }\n",
              "    </script>\n",
              "  </div>\n",
              "\n",
              "\n",
              "<div id=\"df-63e4745c-a386-432f-9578-ef8fc094e843\">\n",
              "  <button class=\"colab-df-quickchart\" onclick=\"quickchart('df-63e4745c-a386-432f-9578-ef8fc094e843')\"\n",
              "            title=\"Suggest charts.\"\n",
              "            style=\"display:none;\">\n",
              "\n",
              "<svg xmlns=\"http://www.w3.org/2000/svg\" height=\"24px\"viewBox=\"0 0 24 24\"\n",
              "     width=\"24px\">\n",
              "    <g>\n",
              "        <path d=\"M19 3H5c-1.1 0-2 .9-2 2v14c0 1.1.9 2 2 2h14c1.1 0 2-.9 2-2V5c0-1.1-.9-2-2-2zM9 17H7v-7h2v7zm4 0h-2V7h2v10zm4 0h-2v-4h2v4z\"/>\n",
              "    </g>\n",
              "</svg>\n",
              "  </button>\n",
              "\n",
              "<style>\n",
              "  .colab-df-quickchart {\n",
              "    background-color: #E8F0FE;\n",
              "    border: none;\n",
              "    border-radius: 50%;\n",
              "    cursor: pointer;\n",
              "    display: none;\n",
              "    fill: #1967D2;\n",
              "    height: 32px;\n",
              "    padding: 0 0 0 0;\n",
              "    width: 32px;\n",
              "  }\n",
              "\n",
              "  .colab-df-quickchart:hover {\n",
              "    background-color: #E2EBFA;\n",
              "    box-shadow: 0px 1px 2px rgba(60, 64, 67, 0.3), 0px 1px 3px 1px rgba(60, 64, 67, 0.15);\n",
              "    fill: #174EA6;\n",
              "  }\n",
              "\n",
              "  [theme=dark] .colab-df-quickchart {\n",
              "    background-color: #3B4455;\n",
              "    fill: #D2E3FC;\n",
              "  }\n",
              "\n",
              "  [theme=dark] .colab-df-quickchart:hover {\n",
              "    background-color: #434B5C;\n",
              "    box-shadow: 0px 1px 3px 1px rgba(0, 0, 0, 0.15);\n",
              "    filter: drop-shadow(0px 1px 2px rgba(0, 0, 0, 0.3));\n",
              "    fill: #FFFFFF;\n",
              "  }\n",
              "</style>\n",
              "\n",
              "  <script>\n",
              "    async function quickchart(key) {\n",
              "      const charts = await google.colab.kernel.invokeFunction(\n",
              "          'suggestCharts', [key], {});\n",
              "    }\n",
              "    (() => {\n",
              "      let quickchartButtonEl =\n",
              "        document.querySelector('#df-63e4745c-a386-432f-9578-ef8fc094e843 button');\n",
              "      quickchartButtonEl.style.display =\n",
              "        google.colab.kernel.accessAllowed ? 'block' : 'none';\n",
              "    })();\n",
              "  </script>\n",
              "</div>\n",
              "    </div>\n",
              "  </div>\n"
            ]
          },
          "metadata": {},
          "execution_count": 6
        }
      ],
      "source": [
        "house_price_dataset.describe()"
      ]
    },
    {
      "cell_type": "code",
      "execution_count": 7,
      "metadata": {
        "id": "H2mf12CrGW3l",
        "colab": {
          "base_uri": "https://localhost:8080/",
          "height": 0
        },
        "outputId": "0a25b2ae-56ed-4dc7-c06a-37aa8ebe0db3"
      },
      "outputs": [
        {
          "output_type": "execute_result",
          "data": {
            "text/plain": [
              "Index(['Avg. Area Income', 'Avg. Area House Age', 'Avg. Area Number of Rooms',\n",
              "       'Avg. Area Number of Bedrooms', 'Area Population', 'Price', 'Address'],\n",
              "      dtype='object')"
            ]
          },
          "metadata": {},
          "execution_count": 7
        }
      ],
      "source": [
        "house_price_dataset.columns"
      ]
    },
    {
      "cell_type": "code",
      "source": [
        "#check for missing values\n",
        "house_price_dataset.isnull().sum()"
      ],
      "metadata": {
        "colab": {
          "base_uri": "https://localhost:8080/",
          "height": 0
        },
        "id": "Dvvi1VX1gy2x",
        "outputId": "2811520e-92bd-44f9-8cfe-aada250f89fb"
      },
      "execution_count": 8,
      "outputs": [
        {
          "output_type": "execute_result",
          "data": {
            "text/plain": [
              "Avg. Area Income                0\n",
              "Avg. Area House Age             0\n",
              "Avg. Area Number of Rooms       0\n",
              "Avg. Area Number of Bedrooms    0\n",
              "Area Population                 0\n",
              "Price                           0\n",
              "Address                         0\n",
              "dtype: int64"
            ]
          },
          "metadata": {},
          "execution_count": 8
        }
      ]
    },
    {
      "cell_type": "markdown",
      "source": [
        "**Exploratory Data Analysis (EDA)**"
      ],
      "metadata": {
        "id": "-eUjz6S05sZ9"
      }
    },
    {
      "cell_type": "code",
      "source": [
        "sns.pairplot(house_price_dataset)"
      ],
      "metadata": {
        "colab": {
          "base_uri": "https://localhost:8080/",
          "height": 0
        },
        "id": "HikXatFJhCYW",
        "outputId": "ce5c1ae8-502b-4f7c-f124-667263e6a34d"
      },
      "execution_count": 9,
      "outputs": [
        {
          "output_type": "execute_result",
          "data": {
            "text/plain": [
              "<seaborn.axisgrid.PairGrid at 0x7bf665140f70>"
            ]
          },
          "metadata": {},
          "execution_count": 9
        }
      ]
    },
    {
      "cell_type": "code",
      "source": [
        "house_price_dataset.hvplot.hist(by='Price',subplots=False,width=1000)"
      ],
      "metadata": {
        "id": "taQvyLi8hps4"
      },
      "execution_count": null,
      "outputs": []
    },
    {
      "cell_type": "code",
      "source": [
        "house_price_dataset.hvplot.hist(\"Price\")"
      ],
      "metadata": {
        "colab": {
          "base_uri": "https://localhost:8080/",
          "height": 17
        },
        "id": "-4uHYDJ36Z_f",
        "outputId": "dfbb20f4-ccb9-45ca-96a8-b84cfe0b8eb3"
      },
      "execution_count": 11,
      "outputs": [
        {
          "data": {},
          "metadata": {},
          "output_type": "display_data"
        },
        {
          "data": {
            "application/vnd.holoviews_exec.v0+json": "",
            "text/html": [
              "<div id='p1154'>\n",
              "  <div id=\"f24667a4-48ff-4f78-a53e-7a8f5620a3ab\" data-root-id=\"p1154\" style=\"display: contents;\"></div>\n",
              "</div>\n",
              "<script type=\"application/javascript\">(function(root) {\n",
              "  var docs_json = {\"039971a4-7dd8-4fe2-83cb-02bcbb628050\":{\"version\":\"3.2.2\",\"title\":\"Bokeh Application\",\"roots\":[{\"type\":\"object\",\"name\":\"Row\",\"id\":\"p1154\",\"attributes\":{\"name\":\"Row01161\",\"tags\":[\"embedded\"],\"stylesheets\":[\"\\n:host(.pn-loading.pn-arc):before, .pn-loading.pn-arc:before {\\n  background-image: url(\\\"data:image/svg+xml;base64,PHN2ZyB4bWxucz0iaHR0cDovL3d3dy53My5vcmcvMjAwMC9zdmciIHN0eWxlPSJtYXJnaW46IGF1dG87IGJhY2tncm91bmQ6IG5vbmU7IGRpc3BsYXk6IGJsb2NrOyBzaGFwZS1yZW5kZXJpbmc6IGF1dG87IiB2aWV3Qm94PSIwIDAgMTAwIDEwMCIgcHJlc2VydmVBc3BlY3RSYXRpbz0ieE1pZFlNaWQiPiAgPGNpcmNsZSBjeD0iNTAiIGN5PSI1MCIgZmlsbD0ibm9uZSIgc3Ryb2tlPSIjYzNjM2MzIiBzdHJva2Utd2lkdGg9IjEwIiByPSIzNSIgc3Ryb2tlLWRhc2hhcnJheT0iMTY0LjkzMzYxNDMxMzQ2NDE1IDU2Ljk3Nzg3MTQzNzgyMTM4Ij4gICAgPGFuaW1hdGVUcmFuc2Zvcm0gYXR0cmlidXRlTmFtZT0idHJhbnNmb3JtIiB0eXBlPSJyb3RhdGUiIHJlcGVhdENvdW50PSJpbmRlZmluaXRlIiBkdXI9IjFzIiB2YWx1ZXM9IjAgNTAgNTA7MzYwIDUwIDUwIiBrZXlUaW1lcz0iMDsxIj48L2FuaW1hdGVUcmFuc2Zvcm0+ICA8L2NpcmNsZT48L3N2Zz4=\\\");\\n  background-size: auto calc(min(50%, 400px));\\n}\",{\"type\":\"object\",\"name\":\"ImportedStyleSheet\",\"id\":\"p1157\",\"attributes\":{\"url\":\"https://cdn.holoviz.org/panel/1.2.1/dist/css/loading.css\"}},{\"type\":\"object\",\"name\":\"ImportedStyleSheet\",\"id\":\"p1209\",\"attributes\":{\"url\":\"https://cdn.holoviz.org/panel/1.2.1/dist/css/listpanel.css\"}},{\"type\":\"object\",\"name\":\"ImportedStyleSheet\",\"id\":\"p1155\",\"attributes\":{\"url\":\"https://cdn.holoviz.org/panel/1.2.1/dist/bundled/theme/default.css\"}},{\"type\":\"object\",\"name\":\"ImportedStyleSheet\",\"id\":\"p1156\",\"attributes\":{\"url\":\"https://cdn.holoviz.org/panel/1.2.1/dist/bundled/theme/native.css\"}}],\"min_width\":700,\"margin\":0,\"sizing_mode\":\"stretch_width\",\"align\":\"start\",\"children\":[{\"type\":\"object\",\"name\":\"Spacer\",\"id\":\"p1158\",\"attributes\":{\"name\":\"HSpacer01172\",\"stylesheets\":[\"\\n:host(.pn-loading.pn-arc):before, .pn-loading.pn-arc:before {\\n  background-image: url(\\\"data:image/svg+xml;base64,PHN2ZyB4bWxucz0iaHR0cDovL3d3dy53My5vcmcvMjAwMC9zdmciIHN0eWxlPSJtYXJnaW46IGF1dG87IGJhY2tncm91bmQ6IG5vbmU7IGRpc3BsYXk6IGJsb2NrOyBzaGFwZS1yZW5kZXJpbmc6IGF1dG87IiB2aWV3Qm94PSIwIDAgMTAwIDEwMCIgcHJlc2VydmVBc3BlY3RSYXRpbz0ieE1pZFlNaWQiPiAgPGNpcmNsZSBjeD0iNTAiIGN5PSI1MCIgZmlsbD0ibm9uZSIgc3Ryb2tlPSIjYzNjM2MzIiBzdHJva2Utd2lkdGg9IjEwIiByPSIzNSIgc3Ryb2tlLWRhc2hhcnJheT0iMTY0LjkzMzYxNDMxMzQ2NDE1IDU2Ljk3Nzg3MTQzNzgyMTM4Ij4gICAgPGFuaW1hdGVUcmFuc2Zvcm0gYXR0cmlidXRlTmFtZT0idHJhbnNmb3JtIiB0eXBlPSJyb3RhdGUiIHJlcGVhdENvdW50PSJpbmRlZmluaXRlIiBkdXI9IjFzIiB2YWx1ZXM9IjAgNTAgNTA7MzYwIDUwIDUwIiBrZXlUaW1lcz0iMDsxIj48L2FuaW1hdGVUcmFuc2Zvcm0+ICA8L2NpcmNsZT48L3N2Zz4=\\\");\\n  background-size: auto calc(min(50%, 400px));\\n}\",{\"id\":\"p1157\"},{\"id\":\"p1155\"},{\"id\":\"p1156\"}],\"margin\":0,\"sizing_mode\":\"stretch_width\",\"align\":\"start\"}},{\"type\":\"object\",\"name\":\"Figure\",\"id\":\"p1166\",\"attributes\":{\"width\":700,\"height\":300,\"margin\":[5,10],\"sizing_mode\":\"fixed\",\"align\":\"start\",\"x_range\":{\"type\":\"object\",\"name\":\"Range1d\",\"id\":\"p1159\",\"attributes\":{\"tags\":[[[\"Price\",\"Price\",null]],[]],\"start\":-89195.35363034422,\"end\":2574199.6057283347,\"reset_start\":-89195.35363034422,\"reset_end\":2574199.6057283347}},\"y_range\":{\"type\":\"object\",\"name\":\"Range1d\",\"id\":\"p1160\",\"attributes\":{\"tags\":[[[\"Price_count\",\"Count\",null]],{\"type\":\"map\",\"entries\":[[\"invert_yaxis\",false],[\"autorange\",false]]}],\"end\":744.5,\"reset_start\":0.0,\"reset_end\":744.5}},\"x_scale\":{\"type\":\"object\",\"name\":\"LinearScale\",\"id\":\"p1176\"},\"y_scale\":{\"type\":\"object\",\"name\":\"LinearScale\",\"id\":\"p1177\"},\"title\":{\"type\":\"object\",\"name\":\"Title\",\"id\":\"p1169\",\"attributes\":{\"text_color\":\"black\",\"text_font_size\":\"12pt\"}},\"renderers\":[{\"type\":\"object\",\"name\":\"GlyphRenderer\",\"id\":\"p1202\",\"attributes\":{\"data_source\":{\"type\":\"object\",\"name\":\"ColumnDataSource\",\"id\":\"p1193\",\"attributes\":{\"selected\":{\"type\":\"object\",\"name\":\"Selection\",\"id\":\"p1194\",\"attributes\":{\"indices\":[],\"line_indices\":[]}},\"selection_policy\":{\"type\":\"object\",\"name\":\"UnionRenderers\",\"id\":\"p1195\"},\"data\":{\"type\":\"map\",\"entries\":[[\"top\",{\"type\":\"ndarray\",\"array\":{\"type\":\"bytes\",\"data\":\"AwAAAAgAAAAeAAAAOgAAAH0AAADbAAAAXgEAAMYBAAB8AgAApQIAAIICAABiAgAA5wEAADIBAADMAAAAbgAAACwAAAAYAAAACwAAAAIAAAA=\"},\"shape\":[20],\"dtype\":\"int32\",\"order\":\"little\"}],[\"left\",{\"type\":\"ndarray\",\"array\":{\"type\":\"bytes\",\"data\":\"S47UNlQhz0Au9LIJGOsAQXif+M8a5A9BYCUfy45uF0EF+0EuEOseQVVossjIMyNBJ9NDegnyJkH6PdUrSrAqQcyoZt2Kbi5B0Al8x2UWMUE5v0QghvUyQaJ0DXmm1DRBCyrW0cazNkF0354q55I4Qd6UZ4MHcjpBR0ow3CdRPEGw//g0SDA+QYza4Ea0B0BBQTVFc0T3QEH1j6mf1OZBQQ==\"},\"shape\":[20],\"dtype\":\"float64\",\"order\":\"little\"}],[\"right\",{\"type\":\"ndarray\",\"array\":{\"type\":\"bytes\",\"data\":\"LvSyCRjrAEF4n/jPGuQPQWAlH8uObhdBBftBLhDrHkFVaLLIyDMjQSfTQ3oJ8iZB+j3VK0qwKkHMqGbdim4uQdAJfMdlFjFBOb9EIIb1MkGidA15ptQ0QQsq1tHGszZBdN+eKueSOEHelGeDB3I6QUdKMNwnUTxBsP/4NEgwPkGM2uBGtAdAQUE1RXNE90BB9Y+pn9TmQUGq6g3MZNZCQQ==\"},\"shape\":[20],\"dtype\":\"float64\",\"order\":\"little\"}],[\"Price\",{\"type\":\"ndarray\",\"array\":{\"type\":\"bytes\",\"data\":\"Ez0gTS3d8kDTydVsmWcIQY66jRlOsBNBMpCwfM8sG0HssulvqFQhQb4deyHpEiVBkIgM0ynRKEFj852Eao8sQRuvF5vVJjBBhGTg8/UFMkHuGalMFuUzQVbPcaU2xDVBwIQ6/lajN0EpOgNXd4I5QZLvy6+XYTtB/KSUCLhAPUFkWl1h2B8/QeYHE118f0BBm2J3iQxvQUFQvdu1nF5CQQ==\"},\"shape\":[20],\"dtype\":\"float64\",\"order\":\"little\"}],[\"Price_count\",{\"type\":\"ndarray\",\"array\":{\"type\":\"bytes\",\"data\":\"AwAAAAgAAAAeAAAAOgAAAH0AAADbAAAAXgEAAMYBAAB8AgAApQIAAIICAABiAgAA5wEAADIBAADMAAAAbgAAACwAAAAYAAAACwAAAAIAAAA=\"},\"shape\":[20],\"dtype\":\"int32\",\"order\":\"little\"}]]}}},\"view\":{\"type\":\"object\",\"name\":\"CDSView\",\"id\":\"p1203\",\"attributes\":{\"filter\":{\"type\":\"object\",\"name\":\"AllIndices\",\"id\":\"p1204\"}}},\"glyph\":{\"type\":\"object\",\"name\":\"Quad\",\"id\":\"p1199\",\"attributes\":{\"tags\":[\"apply_ranges\"],\"left\":{\"type\":\"field\",\"field\":\"left\"},\"right\":{\"type\":\"field\",\"field\":\"right\"},\"bottom\":{\"type\":\"value\",\"value\":0},\"top\":{\"type\":\"field\",\"field\":\"top\"},\"fill_color\":{\"type\":\"value\",\"value\":\"#30a2da\"},\"hatch_color\":{\"type\":\"value\",\"value\":\"#30a2da\"}}},\"selection_glyph\":{\"type\":\"object\",\"name\":\"Quad\",\"id\":\"p1205\",\"attributes\":{\"tags\":[\"apply_ranges\"],\"left\":{\"type\":\"field\",\"field\":\"left\"},\"right\":{\"type\":\"field\",\"field\":\"right\"},\"bottom\":{\"type\":\"value\",\"value\":0},\"top\":{\"type\":\"field\",\"field\":\"top\"},\"line_color\":{\"type\":\"value\",\"value\":\"black\"},\"line_alpha\":{\"type\":\"value\",\"value\":1.0},\"line_width\":{\"type\":\"value\",\"value\":1},\"line_join\":{\"type\":\"value\",\"value\":\"bevel\"},\"line_cap\":{\"type\":\"value\",\"value\":\"butt\"},\"line_dash\":{\"type\":\"value\",\"value\":[]},\"line_dash_offset\":{\"type\":\"value\",\"value\":0},\"fill_color\":{\"type\":\"value\",\"value\":\"#30a2da\"},\"fill_alpha\":{\"type\":\"value\",\"value\":1.0},\"hatch_color\":{\"type\":\"value\",\"value\":\"#30a2da\"},\"hatch_alpha\":{\"type\":\"value\",\"value\":1.0},\"hatch_scale\":{\"type\":\"value\",\"value\":12.0},\"hatch_pattern\":{\"type\":\"value\",\"value\":null},\"hatch_weight\":{\"type\":\"value\",\"value\":1.0}}},\"nonselection_glyph\":{\"type\":\"object\",\"name\":\"Quad\",\"id\":\"p1200\",\"attributes\":{\"tags\":[\"apply_ranges\"],\"left\":{\"type\":\"field\",\"field\":\"left\"},\"right\":{\"type\":\"field\",\"field\":\"right\"},\"bottom\":{\"type\":\"value\",\"value\":0},\"top\":{\"type\":\"field\",\"field\":\"top\"},\"line_alpha\":{\"type\":\"value\",\"value\":0.1},\"fill_color\":{\"type\":\"value\",\"value\":\"#30a2da\"},\"fill_alpha\":{\"type\":\"value\",\"value\":0.1},\"hatch_color\":{\"type\":\"value\",\"value\":\"#30a2da\"},\"hatch_alpha\":{\"type\":\"value\",\"value\":0.1}}},\"muted_glyph\":{\"type\":\"object\",\"name\":\"Quad\",\"id\":\"p1201\",\"attributes\":{\"tags\":[\"apply_ranges\"],\"left\":{\"type\":\"field\",\"field\":\"left\"},\"right\":{\"type\":\"field\",\"field\":\"right\"},\"bottom\":{\"type\":\"value\",\"value\":0},\"top\":{\"type\":\"field\",\"field\":\"top\"},\"line_alpha\":{\"type\":\"value\",\"value\":0.2},\"fill_color\":{\"type\":\"value\",\"value\":\"#30a2da\"},\"fill_alpha\":{\"type\":\"value\",\"value\":0.2},\"hatch_color\":{\"type\":\"value\",\"value\":\"#30a2da\"},\"hatch_alpha\":{\"type\":\"value\",\"value\":0.2}}}}}],\"toolbar\":{\"type\":\"object\",\"name\":\"Toolbar\",\"id\":\"p1175\",\"attributes\":{\"tools\":[{\"type\":\"object\",\"name\":\"WheelZoomTool\",\"id\":\"p1164\",\"attributes\":{\"tags\":[\"hv_created\"],\"zoom_together\":\"none\"}},{\"type\":\"object\",\"name\":\"HoverTool\",\"id\":\"p1165\",\"attributes\":{\"tags\":[\"hv_created\"],\"renderers\":[{\"id\":\"p1202\"}],\"tooltips\":[[\"Price\",\"@{Price}\"],[\"Count\",\"@{Price_count}\"]]}},{\"type\":\"object\",\"name\":\"SaveTool\",\"id\":\"p1188\"},{\"type\":\"object\",\"name\":\"PanTool\",\"id\":\"p1189\"},{\"type\":\"object\",\"name\":\"BoxZoomTool\",\"id\":\"p1190\",\"attributes\":{\"overlay\":{\"type\":\"object\",\"name\":\"BoxAnnotation\",\"id\":\"p1191\",\"attributes\":{\"syncable\":false,\"level\":\"overlay\",\"visible\":false,\"left_units\":\"canvas\",\"right_units\":\"canvas\",\"bottom_units\":\"canvas\",\"top_units\":\"canvas\",\"line_color\":\"black\",\"line_alpha\":1.0,\"line_width\":2,\"line_dash\":[4,4],\"fill_color\":\"lightgrey\",\"fill_alpha\":0.5}}}},{\"type\":\"object\",\"name\":\"ResetTool\",\"id\":\"p1192\"}],\"active_drag\":{\"id\":\"p1189\"},\"active_scroll\":{\"id\":\"p1164\"}}},\"left\":[{\"type\":\"object\",\"name\":\"LinearAxis\",\"id\":\"p1183\",\"attributes\":{\"ticker\":{\"type\":\"object\",\"name\":\"BasicTicker\",\"id\":\"p1184\",\"attributes\":{\"mantissas\":[1,2,5]}},\"formatter\":{\"type\":\"object\",\"name\":\"BasicTickFormatter\",\"id\":\"p1185\"},\"axis_label\":\"\",\"major_label_policy\":{\"type\":\"object\",\"name\":\"AllLabels\",\"id\":\"p1186\"}}}],\"below\":[{\"type\":\"object\",\"name\":\"LinearAxis\",\"id\":\"p1178\",\"attributes\":{\"ticker\":{\"type\":\"object\",\"name\":\"BasicTicker\",\"id\":\"p1179\",\"attributes\":{\"mantissas\":[1,2,5]}},\"formatter\":{\"type\":\"object\",\"name\":\"BasicTickFormatter\",\"id\":\"p1180\"},\"axis_label\":\"Price\",\"major_label_policy\":{\"type\":\"object\",\"name\":\"AllLabels\",\"id\":\"p1181\"}}}],\"center\":[{\"type\":\"object\",\"name\":\"Grid\",\"id\":\"p1182\",\"attributes\":{\"axis\":{\"id\":\"p1178\"},\"grid_line_color\":null}},{\"type\":\"object\",\"name\":\"Grid\",\"id\":\"p1187\",\"attributes\":{\"dimension\":1,\"axis\":{\"id\":\"p1183\"},\"grid_line_color\":null}}],\"min_border_top\":10,\"min_border_bottom\":10,\"min_border_left\":10,\"min_border_right\":10,\"output_backend\":\"webgl\"}},{\"type\":\"object\",\"name\":\"Spacer\",\"id\":\"p1207\",\"attributes\":{\"name\":\"HSpacer01175\",\"stylesheets\":[\"\\n:host(.pn-loading.pn-arc):before, .pn-loading.pn-arc:before {\\n  background-image: url(\\\"data:image/svg+xml;base64,PHN2ZyB4bWxucz0iaHR0cDovL3d3dy53My5vcmcvMjAwMC9zdmciIHN0eWxlPSJtYXJnaW46IGF1dG87IGJhY2tncm91bmQ6IG5vbmU7IGRpc3BsYXk6IGJsb2NrOyBzaGFwZS1yZW5kZXJpbmc6IGF1dG87IiB2aWV3Qm94PSIwIDAgMTAwIDEwMCIgcHJlc2VydmVBc3BlY3RSYXRpbz0ieE1pZFlNaWQiPiAgPGNpcmNsZSBjeD0iNTAiIGN5PSI1MCIgZmlsbD0ibm9uZSIgc3Ryb2tlPSIjYzNjM2MzIiBzdHJva2Utd2lkdGg9IjEwIiByPSIzNSIgc3Ryb2tlLWRhc2hhcnJheT0iMTY0LjkzMzYxNDMxMzQ2NDE1IDU2Ljk3Nzg3MTQzNzgyMTM4Ij4gICAgPGFuaW1hdGVUcmFuc2Zvcm0gYXR0cmlidXRlTmFtZT0idHJhbnNmb3JtIiB0eXBlPSJyb3RhdGUiIHJlcGVhdENvdW50PSJpbmRlZmluaXRlIiBkdXI9IjFzIiB2YWx1ZXM9IjAgNTAgNTA7MzYwIDUwIDUwIiBrZXlUaW1lcz0iMDsxIj48L2FuaW1hdGVUcmFuc2Zvcm0+ICA8L2NpcmNsZT48L3N2Zz4=\\\");\\n  background-size: auto calc(min(50%, 400px));\\n}\",{\"id\":\"p1157\"},{\"id\":\"p1155\"},{\"id\":\"p1156\"}],\"margin\":0,\"sizing_mode\":\"stretch_width\",\"align\":\"start\"}}]}}],\"defs\":[{\"type\":\"model\",\"name\":\"ReactiveHTML1\"},{\"type\":\"model\",\"name\":\"FlexBox1\",\"properties\":[{\"name\":\"align_content\",\"kind\":\"Any\",\"default\":\"flex-start\"},{\"name\":\"align_items\",\"kind\":\"Any\",\"default\":\"flex-start\"},{\"name\":\"flex_direction\",\"kind\":\"Any\",\"default\":\"row\"},{\"name\":\"flex_wrap\",\"kind\":\"Any\",\"default\":\"wrap\"},{\"name\":\"justify_content\",\"kind\":\"Any\",\"default\":\"flex-start\"}]},{\"type\":\"model\",\"name\":\"FloatPanel1\",\"properties\":[{\"name\":\"config\",\"kind\":\"Any\",\"default\":{\"type\":\"map\"}},{\"name\":\"contained\",\"kind\":\"Any\",\"default\":true},{\"name\":\"position\",\"kind\":\"Any\",\"default\":\"right-top\"},{\"name\":\"offsetx\",\"kind\":\"Any\",\"default\":null},{\"name\":\"offsety\",\"kind\":\"Any\",\"default\":null},{\"name\":\"theme\",\"kind\":\"Any\",\"default\":\"primary\"},{\"name\":\"status\",\"kind\":\"Any\",\"default\":\"normalized\"}]},{\"type\":\"model\",\"name\":\"GridStack1\",\"properties\":[{\"name\":\"mode\",\"kind\":\"Any\",\"default\":\"warn\"},{\"name\":\"ncols\",\"kind\":\"Any\",\"default\":null},{\"name\":\"nrows\",\"kind\":\"Any\",\"default\":null},{\"name\":\"allow_resize\",\"kind\":\"Any\",\"default\":true},{\"name\":\"allow_drag\",\"kind\":\"Any\",\"default\":true},{\"name\":\"state\",\"kind\":\"Any\",\"default\":[]}]},{\"type\":\"model\",\"name\":\"drag1\",\"properties\":[{\"name\":\"slider_width\",\"kind\":\"Any\",\"default\":5},{\"name\":\"slider_color\",\"kind\":\"Any\",\"default\":\"black\"},{\"name\":\"value\",\"kind\":\"Any\",\"default\":50}]},{\"type\":\"model\",\"name\":\"click1\",\"properties\":[{\"name\":\"terminal_output\",\"kind\":\"Any\",\"default\":\"\"},{\"name\":\"debug_name\",\"kind\":\"Any\",\"default\":\"\"},{\"name\":\"clears\",\"kind\":\"Any\",\"default\":0}]},{\"type\":\"model\",\"name\":\"FastWrapper1\",\"properties\":[{\"name\":\"object\",\"kind\":\"Any\",\"default\":null},{\"name\":\"style\",\"kind\":\"Any\",\"default\":null}]},{\"type\":\"model\",\"name\":\"NotificationAreaBase1\",\"properties\":[{\"name\":\"js_events\",\"kind\":\"Any\",\"default\":{\"type\":\"map\"}},{\"name\":\"position\",\"kind\":\"Any\",\"default\":\"bottom-right\"},{\"name\":\"_clear\",\"kind\":\"Any\",\"default\":0}]},{\"type\":\"model\",\"name\":\"NotificationArea1\",\"properties\":[{\"name\":\"js_events\",\"kind\":\"Any\",\"default\":{\"type\":\"map\"}},{\"name\":\"notifications\",\"kind\":\"Any\",\"default\":[]},{\"name\":\"position\",\"kind\":\"Any\",\"default\":\"bottom-right\"},{\"name\":\"_clear\",\"kind\":\"Any\",\"default\":0},{\"name\":\"types\",\"kind\":\"Any\",\"default\":[{\"type\":\"map\",\"entries\":[[\"type\",\"warning\"],[\"background\",\"#ffc107\"],[\"icon\",{\"type\":\"map\",\"entries\":[[\"className\",\"fas fa-exclamation-triangle\"],[\"tagName\",\"i\"],[\"color\",\"white\"]]}]]},{\"type\":\"map\",\"entries\":[[\"type\",\"info\"],[\"background\",\"#007bff\"],[\"icon\",{\"type\":\"map\",\"entries\":[[\"className\",\"fas fa-info-circle\"],[\"tagName\",\"i\"],[\"color\",\"white\"]]}]]}]}]},{\"type\":\"model\",\"name\":\"Notification\",\"properties\":[{\"name\":\"background\",\"kind\":\"Any\",\"default\":null},{\"name\":\"duration\",\"kind\":\"Any\",\"default\":3000},{\"name\":\"icon\",\"kind\":\"Any\",\"default\":null},{\"name\":\"message\",\"kind\":\"Any\",\"default\":\"\"},{\"name\":\"notification_type\",\"kind\":\"Any\",\"default\":null},{\"name\":\"_destroyed\",\"kind\":\"Any\",\"default\":false}]},{\"type\":\"model\",\"name\":\"TemplateActions1\",\"properties\":[{\"name\":\"open_modal\",\"kind\":\"Any\",\"default\":0},{\"name\":\"close_modal\",\"kind\":\"Any\",\"default\":0}]},{\"type\":\"model\",\"name\":\"BootstrapTemplateActions1\",\"properties\":[{\"name\":\"open_modal\",\"kind\":\"Any\",\"default\":0},{\"name\":\"close_modal\",\"kind\":\"Any\",\"default\":0}]},{\"type\":\"model\",\"name\":\"MaterialTemplateActions1\",\"properties\":[{\"name\":\"open_modal\",\"kind\":\"Any\",\"default\":0},{\"name\":\"close_modal\",\"kind\":\"Any\",\"default\":0}]}]}};\n",
              "  var render_items = [{\"docid\":\"039971a4-7dd8-4fe2-83cb-02bcbb628050\",\"roots\":{\"p1154\":\"f24667a4-48ff-4f78-a53e-7a8f5620a3ab\"},\"root_ids\":[\"p1154\"]}];\n",
              "  var docs = Object.values(docs_json)\n",
              "  if (!docs) {\n",
              "    return\n",
              "  }\n",
              "  const py_version = docs[0].version.replace('rc', '-rc.').replace('.dev', '-dev.')\n",
              "  const is_dev = py_version.indexOf(\"+\") !== -1 || py_version.indexOf(\"-\") !== -1\n",
              "  function embed_document(root) {\n",
              "    var Bokeh = get_bokeh(root)\n",
              "    Bokeh.embed.embed_items_notebook(docs_json, render_items);\n",
              "    for (const render_item of render_items) {\n",
              "      for (const root_id of render_item.root_ids) {\n",
              "\tconst id_el = document.getElementById(root_id)\n",
              "\tif (id_el.children.length && (id_el.children[0].className === 'bk-root')) {\n",
              "\t  const root_el = id_el.children[0]\n",
              "\t  root_el.id = root_el.id + '-rendered'\n",
              "\t}\n",
              "      }\n",
              "    }\n",
              "  }\n",
              "  function get_bokeh(root) {\n",
              "    if (root.Bokeh === undefined) {\n",
              "      return null\n",
              "    } else if (root.Bokeh.version !== py_version && !is_dev) {\n",
              "      if (root.Bokeh.versions === undefined || !root.Bokeh.versions.has(py_version)) {\n",
              "\treturn null\n",
              "      }\n",
              "      return root.Bokeh.versions.get(py_version);\n",
              "    } else if (root.Bokeh.version === py_version) {\n",
              "      return root.Bokeh\n",
              "    }\n",
              "    return null\n",
              "  }\n",
              "  function is_loaded(root) {\n",
              "    var Bokeh = get_bokeh(root)\n",
              "    return (Bokeh != null && Bokeh.Panel !== undefined)\n",
              "  }\n",
              "  if (is_loaded(root)) {\n",
              "    embed_document(root);\n",
              "  } else {\n",
              "    var attempts = 0;\n",
              "    var timer = setInterval(function(root) {\n",
              "      if (is_loaded(root)) {\n",
              "        clearInterval(timer);\n",
              "        embed_document(root);\n",
              "      } else if (document.readyState == \"complete\") {\n",
              "        attempts++;\n",
              "        if (attempts > 200) {\n",
              "          clearInterval(timer);\n",
              "\t  var Bokeh = get_bokeh(root)\n",
              "\t  if (Bokeh == null || Bokeh.Panel == null) {\n",
              "            console.warn(\"Panel: ERROR: Unable to run Panel code because Bokeh or Panel library is missing\");\n",
              "\t  } else {\n",
              "\t    console.warn(\"Panel: WARNING: Attempting to render but not all required libraries could be resolved.\")\n",
              "\t    embed_document(root)\n",
              "\t  }\n",
              "        }\n",
              "      }\n",
              "    }, 25, root)\n",
              "  }\n",
              "})(window);</script>"
            ],
            "text/plain": [
              ":Histogram   [Price]   (Price_count)"
            ]
          },
          "execution_count": 11,
          "metadata": {},
          "output_type": "execute_result"
        }
      ]
    },
    {
      "cell_type": "code",
      "source": [
        "sns.histplot(data=house_price_dataset.Price)"
      ],
      "metadata": {
        "colab": {
          "base_uri": "https://localhost:8080/",
          "height": 466
        },
        "id": "bi7-DXtN8ecR",
        "outputId": "14bd1e13-730d-44a0-8965-361f87d2f089"
      },
      "execution_count": 12,
      "outputs": [
        {
          "data": {
            "text/plain": [
              "<Axes: xlabel='Price', ylabel='Count'>"
            ]
          },
          "execution_count": 12,
          "metadata": {},
          "output_type": "execute_result"
        },
        {
          "data": {
            "image/png": "[encoded data removed]",
            "text/plain": [
              "<Figure size 640x480 with 1 Axes>"
            ]
          },
          "metadata": {},
          "output_type": "display_data"
        }
      ]
    },
    {
      "cell_type": "code",
      "source": [
        "#sns.set(rc={'figure.figsize':(5,3)})\n",
        "sns.histplot(house_price_dataset)"
      ],
      "metadata": {
        "colab": {
          "base_uri": "https://localhost:8080/",
          "height": 465
        },
        "id": "rOYV6Ron93ce",
        "outputId": "cf62f6a3-0f20-48bc-bc40-699bc392607b"
      },
      "execution_count": 13,
      "outputs": [
        {
          "data": {
            "text/plain": [
              "<Axes: ylabel='Count'>"
            ]
          },
          "execution_count": 13,
          "metadata": {},
          "output_type": "execute_result"
        },
        {
          "data": {
            "image/png": "[encoded data removed]",
            "text/plain": [
              "<Figure size 640x480 with 1 Axes>"
            ]
          },
          "metadata": {},
          "output_type": "display_data"
        }
      ]
    },
    {
      "cell_type": "code",
      "source": [
        "house_price_dataset.Price\n"
      ],
      "metadata": {
        "colab": {
          "base_uri": "https://localhost:8080/",
          "height": 0
        },
        "id": "TZEnL_Aw_HZV",
        "outputId": "b31ebec1-b006-4a7f-ecd7-7c1468103600"
      },
      "execution_count": 14,
      "outputs": [
        {
          "data": {
            "text/plain": [
              "0       1.059034e+06\n",
              "1       1.505891e+06\n",
              "2       1.058988e+06\n",
              "3       1.260617e+06\n",
              "4       6.309435e+05\n",
              "            ...     \n",
              "4995    1.060194e+06\n",
              "4996    1.482618e+06\n",
              "4997    1.030730e+06\n",
              "4998    1.198657e+06\n",
              "4999    1.298950e+06\n",
              "Name: Price, Length: 5000, dtype: float64"
            ]
          },
          "execution_count": 14,
          "metadata": {},
          "output_type": "execute_result"
        }
      ]
    },
    {
      "cell_type": "code",
      "source": [
        "sns.heatmap(house_price_dataset.corr(), annot=True)"
      ],
      "metadata": {
        "colab": {
          "base_uri": "https://localhost:8080/",
          "height": 649
        },
        "id": "DMVCulTQAF5R",
        "outputId": "fc2826e5-cea2-452a-cf4e-31e2cbe6e7d6"
      },
      "execution_count": 15,
      "outputs": [
        {
          "metadata": {
            "tags": null
          },
          "name": "stderr",
          "output_type": "stream",
          "text": [
            "<ipython-input-15-7098d4588721>:1: FutureWarning: The default value of numeric_only in DataFrame.corr is deprecated. In a future version, it will default to False. Select only valid columns or specify the value of numeric_only to silence this warning.\n",
            "  sns.heatmap(house_price_dataset.corr(), annot=True)\n"
          ]
        },
        {
          "data": {
            "text/plain": [
              "<Axes: >"
            ]
          },
          "execution_count": 15,
          "metadata": {},
          "output_type": "execute_result"
        },
        {
          "data": {
            "image/png": "[encoded data removed]",
            "text/plain": [
              "<Figure size 640x480 with 2 Axes>"
            ]
          },
          "metadata": {},
          "output_type": "display_data"
        }
      ]
    },
    {
      "cell_type": "markdown",
      "source": [
        "**Training a Linear Regression Model**"
      ],
      "metadata": {
        "id": "7Tgal_1qP21r"
      }
    },
    {
      "cell_type": "markdown",
      "source": [
        "X and Y arrays"
      ],
      "metadata": {
        "id": "DWUTIIh6RQwP"
      }
    },
    {
      "cell_type": "code",
      "source": [
        "X=house_price_dataset[['Avg. Area Income', 'Avg. Area House Age', 'Avg. Area Number of Rooms', 'Avg. Area Number of Bedrooms', 'Area Population']]\n",
        "y=house_price_dataset['Price']"
      ],
      "metadata": {
        "id": "P7TEtWxiIOIE"
      },
      "execution_count": 16,
      "outputs": []
    },
    {
      "cell_type": "markdown",
      "source": [
        "**Train Test Split**"
      ],
      "metadata": {
        "id": "wrA1gJ5vSwvl"
      }
    },
    {
      "cell_type": "code",
      "source": [
        "from sklearn.model_selection import train_test_split\n",
        "\n",
        "X_train,X_test,y_train, y_tes=train_test_split(X,y,test_size=0.3,random_state=42)"
      ],
      "metadata": {
        "id": "sVookBgnR1wP"
      },
      "execution_count": 17,
      "outputs": []
    },
    {
      "cell_type": "code",
      "source": [
        "from sklearn import metrics\n",
        "from sklearn.model_selection import cross_val_score\n",
        "\n",
        "def cross_val(model):\n",
        "  pred=cross_val_score(model,X,y,cv=10)\n",
        "  return pred.mean()\n",
        "def print_evaluate(true, predicted):\n",
        "  mae=metrics.mean_absolute_error(true, predicted)\n",
        "  mse=metrics.mean_squared_error(true, predicted)\n",
        "  rmse=np.sqrt(metrics.mean_squared_error(true, predicted))\n",
        "  r2_square=metrics.r2_score(true, predicted)\n",
        "  print('MAE:', mae)\n",
        "  print('MSE:', mse)\n",
        "  print('RMSE:', rmse)\n",
        "  print('R2 Square', r2_square)\n",
        "  print('___________________________')\n",
        "def evaluate(true, predicted):\n",
        "  mae=metrics.mean_absolute_error(true, predicted)\n",
        "  mse=metrics.mean_squared_error(true,predicted)\n",
        "  rmse=np.sqrt(metrics.mean_squared_error(true,predicted))\n",
        "  r2_square=metrics.r2_score(true,predicted)\n",
        "  return mae,mse,rmse,r2_square"
      ],
      "metadata": {
        "id": "fLF9nBITZKMf"
      },
      "execution_count": 18,
      "outputs": []
    },
    {
      "cell_type": "markdown",
      "source": [
        "**Preparing Data For Linear Regression**"
      ],
      "metadata": {
        "id": "PXSNb5csdooB"
      }
    },
    {
      "cell_type": "code",
      "source": [
        "from sklearn.preprocessing import StandardScaler\n",
        "from sklearn.pipeline import Pipeline\n",
        "\n",
        "pipeline = Pipeline([ ('std_scaler', StandardScaler())])\n",
        "\n",
        "X_train=pipeline.fit_transform(X_train)\n",
        "X_test=pipeline.transform(X_test)"
      ],
      "metadata": {
        "id": "qeJAXHYSZf1G"
      },
      "execution_count": 19,
      "outputs": []
    },
    {
      "cell_type": "markdown",
      "source": [
        "**Linear Regression**"
      ],
      "metadata": {
        "id": "QTvGk2A4hT7B"
      }
    },
    {
      "cell_type": "code",
      "source": [
        "from sklearn.linear_model import LinearRegression\n",
        "\n",
        "lin_reg=LinearRegression()\n",
        "lin_reg.fit(X_train,y_train)"
      ],
      "metadata": {
        "colab": {
          "base_uri": "https://localhost:8080/",
          "height": 74
        },
        "id": "JCsucFdKhStm",
        "outputId": "cb64bbb6-f278-46ab-9c0f-4fbee69cfec8"
      },
      "execution_count": 20,
      "outputs": [
        {
          "data": {
            "text/html": [
              "<style>#sk-container-id-1 {color: black;background-color: white;}#sk-container-id-1 pre{padding: 0;}#sk-container-id-1 div.sk-toggleable {background-color: white;}#sk-container-id-1 label.sk-toggleable__label {cursor: pointer;display: block;width: 100%;margin-bottom: 0;padding: 0.3em;box-sizing: border-box;text-align: center;}#sk-container-id-1 label.sk-toggleable__label-arrow:before {content: \"▸\";float: left;margin-right: 0.25em;color: #696969;}#sk-container-id-1 label.sk-toggleable__label-arrow:hover:before {color: black;}#sk-container-id-1 div.sk-estimator:hover label.sk-toggleable__label-arrow:before {color: black;}#sk-container-id-1 div.sk-toggleable__content {max-height: 0;max-width: 0;overflow: hidden;text-align: left;background-color: #f0f8ff;}#sk-container-id-1 div.sk-toggleable__content pre {margin: 0.2em;color: black;border-radius: 0.25em;background-color: #f0f8ff;}#sk-container-id-1 input.sk-toggleable__control:checked~div.sk-toggleable__content {max-height: 200px;max-width: 100%;overflow: auto;}#sk-container-id-1 input.sk-toggleable__control:checked~label.sk-toggleable__label-arrow:before {content: \"▾\";}#sk-container-id-1 div.sk-estimator input.sk-toggleable__control:checked~label.sk-toggleable__label {background-color: #d4ebff;}#sk-container-id-1 div.sk-label input.sk-toggleable__control:checked~label.sk-toggleable__label {background-color: #d4ebff;}#sk-container-id-1 input.sk-hidden--visually {border: 0;clip: rect(1px 1px 1px 1px);clip: rect(1px, 1px, 1px, 1px);height: 1px;margin: -1px;overflow: hidden;padding: 0;position: absolute;width: 1px;}#sk-container-id-1 div.sk-estimator {font-family: monospace;background-color: #f0f8ff;border: 1px dotted black;border-radius: 0.25em;box-sizing: border-box;margin-bottom: 0.5em;}#sk-container-id-1 div.sk-estimator:hover {background-color: #d4ebff;}#sk-container-id-1 div.sk-parallel-item::after {content: \"\";width: 100%;border-bottom: 1px solid gray;flex-grow: 1;}#sk-container-id-1 div.sk-label:hover label.sk-toggleable__label {background-color: #d4ebff;}#sk-container-id-1 div.sk-serial::before {content: \"\";position: absolute;border-left: 1px solid gray;box-sizing: border-box;top: 0;bottom: 0;left: 50%;z-index: 0;}#sk-container-id-1 div.sk-serial {display: flex;flex-direction: column;align-items: center;background-color: white;padding-right: 0.2em;padding-left: 0.2em;position: relative;}#sk-container-id-1 div.sk-item {position: relative;z-index: 1;}#sk-container-id-1 div.sk-parallel {display: flex;align-items: stretch;justify-content: center;background-color: white;position: relative;}#sk-container-id-1 div.sk-item::before, #sk-container-id-1 div.sk-parallel-item::before {content: \"\";position: absolute;border-left: 1px solid gray;box-sizing: border-box;top: 0;bottom: 0;left: 50%;z-index: -1;}#sk-container-id-1 div.sk-parallel-item {display: flex;flex-direction: column;z-index: 1;position: relative;background-color: white;}#sk-container-id-1 div.sk-parallel-item:first-child::after {align-self: flex-end;width: 50%;}#sk-container-id-1 div.sk-parallel-item:last-child::after {align-self: flex-start;width: 50%;}#sk-container-id-1 div.sk-parallel-item:only-child::after {width: 0;}#sk-container-id-1 div.sk-dashed-wrapped {border: 1px dashed gray;margin: 0 0.4em 0.5em 0.4em;box-sizing: border-box;padding-bottom: 0.4em;background-color: white;}#sk-container-id-1 div.sk-label label {font-family: monospace;font-weight: bold;display: inline-block;line-height: 1.2em;}#sk-container-id-1 div.sk-label-container {text-align: center;}#sk-container-id-1 div.sk-container {/* jupyter's `normalize.less` sets `[hidden] { display: none; }` but bootstrap.min.css set `[hidden] { display: none !important; }` so we also need the `!important` here to be able to override the default hidden behavior on the sphinx rendered scikit-learn.org. See: https://github.com/scikit-learn/scikit-learn/issues/21755 */display: inline-block !important;position: relative;}#sk-container-id-1 div.sk-text-repr-fallback {display: none;}</style><div id=\"sk-container-id-1\" class=\"sk-top-container\"><div class=\"sk-text-repr-fallback\"><pre>LinearRegression()</pre><b>In a Jupyter environment, please rerun this cell to show the HTML representation or trust the notebook. <br />On GitHub, the HTML representation is unable to render, please try loading this page with nbviewer.org.</b></div><div class=\"sk-container\" hidden><div class=\"sk-item\"><div class=\"sk-estimator sk-toggleable\"><input class=\"sk-toggleable__control sk-hidden--visually\" id=\"sk-estimator-id-1\" type=\"checkbox\" checked><label for=\"sk-estimator-id-1\" class=\"sk-toggleable__label sk-toggleable__label-arrow\">LinearRegression</label><div class=\"sk-toggleable__content\"><pre>LinearRegression()</pre></div></div></div></div></div>"
            ],
            "text/plain": [
              "LinearRegression()"
            ]
          },
          "execution_count": 20,
          "metadata": {},
          "output_type": "execute_result"
        }
      ]
    },
    {
      "cell_type": "markdown",
      "source": [
        "**Model Evalution**\n",
        "Let's evalute the model by checking out it's coefficients and how we can intercept them."
      ],
      "metadata": {
        "id": "Quub5CQziYQC"
      }
    },
    {
      "cell_type": "code",
      "source": [
        "#print the intercept\n",
        "print(lin_reg.intercept_)"
      ],
      "metadata": {
        "colab": {
          "base_uri": "https://localhost:8080/",
          "height": 0
        },
        "id": "-X6qUstyh_FT",
        "outputId": "a8c0aa32-b1dc-404f-f73b-43ed578d93d2"
      },
      "execution_count": 21,
      "outputs": [
        {
          "metadata": {
            "tags": null
          },
          "name": "stdout",
          "output_type": "stream",
          "text": [
            "1228219.1492415662\n"
          ]
        }
      ]
    },
    {
      "cell_type": "code",
      "source": [
        "coeff_df=pd.DataFrame(lin_reg.coef_, X.columns, columns=['Coefficient'])\n",
        "coeff_df"
      ],
      "metadata": {
        "colab": {
          "base_uri": "https://localhost:8080/",
          "height": 206
        },
        "id": "-edpd_I7i7Jo",
        "outputId": "70e62846-c95c-4d45-d9ce-f1169f5da8f4"
      },
      "execution_count": 22,
      "outputs": [
        {
          "data": {
            "text/html": [
              "\n",
              "  <div id=\"df-f8b77043-fc78-4e9e-9996-9921d9898c9c\" class=\"colab-df-container\">\n",
              "    <div>\n",
              "<style scoped>\n",
              "    .dataframe tbody tr th:only-of-type {\n",
              "        vertical-align: middle;\n",
              "    }\n",
              "\n",
              "    .dataframe tbody tr th {\n",
              "        vertical-align: top;\n",
              "    }\n",
              "\n",
              "    .dataframe thead th {\n",
              "        text-align: right;\n",
              "    }\n",
              "</style>\n",
              "<table border=\"1\" class=\"dataframe\">\n",
              "  <thead>\n",
              "    <tr style=\"text-align: right;\">\n",
              "      <th></th>\n",
              "      <th>Coefficient</th>\n",
              "    </tr>\n",
              "  </thead>\n",
              "  <tbody>\n",
              "    <tr>\n",
              "      <th>Avg. Area Income</th>\n",
              "      <td>232679.724643</td>\n",
              "    </tr>\n",
              "    <tr>\n",
              "      <th>Avg. Area House Age</th>\n",
              "      <td>163841.046593</td>\n",
              "    </tr>\n",
              "    <tr>\n",
              "      <th>Avg. Area Number of Rooms</th>\n",
              "      <td>121110.555478</td>\n",
              "    </tr>\n",
              "    <tr>\n",
              "      <th>Avg. Area Number of Bedrooms</th>\n",
              "      <td>2892.815119</td>\n",
              "    </tr>\n",
              "    <tr>\n",
              "      <th>Area Population</th>\n",
              "      <td>151252.342377</td>\n",
              "    </tr>\n",
              "  </tbody>\n",
              "</table>\n",
              "</div>\n",
              "    <div class=\"colab-df-buttons\">\n",
              "\n",
              "  <div class=\"colab-df-container\">\n",
              "    <button class=\"colab-df-convert\" onclick=\"convertToInteractive('df-f8b77043-fc78-4e9e-9996-9921d9898c9c')\"\n",
              "            title=\"Convert this dataframe to an interactive table.\"\n",
              "            style=\"display:none;\">\n",
              "\n",
              "  <svg xmlns=\"http://www.w3.org/2000/svg\" height=\"24px\" viewBox=\"0 -960 960 960\">\n",
              "    <path d=\"M120-120v-720h720v720H120Zm60-500h600v-160H180v160Zm220 220h160v-160H400v160Zm0 220h160v-160H400v160ZM180-400h160v-160H180v160Zm440 0h160v-160H620v160ZM180-180h160v-160H180v160Zm440 0h160v-160H620v160Z\"/>\n",
              "  </svg>\n",
              "    </button>\n",
              "\n",
              "  <style>\n",
              "    .colab-df-container {\n",
              "      display:flex;\n",
              "      gap: 12px;\n",
              "    }\n",
              "\n",
              "    .colab-df-convert {\n",
              "      background-color: #E8F0FE;\n",
              "      border: none;\n",
              "      border-radius: 50%;\n",
              "      cursor: pointer;\n",
              "      display: none;\n",
              "      fill: #1967D2;\n",
              "      height: 32px;\n",
              "      padding: 0 0 0 0;\n",
              "      width: 32px;\n",
              "    }\n",
              "\n",
              "    .colab-df-convert:hover {\n",
              "      background-color: #E2EBFA;\n",
              "      box-shadow: 0px 1px 2px rgba(60, 64, 67, 0.3), 0px 1px 3px 1px rgba(60, 64, 67, 0.15);\n",
              "      fill: #174EA6;\n",
              "    }\n",
              "\n",
              "    .colab-df-buttons div {\n",
              "      margin-bottom: 4px;\n",
              "    }\n",
              "\n",
              "    [theme=dark] .colab-df-convert {\n",
              "      background-color: #3B4455;\n",
              "      fill: #D2E3FC;\n",
              "    }\n",
              "\n",
              "    [theme=dark] .colab-df-convert:hover {\n",
              "      background-color: #434B5C;\n",
              "      box-shadow: 0px 1px 3px 1px rgba(0, 0, 0, 0.15);\n",
              "      filter: drop-shadow(0px 1px 2px rgba(0, 0, 0, 0.3));\n",
              "      fill: #FFFFFF;\n",
              "    }\n",
              "  </style>\n",
              "\n",
              "    <script>\n",
              "      const buttonEl =\n",
              "        document.querySelector('#df-f8b77043-fc78-4e9e-9996-9921d9898c9c button.colab-df-convert');\n",
              "      buttonEl.style.display =\n",
              "        google.colab.kernel.accessAllowed ? 'block' : 'none';\n",
              "\n",
              "      async function convertToInteractive(key) {\n",
              "        const element = document.querySelector('#df-f8b77043-fc78-4e9e-9996-9921d9898c9c');\n",
              "        const dataTable =\n",
              "          await google.colab.kernel.invokeFunction('convertToInteractive',\n",
              "                                                    [key], {});\n",
              "        if (!dataTable) return;\n",
              "\n",
              "        const docLinkHtml = 'Like what you see? Visit the ' +\n",
              "          '<a target=\"_blank\" href=https://colab.research.google.com/notebooks/data_table.ipynb>data table notebook</a>'\n",
              "          + ' to learn more about interactive tables.';\n",
              "        element.innerHTML = '';\n",
              "        dataTable['output_type'] = 'display_data';\n",
              "        await google.colab.output.renderOutput(dataTable, element);\n",
              "        const docLink = document.createElement('div');\n",
              "        docLink.innerHTML = docLinkHtml;\n",
              "        element.appendChild(docLink);\n",
              "      }\n",
              "    </script>\n",
              "  </div>\n",
              "\n",
              "\n",
              "<div id=\"df-aa1a47d6-e3f9-404a-92d6-40e1492d5e3d\">\n",
              "  <button class=\"colab-df-quickchart\" onclick=\"quickchart('df-aa1a47d6-e3f9-404a-92d6-40e1492d5e3d')\"\n",
              "            title=\"Suggest charts.\"\n",
              "            style=\"display:none;\">\n",
              "\n",
              "<svg xmlns=\"http://www.w3.org/2000/svg\" height=\"24px\"viewBox=\"0 0 24 24\"\n",
              "     width=\"24px\">\n",
              "    <g>\n",
              "        <path d=\"M19 3H5c-1.1 0-2 .9-2 2v14c0 1.1.9 2 2 2h14c1.1 0 2-.9 2-2V5c0-1.1-.9-2-2-2zM9 17H7v-7h2v7zm4 0h-2V7h2v10zm4 0h-2v-4h2v4z\"/>\n",
              "    </g>\n",
              "</svg>\n",
              "  </button>\n",
              "\n",
              "<style>\n",
              "  .colab-df-quickchart {\n",
              "    background-color: #E8F0FE;\n",
              "    border: none;\n",
              "    border-radius: 50%;\n",
              "    cursor: pointer;\n",
              "    display: none;\n",
              "    fill: #1967D2;\n",
              "    height: 32px;\n",
              "    padding: 0 0 0 0;\n",
              "    width: 32px;\n",
              "  }\n",
              "\n",
              "  .colab-df-quickchart:hover {\n",
              "    background-color: #E2EBFA;\n",
              "    box-shadow: 0px 1px 2px rgba(60, 64, 67, 0.3), 0px 1px 3px 1px rgba(60, 64, 67, 0.15);\n",
              "    fill: #174EA6;\n",
              "  }\n",
              "\n",
              "  [theme=dark] .colab-df-quickchart {\n",
              "    background-color: #3B4455;\n",
              "    fill: #D2E3FC;\n",
              "  }\n",
              "\n",
              "  [theme=dark] .colab-df-quickchart:hover {\n",
              "    background-color: #434B5C;\n",
              "    box-shadow: 0px 1px 3px 1px rgba(0, 0, 0, 0.15);\n",
              "    filter: drop-shadow(0px 1px 2px rgba(0, 0, 0, 0.3));\n",
              "    fill: #FFFFFF;\n",
              "  }\n",
              "</style>\n",
              "\n",
              "  <script>\n",
              "    async function quickchart(key) {\n",
              "      const charts = await google.colab.kernel.invokeFunction(\n",
              "          'suggestCharts', [key], {});\n",
              "    }\n",
              "    (() => {\n",
              "      let quickchartButtonEl =\n",
              "        document.querySelector('#df-aa1a47d6-e3f9-404a-92d6-40e1492d5e3d button');\n",
              "      quickchartButtonEl.style.display =\n",
              "        google.colab.kernel.accessAllowed ? 'block' : 'none';\n",
              "    })();\n",
              "  </script>\n",
              "</div>\n",
              "    </div>\n",
              "  </div>\n"
            ],
            "text/plain": [
              "                                Coefficient\n",
              "Avg. Area Income              232679.724643\n",
              "Avg. Area House Age           163841.046593\n",
              "Avg. Area Number of Rooms     121110.555478\n",
              "Avg. Area Number of Bedrooms    2892.815119\n",
              "Area Population               151252.342377"
            ]
          },
          "execution_count": 22,
          "metadata": {},
          "output_type": "execute_result"
        }
      ]
    },
    {
      "cell_type": "code",
      "source": [
        "pred=lin_reg.predict(X_test)"
      ],
      "metadata": {
        "id": "YwgYGkj7jK1Q"
      },
      "execution_count": 23,
      "outputs": []
    },
    {
      "cell_type": "code",
      "source": [
        "pd.DataFrame({'True Values': y_tes, 'Predicted Values': pred}).hvplot.scatter(x='True Values',y='Predicted Values')"
      ],
      "metadata": {
        "colab": {
          "base_uri": "https://localhost:8080/",
          "height": 17
        },
        "id": "PDmCQVonlxd-",
        "outputId": "2792485f-71ed-4f49-acea-a7222cb9911c"
      },
      "execution_count": 24,
      "outputs": [
        {
          "data": {},
          "metadata": {},
          "output_type": "display_data"
        },
        {
          "data": {
            "application/vnd.holoviews_exec.v0+json": "",
            "text/html": [
              "<div id='p1216'>\n",
              "  <div id=\"d12b5454-9b9d-48fa-8017-61deba4e0d1e\" data-root-id=\"p1216\" style=\"display: contents;\"></div>\n",
              "</div>\n",
              "<script type=\"application/javascript\">(function(root) {\n",
              "  var docs_json = {\"9f67d61f-a13b-4bc1-b63a-b4771de1c149\":{\"version\":\"3.2.2\",\"title\":\"Bokeh Application\",\"roots\":[{\"type\":\"object\",\"name\":\"Row\",\"id\":\"p1216\",\"attributes\":{\"name\":\"Row01285\",\"tags\":[\"embedded\"],\"stylesheets\":[\"\\n:host(.pn-loading.pn-arc):before, .pn-loading.pn-arc:before {\\n  background-image: url(\\\"data:image/svg+xml;base64,PHN2ZyB4bWxucz0iaHR0cDovL3d3dy53My5vcmcvMjAwMC9zdmciIHN0eWxlPSJtYXJnaW46IGF1dG87IGJhY2tncm91bmQ6IG5vbmU7IGRpc3BsYXk6IGJsb2NrOyBzaGFwZS1yZW5kZXJpbmc6IGF1dG87IiB2aWV3Qm94PSIwIDAgMTAwIDEwMCIgcHJlc2VydmVBc3BlY3RSYXRpbz0ieE1pZFlNaWQiPiAgPGNpcmNsZSBjeD0iNTAiIGN5PSI1MCIgZmlsbD0ibm9uZSIgc3Ryb2tlPSIjYzNjM2MzIiBzdHJva2Utd2lkdGg9IjEwIiByPSIzNSIgc3Ryb2tlLWRhc2hhcnJheT0iMTY0LjkzMzYxNDMxMzQ2NDE1IDU2Ljk3Nzg3MTQzNzgyMTM4Ij4gICAgPGFuaW1hdGVUcmFuc2Zvcm0gYXR0cmlidXRlTmFtZT0idHJhbnNmb3JtIiB0eXBlPSJyb3RhdGUiIHJlcGVhdENvdW50PSJpbmRlZmluaXRlIiBkdXI9IjFzIiB2YWx1ZXM9IjAgNTAgNTA7MzYwIDUwIDUwIiBrZXlUaW1lcz0iMDsxIj48L2FuaW1hdGVUcmFuc2Zvcm0+ICA8L2NpcmNsZT48L3N2Zz4=\\\");\\n  background-size: auto calc(min(50%, 400px));\\n}\",{\"type\":\"object\",\"name\":\"ImportedStyleSheet\",\"id\":\"p1219\",\"attributes\":{\"url\":\"https://cdn.holoviz.org/panel/1.2.1/dist/css/loading.css\"}},{\"type\":\"object\",\"name\":\"ImportedStyleSheet\",\"id\":\"p1271\",\"attributes\":{\"url\":\"https://cdn.holoviz.org/panel/1.2.1/dist/css/listpanel.css\"}},{\"type\":\"object\",\"name\":\"ImportedStyleSheet\",\"id\":\"p1217\",\"attributes\":{\"url\":\"https://cdn.holoviz.org/panel/1.2.1/dist/bundled/theme/default.css\"}},{\"type\":\"object\",\"name\":\"ImportedStyleSheet\",\"id\":\"p1218\",\"attributes\":{\"url\":\"https://cdn.holoviz.org/panel/1.2.1/dist/bundled/theme/native.css\"}}],\"min_width\":700,\"margin\":0,\"sizing_mode\":\"stretch_width\",\"align\":\"start\",\"children\":[{\"type\":\"object\",\"name\":\"Spacer\",\"id\":\"p1220\",\"attributes\":{\"name\":\"HSpacer01296\",\"stylesheets\":[\"\\n:host(.pn-loading.pn-arc):before, .pn-loading.pn-arc:before {\\n  background-image: url(\\\"data:image/svg+xml;base64,PHN2ZyB4bWxucz0iaHR0cDovL3d3dy53My5vcmcvMjAwMC9zdmciIHN0eWxlPSJtYXJnaW46IGF1dG87IGJhY2tncm91bmQ6IG5vbmU7IGRpc3BsYXk6IGJsb2NrOyBzaGFwZS1yZW5kZXJpbmc6IGF1dG87IiB2aWV3Qm94PSIwIDAgMTAwIDEwMCIgcHJlc2VydmVBc3BlY3RSYXRpbz0ieE1pZFlNaWQiPiAgPGNpcmNsZSBjeD0iNTAiIGN5PSI1MCIgZmlsbD0ibm9uZSIgc3Ryb2tlPSIjYzNjM2MzIiBzdHJva2Utd2lkdGg9IjEwIiByPSIzNSIgc3Ryb2tlLWRhc2hhcnJheT0iMTY0LjkzMzYxNDMxMzQ2NDE1IDU2Ljk3Nzg3MTQzNzgyMTM4Ij4gICAgPGFuaW1hdGVUcmFuc2Zvcm0gYXR0cmlidXRlTmFtZT0idHJhbnNmb3JtIiB0eXBlPSJyb3RhdGUiIHJlcGVhdENvdW50PSJpbmRlZmluaXRlIiBkdXI9IjFzIiB2YWx1ZXM9IjAgNTAgNTA7MzYwIDUwIDUwIiBrZXlUaW1lcz0iMDsxIj48L2FuaW1hdGVUcmFuc2Zvcm0+ICA8L2NpcmNsZT48L3N2Zz4=\\\");\\n  background-size: auto calc(min(50%, 400px));\\n}\",{\"id\":\"p1219\"},{\"id\":\"p1217\"},{\"id\":\"p1218\"}],\"margin\":0,\"sizing_mode\":\"stretch_width\",\"align\":\"start\"}},{\"type\":\"object\",\"name\":\"Figure\",\"id\":\"p1228\",\"attributes\":{\"width\":700,\"height\":300,\"margin\":[5,10],\"sizing_mode\":\"fixed\",\"align\":\"start\",\"x_range\":{\"type\":\"object\",\"name\":\"Range1d\",\"id\":\"p1221\",\"attributes\":{\"tags\":[[[\"True Values\",\"True Values\",null]],[]],\"start\":104733.76481811586,\"end\":2566229.915929083,\"reset_start\":104733.76481811586,\"reset_end\":2566229.915929083}},\"y_range\":{\"type\":\"object\",\"name\":\"Range1d\",\"id\":\"p1222\",\"attributes\":{\"tags\":[[[\"Predicted Values\",\"Predicted Values\",null]],{\"type\":\"map\",\"entries\":[[\"invert_yaxis\",false],[\"autorange\",false]]}],\"start\":36160.50166598518,\"end\":2695986.9035533587,\"reset_start\":36160.50166598518,\"reset_end\":2695986.9035533587}},\"x_scale\":{\"type\":\"object\",\"name\":\"LinearScale\",\"id\":\"p1238\"},\"y_scale\":{\"type\":\"object\",\"name\":\"LinearScale\",\"id\":\"p1239\"},\"title\":{\"type\":\"object\",\"name\":\"Title\",\"id\":\"p1231\",\"attributes\":{\"text_color\":\"black\",\"text_font_size\":\"12pt\"}},\"renderers\":[{\"type\":\"object\",\"name\":\"GlyphRenderer\",\"id\":\"p1264\",\"attributes\":{\"data_source\":{\"type\":\"object\",\"name\":\"ColumnDataSource\",\"id\":\"p1255\",\"attributes\":{\"selected\":{\"type\":\"object\",\"name\":\"Selection\",\"id\":\"p1256\",\"attributes\":{\"indices\":[],\"line_indices\":[]}},\"selection_policy\":{\"type\":\"object\",\"name\":\"UnionRenderers\",\"id\":\"p1257\"},\"data\":{\"type\":\"map\",\"entries\":[[\"True Values\",{\"type\":\"ndarray\",\"array\":{\"type\":\"bytes\",\"data\":\"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\"},\"shape\":[1500],\"dtype\":\"float64\",\"order\":\"little\"}],[\"Predicted Values\",{\"type\":\"ndarray\",\"array\":{\"type\":\"bytes\",\"data\":\"BwzMInj3M0F8Hju6guAyQavNz6C7+jJB6Dbgs7nBMkGa+KmEGCowQSj6K7bWiDdBnO6znSq2MEGIRaykSGkpQdP/GapUEyhBUG7kum9oNkGTAAiIe3MkQdCkpMrneThBQE0KE9SmLkEsnO/8wXM7QUGWb8N8oTNBZNmJ8fWZMEHdiS0dp7g1QYutsnQJbjBBHQzOkvV1KEGvlvntE14sQTxND97QSzFBbFIin+DuK0GAL+F1e7Y2Qextl7yJmTNBpvIOVXkfOEGN9oToVUUxQQTcXDVAojBBMDBkcky3LUG9yTwWuTIsQdh0/PdyijpBJF+1aoejM0H+vJAg7rs4QSzukW9B5DVBRjYlFajRMkFzQa0L9qk2QWJMDP+gLjpBnp2+LVdxN0Hun2dozrknQc2AftBT6DpBozqaZuDsMUFQ4tckqa43QSwtCSXLXitBsB4h0xzuNEGYLpBu28MpQTArS8MWUDJBDebiidpDMUH5bIs9os40Qe+1fz4CIzZB5uOY33UDOEE/OTuDX88yQdAKhhrRpTZBwjEbfNDEM0GQ8++uY7AyQRzOnWW/Ii5B+iQFOBDXOUESZ3Oj0c47QRytRwE1VzFBK8kEri6SM0E75F1likA0QYckN+3AozRBaGmbW7B6LUGkBMXZRB0kQR8Lp8edaDdBtBwpHyuQLkGSv42SN2MuQUwCQ0cz5TdBB8JoldfhNkE49UJWcZ8wQQzM9HN8xjtBajjfhg+XNkEZrUVq7YwrQfTndszGyjZBeVr73F8ENUH5TF42904tQW27Vuw7siVBC1sZLUHjN0HwtzlGz4QxQYBuXqeObixBDGDym1JnOEEYirt86/weQfmkGqwhSjhBiOcVhnS1M0GnAA0L5sskQagSssOgXxpBwbQ0FYhONUHarDbzDDUlQfatwKTpPiRBY2xqGFOAL0G8Lv8Gh6Y2QXcpw4K8JTRB5G5630hoM0EaeHmf7rI1Qfn3MdijcSRBCyHjJ5SDMUGqhv5xRTkzQZor/Njt6ydBXb6txh8mMkF0MCv/FOUuQVn/m6TkcTVB93LE8QZ9N0Gfh9hI7BgiQVMsDnnYOzVB1uJOea1AM0G0ZHeJdZ88QS+U/smZ1UFBOYhEQsTYLEF7rN+feQw0QXJA54qJCi1BaORiPiboO0G2PQzt6tA4QRZyIrLO/DhBsBSofWlVM0EEVCADnYU7Qc+8hZbhmzJBM7wpH+/3KUFW6lZQZyk4QTBhDKy1PidB1f5XrZnANEH8tS9XqRgyQY5HsX4NwDdBq1XWWeT/OkFFiSv4v4Y4QRyGQrAeCThB/A6c1gBgN0G2t7qRwq47QUTMhSr5ITFBtR8QsWFbJEHA4GGqvNItQeI2DoTWEjRBBt9qfTbSOEEg/UTUBX40QcPqeQ5yoTBBmZA3lIomN0HD0Y5YdVY0Qft7kt6gsjVBZ7Cp0olNN0HrpGvqVIc5QRob+b2r2zNB9n45st60KUFWV0RmTfY1QduyOSsqXjxBXJFCJMudMEHvDt2nqiw8QSWpMhV3ZTNBJ4u87qgJP0E6G2hD3uYqQTmV7K4X/yxBjzUuvAAOMUEdNGqRw0g1Qajz+oK5DzdBXGGyexITLUFBjAgXFZMtQUVzl/GbJjRBGMP5NADKNkGw6uyWq/0zQZJxi6sEUCdB5CsOiGNbOkGLVvLuimgtQepVrnzHLj5BvMQbAnwgM0E8/EmjyAE1QWk/6qCqWjZBDrs5tC3IL0EeGQN91ME+QdMpCCy7vjVB9pmrmM/jJ0GFGhf9TDYpQTeSIRDGujpBHqT29/twMEGqrwU7Sac/QfoGiUT0fDpBUEZ+8xX5L0FXQbB3Wd47Qayl+o4zOTFBOB4mH+baOEH0pUgLGPg4QWv7ZJ7qRzdB/4hRYbsGJkH7444AD4YmQXQkFx0lqCBBNgM5L49BKUFcsAdTWEUwQUrwcAfShS1BJkvfwmK0MkEYnVzxoJ0qQQAVBgy5sh5BaDVUfpZQMkEcjkrGDCwwQeuC+Af8LzdBUm7xRg9ENEHQlGup1yc1QaYzLANqJzRBt5iZ7iVlMkEUmNmkmOoyQZFIW7sU1DRBDrqCnb75OkFjdttBs0Q0QYX1BcEU/TRBKkYK4YbKM0Ggdim05ogpQd3xDIQ0ZTNB9DRccEEiNkGcXTaHt58zQe2wQbnEXCtBrdwPvhE3LkFyxj2OMbY0QUtMH2AvKDlBVnOm6nK3J0GbfL5EmqwuQVoOSTnNXTZBRmMct0MoMUF5Ep3dqGgxQc7pRy74DDNBx98erkHbMEFMCbJacu4iQbdvJ6GXGDxBTebgHVgLMkHs8A0od50iQa27YC/tfzVB4qgIOLFKM0E65BaNNw4xQRo682IXczFBuI/rf49zHkG9o4kGAeswQQuCT51nyzhBUgs5JPdhKEE1etEFrHI1QSj+csbIxDdBZCb3BuHjOUGwdaUurCQ6QdSCvq5TiTJBpPiT6DsAMUFQZmvWWo0uQQBQsvcHNjBBNyAbMhXKOEEMDin70lE4Qbo0+r5vSTdBvrpZArg6MUH67n5qGWAmQcc7HmDRTjhBHBx4hoNnOkFnbF5GGkszQU0d30njiTJBwA0YnOmBN0GObdS6NKs6QS92zjiilyBBoXwiXZv+MUHMsn5OCmw1QUCV3Fp0LzFBIpkyO8GhIEG/IyZTxKczQXxfvm8cVDlBmWKMSZetNkGc/gw0/rQzQRHfWpfsQz9BHGCH9lt0J0GORGHCoGo8QfXJ7Sw3USxBSzVsR7HeOkHQFwnp00w5QVpQV9FcBjNBWquZXoe0JUGZWgohLSQ7QShsGKR+HxxBBkEbFhiIQEFbNm3q8EkkQV//hb7xgDtBBFI4b3dFM0H2DHXz5FwxQZRKdCw84zFBTAPoNx+qOkEW+AO7e3cxQbmPRwcLZy9BAEVmD8bzLEGmn4hYkgAyQRA+OwTlQCxBzN0QKWLkN0EIO/E34OcxQcL6r37YkxdBALBmltahM0HEtLqpqxIuQeseYnU3eDRB+BphGkTZL0ESfqnMYp8zQXE855iaVjdBkZ5SqBRpOUEiH8jKTJIwQUbztQnP+iVByb9g7XzCKEEun8XNyj00QXSBI/epMDdBz7r7MUQMNUFUU9Zq6jw2QbX1wq5FfC5BCTdWdekuQUGBJQ5Tg8g2QRQdgNZNkzRBDISacpbML0GMQvczwpIdQQO+2ncqVztBLL7Wue46MkGv690RRgwzQa3jfGHeHDFBJ+SfcjmjLkF2eMEpJec5QWQfC16J7jZBKpm2eAjYNUGdr+GiL3I0QerHw9HmbjhBIPi4QMgGKUGwzWeP3S0xQVpxDaYnuTNB5xsM1ELiOUHYnpiVX84yQeXxzZLBvDZBdOb9vyrXMkGLauxASVQxQR2evfIkazpB0IjQgUKONEHUzeLFFO0iQZQLDchL6zZBTVymrrlaMkH8H1lYqD00QW9QtMYxtjBByWvcEdagMkGTObbBYw0oQbBKk0hdeSxBNi9OTMekM0Ga63U8bXY2QaWQt3KEoyJBjghoY64PMkG8elpL4o0vQWiJaN7VrShB/WcNLCEAJEHNwwowmfwtQTz0wC+gGy5BoYUzzFkeNEFVZ4BRtEQyQfhJgzVqWS1BUwTBW2RvM0E/yyRVarw1QaZPFbz8OTlB7pjB2041N0EP6tClokw1QSSKrR42kTVB8PH/wyufMkHJAcJhvM0yQbCEr8yFPTlBxBWo9LdINEFMhkmHpik0QR/ml4gMzDNBD2SFUvqKNEGoPZIXI8w5QcZx/hvCBThBMBtOXl3jL0HUXQMfoa00QbXvNztd9TVBx8u755DyNkEqJm23LV0xQfEtTgXR4TZBGJMPLrqsNkFKixh7DmsXQUkzY2L8hDJBT7fKn+xYOkEc7N1XomQyQeQUx7AeRitBlDGAZALjMkHfvP32TPczQT3hOY0+6zVBLWbF7lE5K0GAcHTD60w7Qc9+tdU0tj9BTcBgGxcgLEEQFrdAXT02QafqIJoiEjNBbjpXbovpNEElIM4Z/R8xQemqQcjkWi1B+DIDa2pANEFIiRCaKRIyQR/WzToKxyxBpIvdka7eGUED7Z3NaqMyQapwBSBSjDVBPDxjbH3XMkEDO5XWTxo2QXqhWgCtiTVBhH32DNBCLEFgIZ0hobMuQe5l99piOjRBPgSelySWHEEC2TUO1eg3QVK89DxtVTBB1ihzhFg5M0FzQTkRmwMuQXfemNHujzBBvMH9YIclJkHFcWIHlM0oQTIegCjNgihBaPQPE96vOEEUgOUrzeEbQaINFnz/xzNBXPfgCk1NLUEzJfhwcUQvQcfXGthKHzVBbBLZ2TrcMkGqxYQ33o8nQRhkNGjrRC9BolZ3upBvNUGwEJZAJ886QaBIGZqVijNB+Z2FgC/zIkFBzfVawB02QfORd9H8QTJBbML5iJy0NEG7OH0+a3MwQTlVvy/SmzRBUYUzS0soMEHGt/ndjbUzQZVWbLFWhyVBqG1eQsZWMkG+kEFGRPw2QVS06RmPTy1BOwL9QylUMkEDsK+6r/03QYoHAL/qfTJB/cOZ3NuhN0ETYZHIQIAnQbFNytO4cDVBySiAZrriMkEV8YQ3UmkvQWZofN97XjRBlfaNgcKfMEExy6DUXvQvQYnM/nlfLzVB0zOVs2ALLEE/8xd1AbUwQcC9g8b3bTVBzsFFG4mPKEHQTpNIHz4yQeKa84+r1S5BPh7kfOFQNUE6VNdXby0zQbTc5CWqzzNBjMZ7fVW9M0FOgyFrNkg6QbszOs4JGTpBOl3wlL7lMUHc50TUN10rQY6zf5+GtjRBvoE6rqacMkGcLtMiptE0QWGQQESnETlBv5oWPfwcJkH7ESyzKvU3QWpa6AgYOSxBAbP5RdSDJEGtFyhT8T84QcInVN8E8TRBG1Cs023ZMkFKhWW0kpM9QR398FPvDDNB4oj0UdtCNUFD6nTGaPc5Qfds4EHHLDBBX6HxUA1dM0F6U98ZMOkzQdKMZkb9KitBEy0FTktpLUHo2KB2Ev4oQT2msudzWTVByuhNVfX+MUHwiUqYXy8zQQr/sT2M+TlBT2BqDv0tOUG5HTFl82g6Qb6tFlIhKzFBljibmANOKkEYBd/zxIMtQSbO3wQ99ydBPOHk7xreJ0HOiKzByXMyQaes4Cermy1BKGEnYOcSOEHa4OYPcigwQdx2r3EzPSVB0gJCXZiSOEH+PbBlQPMzQQy1IegDZTFBwkm7LatiMkGmr2aLoYwzQR1mfQAF5jFBHTgGRF7uN0G069ZTES80Qao134u3yzFBKm2ALVMKKEFe6VqkcnMxQeEVOPoSxyNBIYNeUq9UMEH7n2dKa8E1Qbt4/N3tuTVBBlr6osImMEHRy5faxMw1QXVQ6BNVLDRBkc68CLS2M0GBDgkj81wwQQLVwQ3aojNBiF8/9eEQL0FE17zK86UvQbB/JeYU/i9BdOidxs5TJkFdZIW4R80nQeQGVGj7gi5B0b2g1PBGMEF9IFxAgCoxQVREZO+oPjZBSSn5bP3lMEGn1K1NjF84QX/j6a4Q7zFB/oP9hRe7MEFJD7vyYQIzQUwbTTlCyTRBeb0rNDWPJ0GKgHpdQAspQXIxKplOSS5Bcg3BBTSMN0Fli1vECcI2QeUSKssu7jFBSAUF7y0bM0FZDO7Qrjc3QTIT/Iz20DhBY9+A7820OUEN3TX8Sjg+QcEJroSGzy1BD81bdM3mMEF1bY24X/0wQWpeVPPfdzJBrhgT0uR0NUGqlKWz5wUoQckBJm091DJBsn/YvyJsMkGTbZSOt3k7Qc0ozcy6I0BB0znRmLYNMUF+jqfoFW8yQQgzwIYHpDRBml/ByiFLNUFaXN2ZRpU3QSSAyrLKVSRB2W1VrP2XNkHJ+40XiSgvQb/W0yc3jS1BUGdr6dixNUFSFApP1jY9QZFXxt3u3ytBwPronCe3NkHqCDb49yQlQZGf/fDbei9B6cmH8oOjNEG3bRjtvPQ0QXv7LuAQ/y9Bwj1zqlimNkEztN1tOP0zQVB2nyu1HjlBkaN6BaaXM0F1c0PD+Cw2QQx/8Th9yTVBXSfOVb57L0FAfTmQ3E0xQYjuo+l2bTVBRrmtUPMuOEFtbFV/p6Y6QWLFOASGYDZBNIPzdaq6M0HeJQz0UQQwQXzyq4cp0jBBCRzhfBJXNkGwW789bxY1QdAj6ZogpyxBWZOkjFpmNEESQCAc9xIxQR7RjLc7ITRBLoGzd5YBIUF8w/2rYl41QWsjqIpjszRBJWC3R5fmM0G/MCFkfM8/QQuPVHFoBj1B8W2Hy1JtIEEqJeiCw0U3QZqc3IMb1DJBTAwkxezdJkEIgkjDRjYxQfQvB7OacjZBsFVGgMbeIkGKY7G9aAsxQbh/GtmzLDBBOELfOdjcLkFy6S8LIR44QYpwKE8HczBBUwSIGQ8cMEFBlt10RX4vQXuanC/5rTJBTOE0kI8VK0HeX7M75x83Qah7hbw3cDxBlr4esi5aL0HU0WcOuro2QR06SFcjazRBYsLqcxkPMUEeMXnYV98tQTqPP3IGvyRBp1hRmpM2NEEDOPoKu98xQZSvO/5I7DdB4xg6BCFnMUGfq/tS/C8xQYaHALz+UipBkr+CcR/UHUGNVp/E1rIzQd4P/rjcsy9BgjtsrqtdOUHlRt9aZq4xQZx4bKWgEj9BurtMoM0cN0FfR+2TGr4yQcjAnE3nlDdBxbYSqbLjNUE8ivKPOxE6QcEVcDjnkzNBFgKPtWA4N0FofuF1R40tQRQGzOajujNBf1QKwSPfMEF8RJxo6s01QSIrDqCdGzpB19lr3KOvMUGKT6QkmewjQY4QyI6gsDJBN6FCNHI2LEE0F2DGM10zQTmRMpeQIytByr6Q96nPMkGxmJfaOQ0sQd/JF5Mfsi1B8st5W3dzMkFzvBvQT5UxQdtH2k2A/TpBCenngyMSMkGhoi96qfAtQTkaAqruUTRBYvhqkSMIOUG9y/l/XXYtQRrKkEfckDNBcxqOfaZzNUGvXWdCX6wkQUy7789cZzJB7NVLomdbJkFdQI0irKU5QSoZieT5iypBSGQWhsZUMUHSt9WYIyQfQS25PM+yrDNBQAxkOvLnNEFXkokF9f0zQSUjsJFd4DVB0TzhZrYKMEHWDN7ynNwkQRgG4bB0yjBB6K4uMNLrN0GTDoTROQovQZpnFQGqBjBBTkf5gdkqKUFGPnfE7OExQcPn9n2zSThB9cHwdwZTOEGkM+SPMMQ0QZ5Tb6VvLTJB1vDAvyjxI0EivxDGFss3QW/+Lm0PvChBSLN3tbdEMUGstGoVJN03QfngOy2lDTFBzE7tvUDyN0Hfbd/AXxc1Qfxa7VOojzhBJsOmyz3uL0HCLlTZbu4xQfx9vKV6FDZBfIrpyx/WO0FypjxNAwk5QYW5tmUjvTZBSuUGy27DNUFFAwE3nssyQUFATyr+1zRBUih26Oi3NUGDZ8H/T6k3QbIcY5+W8ytBt/0105sLM0FEhFWdpXgPQf+U1sJHxzJBmokZ6NEvMUEyy2cnbh8qQVUvNFVPeCZBlOAAfiPYL0Fi1Aw2/fUwQfUSKLnNpDJB7iuRFEESNkEQXrY3lD00QTxbzHBQ8i9BdDYltVpyJ0HosXSg+Lo6QRnLyRBNUTZBsJFEqR5UQEE8fWX8NjU6QXHWOavxADFBLWjyiepxPkGmFpG0Cz8yQTBNtpY1GyRBTeilfXYdJEECxj0XOHM7QSSc+ekuwBxB0aBD3NLKNEE2YT0esxwrQehdYds9gyVBslUbOMdYNUFY4m2tDZ01QW44A3mUeS1BHKIcVGpfOkFfUHAzCn4qQTFmrViW8zVBNLO28/gaMUFWS6Ed8oU5QXp+mOKv+jVB5edAhWPbNkHpKnHTx5wtQcKvtCUL2i9BBjwESeIVNEF5000K4sUuQcOtz/CjNDRB5y3533NRMUHLZR2STAc3QYjWozK7Ty5BkcC2laFvMkHSeMxPdFg+QbFLPmDdyTJBc6l5hAU3NUEEzaHzP0QzQWLzVRZtJDhBDJm5LqJuL0GCjc+8o4o5QQAgWCdJSjNBDhlibwLYMkEuLhLpgiYUQcAh+rpo4CVBYnhjfS/VMEEot5oUcR4yQf9ccHEuOzNBI/4CzhI6MkEUNOwdTeYzQXAhMwOicTBBulQE+8vTMUGxNpeYBz02QSfYrCWFKDJBLIJQPDTCNEFCYwoKRto2QVm0exz87itBfOeLYA/2M0F/77QWORc4QW+IcUgDojFBpslbZTm7NUH2Quc9jakzQbH7oX9wmTFBe2v+Q7LZO0EDAzpIqP8vQerio/kFuytBxzCuOnYdM0HyV12duFo2QXktSRcJBDlBHyHvFCo7N0EAfuUbZxUvQchHAMmV6CNBx7Qii+CbI0FzLPkcL3ExQWRRdRK1QjNBMZ5s23UwM0FkDczlVf0hQVjvb/WDHDJBiCK/k2sfMUGAUY8yvY07QWmMFA3JcztBiBzEHvwfMUGCT0TgTrg1QaUDSf13CTdBh9nELAUwNEH0XkKkHwY2QUBMZ3drxjNB4DENMmmkN0FzfY7Q4NYyQfSNfvvbWiRBQPAqGjdAM0GynHmPUO8vQVdheDQyhDxB7EdvDtfRN0F7DZidoEUmQSOwBX+95jJBIBtITVS0K0FOjN3EBbk6QXlsvb0GdThBKD1casHzNkFzhxptjIU1QeipPnmxPzVBavK+GWyHFkFj1snijX85QWeebeJWK0BBGoDCsjWlGUG4DzPpxKw2QXRWJBYFVDJBPN1LE1pWN0ElrbquvHwvQUHpF9qAvilBsYTk4UekKUEfjjAufSsiQZwo8R4gHSpBRAeypNazL0HNl0gSHd82QWQBA1/xpTRB6jAT9MjPMUEt77HA6OYtQa5EuhlVqjhBzToOkFAwMkEHZSLi1okzQTbK15K9lyBB3Hr01noWMUGeZSIVo881QYWo/AgTHzJBtWlgIt23M0EH/uEQd380QfJxpDkPCDJBpoHIWwEEN0EVIcYmaE4zQbcxDOyidTRBDHzgu6+CM0F6AFrN6FYmQXzK0TNitjdB/urfOiNJNUGN3E9IHxgyQRGiGGzZ5zRBzVGGUxHpMEHCcKWvb7ItQbD3lIYoUjJBPjy/V5B8PUHDuNmYrPcmQSQ1L3DNqy1BZnNMlRobNkFzD5Nd1WI8QXAgVRmU1itB4+cjmWWTLkEgtO9yzTUsQTxeDBtwWS1BuPM4m8GZMkHM3I0W3VUzQel1eivRsjhBzgEFuoAhOEGKv5DvhF8nQb/guBPIhjpBwNqFUyhGOEHfBvTz9Jc5QUnISu028y1Bc9i5lrfoNEHwVhaleKIrQU+LK27M6DhBBLSbm00LJUECwTts3P43QQJECqGqXzZBXCDOj68jOUFqbisDpBAyQSdsTvuJ4jFBbjROw0tRNEG9TzD08iozQarN0+GoYDxBqqpKrG4eJ0Fw58+QTDo1QbvR1ZpSHTpB3pWGmg3MN0HpLElibwQrQR+B1Bfd/TNBPvxg+87pMUGOpN06BVkwQR7HENObDjVBPy9ns4TbMEF8mf6M8NwxQRMY9vKGTS5B0DtymaBwNkH89ZjDF1k3QfMQF/zFkThBtM9uV8r1NEHp8TPXuWItQdcVBlJuHDdBmWasUaayMUFC8PcJHaUqQckrJ9YqzzFBfY0T0nyGIkFl421er942QZSC0x+HHC9BCP3QnYpGOUGaqt7xLZIqQYPmuTgCbzZBW+kxknwtOEH34Qhar+BCQY2McWtiAjRBA3y8wcJSLEHw/4MKPbIzQV0RpM2WRThBmF1MSWNZIkEg6A1W81c4QavgVsxAFjJByg/jhnH3N0EdK48HoqcnQUIiklQ53DZBwvkAestCJkEhH9IzU/U2QW1O57wA7C9BmygbcLnwM0Hz25KqQn0zQcSOzqcVcC5BWFn6LvXdIkEgi7hrLD04QQWxkOEEWTVB4IF1lmUGNEGqHIJRaDkyQQXZ6yBSwS9B+/a8l+ZeN0GCfokUSoktQb5sZ1/mwTVB4hfm9GDJMUFekGsHHX4qQVGGQXojgjdB7GPAwa4JLUH3O4co0SM5QQSd3rgbQzNBFhX48I0+I0FH/04iW5QhQXxXVLn/EDpBArxdexjdOEGKfOgGW5ApQW9tndYJzipBAE/+z5jPM0GTuXFwjLIxQVeFaFt45SZBSdjcO0QALkGpqbLOf5QxQczjxeA3vyxBlNryThogMUFSXeoKzKA3QV9csbk/0zNB9//mHnc0JUHR+GtO1rsvQSDxo35YNipBIXxFvz/jMkEVC7yI2U4wQcNv61pWey9BsKcPj3SIMkGovkVCXHo0QfjoEhuELjFBNH2Dx6gpNkEqYJcVBbMwQaRSIE4Q+TJB9MdfFNEHNEHOR3xC4uQ2QQv7AUi6EjhBcr7Vr5hLM0Fg67+yW4YtQduVRxhT4jNBqaXzgpv6LEHSqWGNIwcxQbPoJFib7TFBc+iJpV4mLkGHKGLxY5YvQU7eJYdr/TBB8ilRFETMOUGk2piEKggeQbbwqV9ZwDtBte7HslopNUGYIzm+cUQjQRUiQBkKqjJBAVx5cU0BMkFC5LQciIwvQRnd8JHgCSxBDWIbDC+7OkFTFwBgdiE4QSnw3Wo12jdBFuK6BhR+NEHG31QB/d0xQcMqBZYcxC9BfVgGGwgaNEF/tpbym4Y8QbHyPSN8XDlBh2uacQjaL0EYrK/CvDQvQZevlU6FDzNBvAXBCrYXNUELyIx7C94wQRYT0P3BlDtBBQB7g55uMEEDb8UVi50xQdfO2x5wGTFBeo2GNuRcNkGTDbSMT3MrQSBkenWcbyxB0/EkHGnQLkGb0VPmOT01QWjJn6xt9hxBaMpXzFe1LUEMC/Ms8Gc7QX4ZXvpo+jFBcuVOmwuNN0EZ/O0rMqg2QWov4xlxbidBVAaMj6DWN0H8YoW4CRc3QWkE514TAyNBDHgMlgIXMkHMt3INqgY1Qehdg+H31i5BBrZM8YRmMEH42XAhXRUwQRblIGmkgDVB4KAkQXwKK0F2rR/yX7MzQYLbp7c8My5BEC87MkxELEGBBDs92W0qQVZuIZYgujFBHgbCADUfK0FSPk9JXfg0Qfwjlj2C0DNBp96GkB6ZNUH0IRrBR3onQYmHS215BTRBxYQ09KGOLEEkaYOq3a8nQd4jTrm93CdB7nVH3QWMKEFEFA39gnM1QduUJVrUWjNBuNg6bmWNMkHjTx/CwLUrQbRsQ4WQFjlBvCZ10WXILkFydFlVGvIuQZQl+mFBCyxBrOHmdkrgK0Eeld9oi24qQT3L2qujXjJBaDKkLv1kMkEO6pPPE+I2QRULZbb2CjZBJQeFeEOqMkE8Z4mvy6omQTtiIppqxjZBZaYpDtC7NUEXNCCb8V0yQVEFkPNXajBB1POgfvl7MUEwOZ4I7VkyQfqlx0bmijRBKPuSIREsLkHDsjYXqA0wQZntbtTIvDNBMT3wdkLSMUEfWmeaqFs0QftL4q/X1DJBpy/FORfxNUH+ednbuqY7QS2BvI7lBCxBvTLJGvz2NEHs7rHFOQMtQdTibz8TPC5Bab2nfD9fNEFOLXdV2UAnQcpWYdoqTDhBRLCev5fiMkGW8S6XKlIxQe0IfwbMnjBBiCi1RrsYM0GihIl1HAw0QUdvr7Kr+y9BY9gqKO6bMEE1ef5VgUoxQZ2ymgbohDVBxRXwGhb7NEFLoFlaSaIzQYJ5TCcLeSlBLJAd9OWMKkH3ScvztokmQUzVExHPujpBzLUIqU31OkFHKud23GozQd6IRrUejSlB0pfrFqBvMEFGmorLHig3QVI2NWPiNTBBxnShyme8NkGKQh94YTIqQVigLJNnMjRBw5md7CNwNEEzwnbysdwwQRB1Hn60ljBBnv4RRSRuJEEnpd1AFMo1QUqbltGZSjRBMWGOH48pMUGwapavTqIzQQKCgu3pyzZBOEcRxGfSNEHkVflUv1k6Qav7g/l3KzZBSABUuxvEMUGQQY0xF3k4QflD5SX5KjJBsl4+nTOBNUFO1VaGovIqQQWfkMo4ijdBTDFAxjznNUGl5FyZDwE2QZGZ1Iw4oT5B1aVUTajNNUE8a9xs7FUyQS6fIdxLjy5BhUEMayv1NEEM112EOgEzQYD0UZWYUS5BQQ1j3n+dJkHTTS724ok1QR2YwVs6NTdBjrqdm0NKM0ECykAiNnUwQV6zZE5q1yxBDisXBPRHNkHH+rAYiRs0Qasg7Qa76zNBwAtpFLkJK0Eh22tTwikwQcnvzqRRFTRB4sEmOfwiJkGgXMqBxcsuQanMqT2w2zNBKheKPTPZJkHYuk/RNzA+QZrWudpgwzpBhM8D8BrWM0GG0k7qswEwQVBPrXk+xDpB8zakdoQsMEFv7x9QahUwQUDQFswxiC1BTDpHqlX2PkFG2vQt+r80QT6ofKo9bzNBPLgzie+mL0EAG6X4EZMwQVfILHEFky9ByLdGeQGUI0E5kgtCkG8lQVdEOBgCayxBD3wPr+lxNUE2c82ei9IoQfcExLEKVDVBjF8XsCe9LUFq4g7QEVkwQVAoahw81zFBlziaSsDKJkH22pFqhRwtQSzi0+1bPilBTUfAKsyKNkEDHKO9ugc3QUyQiEImKzRB43piPEdsNUEhr3DD9XsjQZw2XfqUIilBhENGmnkEKkEL0cEcKNgyQZFzIDHFRTBBA+VDbZAgNUGU2dhRYxExQfrZWZEBaC5BPADuSaqPN0GJs/7xKSwyQeYef5cEwSlBfio7B4GAMEESZXhCjd48QfZhHDBCNClBpYsdB4gKMkGFv4kzMCoxQY1UjM9STDxBmUv8pYIOMEE+D6l7wbQrQXpbwBQKmD5BIPADVGaoIEEO6INe2Gs5QcQmH8RD4CNBbjO4eke3NEHfg6+TY+suQQD/AeR7aTlBIXiHEW6vLUGZgtr/VKU3QRL+cNdqqTlBNDDDRYJqOEEzzVGu/kwyQRQSYEa7ezJBMEMrORyuM0F3m7JUac83QfG4O4nXeyhBJC2AAH6SMkEoHu509uU6QTQ79OSgUDlBNMa5mKtDMEHo6WzrTLE2QUAWgT3RuzdB3TvIHFmvMkHPBPNTsYAxQa+eajGpLTBBUzOX5E4NMUHi1Mtr3gc9Qb2LmSjVHSdBLDB6iiKbOEG+szcX+aIxQYTUwYR5wilBH2vm0iwoNkFttyOKCb05QfrorpHnFzlBg2coy96uMkFqP3yKdQcyQWJRyafl8TZBRSHTPk/qM0HkZ1DstUs4QWD+se5wBSVBOhRhQvd8M0EWWUWk5xI4QaHV3fisKDJBRFqb/EysOUGiJjY5tD4uQSdt2ZLamDRBk/Ns/NiOOkE5KwoIgjE5QYkNVXh/PjNBqXD0jfprMEGMWQkkIDIzQZmN1Dp6QTJB9+7oDCwRPEHsNIKFAXouQZbstK4Djx1BvkuRBsF+NkEocNw9LxYmQfQ6e66a+hdBQDAGGw+IL0Gbntxxy382QYLW5GUo7S1BQuE9YmVkNkEs7HwrFWc3QZ5TF6fLnDBBPMDd5GKRMEHCCmFP/6A4Qd48agsQsjxBqvoSRgPHLUEUp7ahyDQ1QX4oSxrh3i5B4ILttpCUNkFzOy0wq5UzQR4eFlssSTNB83WadbAWMUGJItGs3McgQcSSr74IbiFBkiUhce2/KkFe5rM+GJQ1QSa4CSjbGzFBByZ0V7h/MUHsrVmgwv44QUNWKzb/bzNBSx7csfMQMUE/QKRB8EYuQRNaDytAczNB6oWrrgCuMUGgxDqUY1g1QSr2mnsZnyVBBHhF2q7vMUEmcikT/E47QV/hz7FFcTNBFjGK273/K0HMG2EOYJswQdJJGTl2azVBO6uiR769M0FESnP7eFwpQQ8ZczjUADZBwyy9NzwXN0G5htX/7/QpQcaodAOP4zdBzH2U8ofUMEFavv8bZbFAQdLXS5xjWztBBD6TwCiCIUHt21sgizY1QdAlJos8MDZB4kyPqYE4MkFwXEBI4ssyQYxwsfnfWDFBUdUOQrwhOEF/wK8LatsyQUNtnfSOjixBBqLXdAfOMkHlbzTcJ80zQVqwPNCUxDdBSy7Vyx/kMUF3ngcMbcEvQc3URDTemDBBSse0n/9MN0EAkNdAVQEqQQw27VUMxDlBS9nz0TWrMkE+nWoEnsYyQeWPjguCizlBsHXhtwLeNEHr+kHri6A0QSB4KKkcYDlBBI6GUcM9OkEweo4qJWo2QUlmE49MVzRBPVWxO8alNEFI3WBGTLYzQU0dQISeODJB59CM0xG+NkG4iPwGQhktQXIPLdccmi9BYDSiPfPCMkElQX0FL8IlQSu+33odwzFBoifD8gaiLkHswm4Hk4s1Qa5i/dPuFDdBIaLXkyBcMEGZoqLlI8Y4QQ2ab3g99jhB2uvKHgBqNEFlN6iToi01QZU0cIa4ODJB5tnBoTACI0Fp0r0IACY6QbFbhqATETNBpv7NzU9NIUEa/YJMmSo6Qe01skrOTDVBiTsXbkgzMUFG9J+yKeomQVriPhxWfjZBI2E6+ROqNEHwOtXx7P8kQTb4bT5KajJBpFOHYQrrM0HwPpzC9gsrQZreeWLXIDZB6GmcUw0DMEF2w1XHF+o2QQTuHj3TvyVBWEmOOzDwMEHFZUt91eI6Qb192O7i3jJBKWBCIkWyN0GZsbBf3Qs4QeaCRLjkuDRB3Ao6X9RsNEFgEwoVvPMzQa043MyXEzBBAGJMxQnAJ0HwpXO6usw+QU6MDNHqljJBsLFsnPtrMUE+bbn2dd4vQaA8j7CvhTZBUIhW1xy6NEGtRtaY1nsyQSOQq2Q0kjNBY8Ud75amLEHozeAm6EE6QRAGtmFSkSZBKjQIlFt1KkF0h75pMLw0QV38024oeSZBgC6Mz7qRNkH3uz9ygVcyQX/qTZPYpjdBrg2sM3BRM0GKfozfFekuQR/rGhDprTJB39MRUpGOMkHyfxRODkM1QRzA4KHYmzJBLuruzhy9J0HO8+DNJ5Y0QYZuN5yg5SZBxQaPbziWN0FFMeS436cwQXnyaAvwYDZBW5oL4BL7NUHJs7b+0swvQYZjjIJghjZBkicXXp2fNkHqDOgNzRIwQXq+o4qbcyRB92b7QtfzOkFnlGbmIBMuQVIeNYh7iTdBpHyLEh/FMkF0t1SblOQvQeCWgxMC0zBBJYnmiedlMEF2DbTumckiQe5I6cMuZTZB4YP9934aM0G35ssWQaw0QVih6rjHODhBBHEg/HZsMEF9omsL5lE5QXoKA6OuQTBB7FpI39cqNUHa/X2h+30yQeKt2Fa2qClB8QEbeoSpJ0FGjxa9RvIzQToRo7InsTJB1CqaNaZrMUHb/HAzpJ8tQfLZxoTfljNBiVxheRZpIUHB/b1ulYg2QVxyn/GxVzdB1MkMXm8cNUGGI+PEyXU6QcbhsFwtTD9B/htM0C2fP0EdKRxi6WcyQZHieEiTpjlBQjGDn6yONUHnkl/4i305QTbxxpOKPTNBnezzfoi4MUEe1RaDBy40QdMu+YZdnDJBOQtqFAhDNkHbNulS1dYnQYffLl0hSzlB8+4rJJVeLUG0FKs2pbA4QQYF+PdJHTNBwb6vqJotL0H9Ek9vTD47QYaxVKlY8jNBwMpUzgzuHUHU5gKvuyExQYscZ1vN6i5BJqSG1QUVNUH0t0e2Luk1QYwNwz/eGTVBecu6YbcbLkGUmcvGLMA0QQREZXgC2CtB9KfaByrhL0FUzn3mmgUzQRRQEzT0sDJB7jdGV77FL0FuucfSdu0zQR/uJJ/IKCxBxhM9HWXGMEHr07BKRskwQceInBdISzdBXJpqvdl0NUHdkvxrqqA8QZSN0H0A0zVBNr50K9BCMUFHQntxpYY2QRnk7MqT/TtBxyDVM/0UMEF6fYPznb88QSWQJRJFczFBANQgvQOQNkHsvcSWM6cvQYO33r5WFjRBKexbZg+JMUE0okGBpGsoQQsx98x1/iRBbkLq0RAVMkHnuBHWSSkxQRAL/qye0DVBovz7YT7pNUFgcjXCjO41QV/4lzkytTBBRToAy987NkEW5/3zpKI2QWbA2jGt9y9B\"},\"shape\":[1500],\"dtype\":\"float64\",\"order\":\"little\"}],[\"True_Values\",{\"type\":\"ndarray\",\"array\":{\"type\":\"bytes\",\"data\":\"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\"},\"shape\":[1500],\"dtype\":\"float64\",\"order\":\"little\"}],[\"Predicted_Values\",{\"type\":\"ndarray\",\"array\":{\"type\":\"bytes\",\"data\":\"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\"},\"shape\":[1500],\"dtype\":\"float64\",\"order\":\"little\"}]]}}},\"view\":{\"type\":\"object\",\"name\":\"CDSView\",\"id\":\"p1265\",\"attributes\":{\"filter\":{\"type\":\"object\",\"name\":\"AllIndices\",\"id\":\"p1266\"}}},\"glyph\":{\"type\":\"object\",\"name\":\"Scatter\",\"id\":\"p1261\",\"attributes\":{\"tags\":[\"apply_ranges\"],\"x\":{\"type\":\"field\",\"field\":\"True Values\"},\"y\":{\"type\":\"field\",\"field\":\"Predicted Values\"},\"size\":{\"type\":\"value\",\"value\":5.477225575051661},\"line_color\":{\"type\":\"value\",\"value\":\"#30a2da\"},\"fill_color\":{\"type\":\"value\",\"value\":\"#30a2da\"},\"hatch_color\":{\"type\":\"value\",\"value\":\"#30a2da\"}}},\"selection_glyph\":{\"type\":\"object\",\"name\":\"Scatter\",\"id\":\"p1267\",\"attributes\":{\"tags\":[\"apply_ranges\"],\"x\":{\"type\":\"field\",\"field\":\"True Values\"},\"y\":{\"type\":\"field\",\"field\":\"Predicted Values\"},\"size\":{\"type\":\"value\",\"value\":5.477225575051661},\"angle\":{\"type\":\"value\",\"value\":0.0},\"line_color\":{\"type\":\"value\",\"value\":\"#30a2da\"},\"line_alpha\":{\"type\":\"value\",\"value\":1.0},\"line_width\":{\"type\":\"value\",\"value\":1},\"line_join\":{\"type\":\"value\",\"value\":\"bevel\"},\"line_cap\":{\"type\":\"value\",\"value\":\"butt\"},\"line_dash\":{\"type\":\"value\",\"value\":[]},\"line_dash_offset\":{\"type\":\"value\",\"value\":0},\"fill_color\":{\"type\":\"value\",\"value\":\"#30a2da\"},\"fill_alpha\":{\"type\":\"value\",\"value\":1.0},\"hatch_color\":{\"type\":\"value\",\"value\":\"#30a2da\"},\"hatch_alpha\":{\"type\":\"value\",\"value\":1.0},\"hatch_scale\":{\"type\":\"value\",\"value\":12.0},\"hatch_pattern\":{\"type\":\"value\",\"value\":null},\"hatch_weight\":{\"type\":\"value\",\"value\":1.0},\"marker\":{\"type\":\"value\",\"value\":\"circle\"}}},\"nonselection_glyph\":{\"type\":\"object\",\"name\":\"Scatter\",\"id\":\"p1262\",\"attributes\":{\"tags\":[\"apply_ranges\"],\"x\":{\"type\":\"field\",\"field\":\"True Values\"},\"y\":{\"type\":\"field\",\"field\":\"Predicted Values\"},\"size\":{\"type\":\"value\",\"value\":5.477225575051661},\"line_color\":{\"type\":\"value\",\"value\":\"#30a2da\"},\"line_alpha\":{\"type\":\"value\",\"value\":0.1},\"fill_color\":{\"type\":\"value\",\"value\":\"#30a2da\"},\"fill_alpha\":{\"type\":\"value\",\"value\":0.1},\"hatch_color\":{\"type\":\"value\",\"value\":\"#30a2da\"},\"hatch_alpha\":{\"type\":\"value\",\"value\":0.1}}},\"muted_glyph\":{\"type\":\"object\",\"name\":\"Scatter\",\"id\":\"p1263\",\"attributes\":{\"tags\":[\"apply_ranges\"],\"x\":{\"type\":\"field\",\"field\":\"True Values\"},\"y\":{\"type\":\"field\",\"field\":\"Predicted Values\"},\"size\":{\"type\":\"value\",\"value\":5.477225575051661},\"line_color\":{\"type\":\"value\",\"value\":\"#30a2da\"},\"line_alpha\":{\"type\":\"value\",\"value\":0.2},\"fill_color\":{\"type\":\"value\",\"value\":\"#30a2da\"},\"fill_alpha\":{\"type\":\"value\",\"value\":0.2},\"hatch_color\":{\"type\":\"value\",\"value\":\"#30a2da\"},\"hatch_alpha\":{\"type\":\"value\",\"value\":0.2}}}}}],\"toolbar\":{\"type\":\"object\",\"name\":\"Toolbar\",\"id\":\"p1237\",\"attributes\":{\"tools\":[{\"type\":\"object\",\"name\":\"WheelZoomTool\",\"id\":\"p1226\",\"attributes\":{\"tags\":[\"hv_created\"],\"zoom_together\":\"none\"}},{\"type\":\"object\",\"name\":\"HoverTool\",\"id\":\"p1227\",\"attributes\":{\"tags\":[\"hv_created\"],\"renderers\":[{\"id\":\"p1264\"}],\"tooltips\":[[\"True Values\",\"@{True_Values}\"],[\"Predicted Values\",\"@{Predicted_Values}\"]]}},{\"type\":\"object\",\"name\":\"SaveTool\",\"id\":\"p1250\"},{\"type\":\"object\",\"name\":\"PanTool\",\"id\":\"p1251\"},{\"type\":\"object\",\"name\":\"BoxZoomTool\",\"id\":\"p1252\",\"attributes\":{\"overlay\":{\"type\":\"object\",\"name\":\"BoxAnnotation\",\"id\":\"p1253\",\"attributes\":{\"syncable\":false,\"level\":\"overlay\",\"visible\":false,\"left_units\":\"canvas\",\"right_units\":\"canvas\",\"bottom_units\":\"canvas\",\"top_units\":\"canvas\",\"line_color\":\"black\",\"line_alpha\":1.0,\"line_width\":2,\"line_dash\":[4,4],\"fill_color\":\"lightgrey\",\"fill_alpha\":0.5}}}},{\"type\":\"object\",\"name\":\"ResetTool\",\"id\":\"p1254\"}],\"active_drag\":{\"id\":\"p1251\"},\"active_scroll\":{\"id\":\"p1226\"}}},\"left\":[{\"type\":\"object\",\"name\":\"LinearAxis\",\"id\":\"p1245\",\"attributes\":{\"ticker\":{\"type\":\"object\",\"name\":\"BasicTicker\",\"id\":\"p1246\",\"attributes\":{\"mantissas\":[1,2,5]}},\"formatter\":{\"type\":\"object\",\"name\":\"BasicTickFormatter\",\"id\":\"p1247\"},\"axis_label\":\"Predicted Values\",\"major_label_policy\":{\"type\":\"object\",\"name\":\"AllLabels\",\"id\":\"p1248\"}}}],\"below\":[{\"type\":\"object\",\"name\":\"LinearAxis\",\"id\":\"p1240\",\"attributes\":{\"ticker\":{\"type\":\"object\",\"name\":\"BasicTicker\",\"id\":\"p1241\",\"attributes\":{\"mantissas\":[1,2,5]}},\"formatter\":{\"type\":\"object\",\"name\":\"BasicTickFormatter\",\"id\":\"p1242\"},\"axis_label\":\"True Values\",\"major_label_policy\":{\"type\":\"object\",\"name\":\"AllLabels\",\"id\":\"p1243\"}}}],\"center\":[{\"type\":\"object\",\"name\":\"Grid\",\"id\":\"p1244\",\"attributes\":{\"axis\":{\"id\":\"p1240\"},\"grid_line_color\":null}},{\"type\":\"object\",\"name\":\"Grid\",\"id\":\"p1249\",\"attributes\":{\"dimension\":1,\"axis\":{\"id\":\"p1245\"},\"grid_line_color\":null}}],\"min_border_top\":10,\"min_border_bottom\":10,\"min_border_left\":10,\"min_border_right\":10,\"output_backend\":\"webgl\"}},{\"type\":\"object\",\"name\":\"Spacer\",\"id\":\"p1269\",\"attributes\":{\"name\":\"HSpacer01299\",\"stylesheets\":[\"\\n:host(.pn-loading.pn-arc):before, .pn-loading.pn-arc:before {\\n  background-image: url(\\\"data:image/svg+xml;base64,PHN2ZyB4bWxucz0iaHR0cDovL3d3dy53My5vcmcvMjAwMC9zdmciIHN0eWxlPSJtYXJnaW46IGF1dG87IGJhY2tncm91bmQ6IG5vbmU7IGRpc3BsYXk6IGJsb2NrOyBzaGFwZS1yZW5kZXJpbmc6IGF1dG87IiB2aWV3Qm94PSIwIDAgMTAwIDEwMCIgcHJlc2VydmVBc3BlY3RSYXRpbz0ieE1pZFlNaWQiPiAgPGNpcmNsZSBjeD0iNTAiIGN5PSI1MCIgZmlsbD0ibm9uZSIgc3Ryb2tlPSIjYzNjM2MzIiBzdHJva2Utd2lkdGg9IjEwIiByPSIzNSIgc3Ryb2tlLWRhc2hhcnJheT0iMTY0LjkzMzYxNDMxMzQ2NDE1IDU2Ljk3Nzg3MTQzNzgyMTM4Ij4gICAgPGFuaW1hdGVUcmFuc2Zvcm0gYXR0cmlidXRlTmFtZT0idHJhbnNmb3JtIiB0eXBlPSJyb3RhdGUiIHJlcGVhdENvdW50PSJpbmRlZmluaXRlIiBkdXI9IjFzIiB2YWx1ZXM9IjAgNTAgNTA7MzYwIDUwIDUwIiBrZXlUaW1lcz0iMDsxIj48L2FuaW1hdGVUcmFuc2Zvcm0+ICA8L2NpcmNsZT48L3N2Zz4=\\\");\\n  background-size: auto calc(min(50%, 400px));\\n}\",{\"id\":\"p1219\"},{\"id\":\"p1217\"},{\"id\":\"p1218\"}],\"margin\":0,\"sizing_mode\":\"stretch_width\",\"align\":\"start\"}}]}}],\"defs\":[{\"type\":\"model\",\"name\":\"ReactiveHTML1\"},{\"type\":\"model\",\"name\":\"FlexBox1\",\"properties\":[{\"name\":\"align_content\",\"kind\":\"Any\",\"default\":\"flex-start\"},{\"name\":\"align_items\",\"kind\":\"Any\",\"default\":\"flex-start\"},{\"name\":\"flex_direction\",\"kind\":\"Any\",\"default\":\"row\"},{\"name\":\"flex_wrap\",\"kind\":\"Any\",\"default\":\"wrap\"},{\"name\":\"justify_content\",\"kind\":\"Any\",\"default\":\"flex-start\"}]},{\"type\":\"model\",\"name\":\"FloatPanel1\",\"properties\":[{\"name\":\"config\",\"kind\":\"Any\",\"default\":{\"type\":\"map\"}},{\"name\":\"contained\",\"kind\":\"Any\",\"default\":true},{\"name\":\"position\",\"kind\":\"Any\",\"default\":\"right-top\"},{\"name\":\"offsetx\",\"kind\":\"Any\",\"default\":null},{\"name\":\"offsety\",\"kind\":\"Any\",\"default\":null},{\"name\":\"theme\",\"kind\":\"Any\",\"default\":\"primary\"},{\"name\":\"status\",\"kind\":\"Any\",\"default\":\"normalized\"}]},{\"type\":\"model\",\"name\":\"GridStack1\",\"properties\":[{\"name\":\"mode\",\"kind\":\"Any\",\"default\":\"warn\"},{\"name\":\"ncols\",\"kind\":\"Any\",\"default\":null},{\"name\":\"nrows\",\"kind\":\"Any\",\"default\":null},{\"name\":\"allow_resize\",\"kind\":\"Any\",\"default\":true},{\"name\":\"allow_drag\",\"kind\":\"Any\",\"default\":true},{\"name\":\"state\",\"kind\":\"Any\",\"default\":[]}]},{\"type\":\"model\",\"name\":\"drag1\",\"properties\":[{\"name\":\"slider_width\",\"kind\":\"Any\",\"default\":5},{\"name\":\"slider_color\",\"kind\":\"Any\",\"default\":\"black\"},{\"name\":\"value\",\"kind\":\"Any\",\"default\":50}]},{\"type\":\"model\",\"name\":\"click1\",\"properties\":[{\"name\":\"terminal_output\",\"kind\":\"Any\",\"default\":\"\"},{\"name\":\"debug_name\",\"kind\":\"Any\",\"default\":\"\"},{\"name\":\"clears\",\"kind\":\"Any\",\"default\":0}]},{\"type\":\"model\",\"name\":\"FastWrapper1\",\"properties\":[{\"name\":\"object\",\"kind\":\"Any\",\"default\":null},{\"name\":\"style\",\"kind\":\"Any\",\"default\":null}]},{\"type\":\"model\",\"name\":\"NotificationAreaBase1\",\"properties\":[{\"name\":\"js_events\",\"kind\":\"Any\",\"default\":{\"type\":\"map\"}},{\"name\":\"position\",\"kind\":\"Any\",\"default\":\"bottom-right\"},{\"name\":\"_clear\",\"kind\":\"Any\",\"default\":0}]},{\"type\":\"model\",\"name\":\"NotificationArea1\",\"properties\":[{\"name\":\"js_events\",\"kind\":\"Any\",\"default\":{\"type\":\"map\"}},{\"name\":\"notifications\",\"kind\":\"Any\",\"default\":[]},{\"name\":\"position\",\"kind\":\"Any\",\"default\":\"bottom-right\"},{\"name\":\"_clear\",\"kind\":\"Any\",\"default\":0},{\"name\":\"types\",\"kind\":\"Any\",\"default\":[{\"type\":\"map\",\"entries\":[[\"type\",\"warning\"],[\"background\",\"#ffc107\"],[\"icon\",{\"type\":\"map\",\"entries\":[[\"className\",\"fas fa-exclamation-triangle\"],[\"tagName\",\"i\"],[\"color\",\"white\"]]}]]},{\"type\":\"map\",\"entries\":[[\"type\",\"info\"],[\"background\",\"#007bff\"],[\"icon\",{\"type\":\"map\",\"entries\":[[\"className\",\"fas fa-info-circle\"],[\"tagName\",\"i\"],[\"color\",\"white\"]]}]]}]}]},{\"type\":\"model\",\"name\":\"Notification\",\"properties\":[{\"name\":\"background\",\"kind\":\"Any\",\"default\":null},{\"name\":\"duration\",\"kind\":\"Any\",\"default\":3000},{\"name\":\"icon\",\"kind\":\"Any\",\"default\":null},{\"name\":\"message\",\"kind\":\"Any\",\"default\":\"\"},{\"name\":\"notification_type\",\"kind\":\"Any\",\"default\":null},{\"name\":\"_destroyed\",\"kind\":\"Any\",\"default\":false}]},{\"type\":\"model\",\"name\":\"TemplateActions1\",\"properties\":[{\"name\":\"open_modal\",\"kind\":\"Any\",\"default\":0},{\"name\":\"close_modal\",\"kind\":\"Any\",\"default\":0}]},{\"type\":\"model\",\"name\":\"BootstrapTemplateActions1\",\"properties\":[{\"name\":\"open_modal\",\"kind\":\"Any\",\"default\":0},{\"name\":\"close_modal\",\"kind\":\"Any\",\"default\":0}]},{\"type\":\"model\",\"name\":\"MaterialTemplateActions1\",\"properties\":[{\"name\":\"open_modal\",\"kind\":\"Any\",\"default\":0},{\"name\":\"close_modal\",\"kind\":\"Any\",\"default\":0}]}]}};\n",
              "  var render_items = [{\"docid\":\"9f67d61f-a13b-4bc1-b63a-b4771de1c149\",\"roots\":{\"p1216\":\"d12b5454-9b9d-48fa-8017-61deba4e0d1e\"},\"root_ids\":[\"p1216\"]}];\n",
              "  var docs = Object.values(docs_json)\n",
              "  if (!docs) {\n",
              "    return\n",
              "  }\n",
              "  const py_version = docs[0].version.replace('rc', '-rc.').replace('.dev', '-dev.')\n",
              "  const is_dev = py_version.indexOf(\"+\") !== -1 || py_version.indexOf(\"-\") !== -1\n",
              "  function embed_document(root) {\n",
              "    var Bokeh = get_bokeh(root)\n",
              "    Bokeh.embed.embed_items_notebook(docs_json, render_items);\n",
              "    for (const render_item of render_items) {\n",
              "      for (const root_id of render_item.root_ids) {\n",
              "\tconst id_el = document.getElementById(root_id)\n",
              "\tif (id_el.children.length && (id_el.children[0].className === 'bk-root')) {\n",
              "\t  const root_el = id_el.children[0]\n",
              "\t  root_el.id = root_el.id + '-rendered'\n",
              "\t}\n",
              "      }\n",
              "    }\n",
              "  }\n",
              "  function get_bokeh(root) {\n",
              "    if (root.Bokeh === undefined) {\n",
              "      return null\n",
              "    } else if (root.Bokeh.version !== py_version && !is_dev) {\n",
              "      if (root.Bokeh.versions === undefined || !root.Bokeh.versions.has(py_version)) {\n",
              "\treturn null\n",
              "      }\n",
              "      return root.Bokeh.versions.get(py_version);\n",
              "    } else if (root.Bokeh.version === py_version) {\n",
              "      return root.Bokeh\n",
              "    }\n",
              "    return null\n",
              "  }\n",
              "  function is_loaded(root) {\n",
              "    var Bokeh = get_bokeh(root)\n",
              "    return (Bokeh != null && Bokeh.Panel !== undefined)\n",
              "  }\n",
              "  if (is_loaded(root)) {\n",
              "    embed_document(root);\n",
              "  } else {\n",
              "    var attempts = 0;\n",
              "    var timer = setInterval(function(root) {\n",
              "      if (is_loaded(root)) {\n",
              "        clearInterval(timer);\n",
              "        embed_document(root);\n",
              "      } else if (document.readyState == \"complete\") {\n",
              "        attempts++;\n",
              "        if (attempts > 200) {\n",
              "          clearInterval(timer);\n",
              "\t  var Bokeh = get_bokeh(root)\n",
              "\t  if (Bokeh == null || Bokeh.Panel == null) {\n",
              "            console.warn(\"Panel: ERROR: Unable to run Panel code because Bokeh or Panel library is missing\");\n",
              "\t  } else {\n",
              "\t    console.warn(\"Panel: WARNING: Attempting to render but not all required libraries could be resolved.\")\n",
              "\t    embed_document(root)\n",
              "\t  }\n",
              "        }\n",
              "      }\n",
              "    }, 25, root)\n",
              "  }\n",
              "})(window);</script>"
            ],
            "text/plain": [
              ":Scatter   [True Values]   (Predicted Values)"
            ]
          },
          "execution_count": 24,
          "metadata": {},
          "output_type": "execute_result"
        }
      ]
    },
    {
      "cell_type": "code",
      "source": [
        "pd.DataFrame({'Error Values': (y_tes-pred)}).hvplot.kde()"
      ],
      "metadata": {
        "colab": {
          "base_uri": "https://localhost:8080/",
          "height": 17
        },
        "id": "CEbPu8BRmFYC",
        "outputId": "9f39506e-fadc-4324-de9a-83b474c4a0d5"
      },
      "execution_count": 25,
      "outputs": [
        {
          "data": {},
          "metadata": {},
          "output_type": "display_data"
        },
        {
          "data": {
            "application/vnd.holoviews_exec.v0+json": "",
            "text/html": [
              "<div id='p1277'>\n",
              "  <div id=\"b81e8ee8-ab80-47af-9eca-59b8578efa4e\" data-root-id=\"p1277\" style=\"display: contents;\"></div>\n",
              "</div>\n",
              "<script type=\"application/javascript\">(function(root) {\n",
              "  var docs_json = {\"2ad70c4d-80a3-43c9-bb27-e2ea39322224\":{\"version\":\"3.2.2\",\"title\":\"Bokeh Application\",\"roots\":[{\"type\":\"object\",\"name\":\"Row\",\"id\":\"p1277\",\"attributes\":{\"name\":\"Row01428\",\"tags\":[\"embedded\"],\"stylesheets\":[\"\\n:host(.pn-loading.pn-arc):before, .pn-loading.pn-arc:before {\\n  background-image: url(\\\"data:image/svg+xml;base64,PHN2ZyB4bWxucz0iaHR0cDovL3d3dy53My5vcmcvMjAwMC9zdmciIHN0eWxlPSJtYXJnaW46IGF1dG87IGJhY2tncm91bmQ6IG5vbmU7IGRpc3BsYXk6IGJsb2NrOyBzaGFwZS1yZW5kZXJpbmc6IGF1dG87IiB2aWV3Qm94PSIwIDAgMTAwIDEwMCIgcHJlc2VydmVBc3BlY3RSYXRpbz0ieE1pZFlNaWQiPiAgPGNpcmNsZSBjeD0iNTAiIGN5PSI1MCIgZmlsbD0ibm9uZSIgc3Ryb2tlPSIjYzNjM2MzIiBzdHJva2Utd2lkdGg9IjEwIiByPSIzNSIgc3Ryb2tlLWRhc2hhcnJheT0iMTY0LjkzMzYxNDMxMzQ2NDE1IDU2Ljk3Nzg3MTQzNzgyMTM4Ij4gICAgPGFuaW1hdGVUcmFuc2Zvcm0gYXR0cmlidXRlTmFtZT0idHJhbnNmb3JtIiB0eXBlPSJyb3RhdGUiIHJlcGVhdENvdW50PSJpbmRlZmluaXRlIiBkdXI9IjFzIiB2YWx1ZXM9IjAgNTAgNTA7MzYwIDUwIDUwIiBrZXlUaW1lcz0iMDsxIj48L2FuaW1hdGVUcmFuc2Zvcm0+ICA8L2NpcmNsZT48L3N2Zz4=\\\");\\n  background-size: auto calc(min(50%, 400px));\\n}\",{\"type\":\"object\",\"name\":\"ImportedStyleSheet\",\"id\":\"p1280\",\"attributes\":{\"url\":\"https://cdn.holoviz.org/panel/1.2.1/dist/css/loading.css\"}},{\"type\":\"object\",\"name\":\"ImportedStyleSheet\",\"id\":\"p1332\",\"attributes\":{\"url\":\"https://cdn.holoviz.org/panel/1.2.1/dist/css/listpanel.css\"}},{\"type\":\"object\",\"name\":\"ImportedStyleSheet\",\"id\":\"p1278\",\"attributes\":{\"url\":\"https://cdn.holoviz.org/panel/1.2.1/dist/bundled/theme/default.css\"}},{\"type\":\"object\",\"name\":\"ImportedStyleSheet\",\"id\":\"p1279\",\"attributes\":{\"url\":\"https://cdn.holoviz.org/panel/1.2.1/dist/bundled/theme/native.css\"}}],\"min_width\":700,\"margin\":0,\"sizing_mode\":\"stretch_width\",\"align\":\"start\",\"children\":[{\"type\":\"object\",\"name\":\"Spacer\",\"id\":\"p1281\",\"attributes\":{\"name\":\"HSpacer01439\",\"stylesheets\":[\"\\n:host(.pn-loading.pn-arc):before, .pn-loading.pn-arc:before {\\n  background-image: url(\\\"data:image/svg+xml;base64,PHN2ZyB4bWxucz0iaHR0cDovL3d3dy53My5vcmcvMjAwMC9zdmciIHN0eWxlPSJtYXJnaW46IGF1dG87IGJhY2tncm91bmQ6IG5vbmU7IGRpc3BsYXk6IGJsb2NrOyBzaGFwZS1yZW5kZXJpbmc6IGF1dG87IiB2aWV3Qm94PSIwIDAgMTAwIDEwMCIgcHJlc2VydmVBc3BlY3RSYXRpbz0ieE1pZFlNaWQiPiAgPGNpcmNsZSBjeD0iNTAiIGN5PSI1MCIgZmlsbD0ibm9uZSIgc3Ryb2tlPSIjYzNjM2MzIiBzdHJva2Utd2lkdGg9IjEwIiByPSIzNSIgc3Ryb2tlLWRhc2hhcnJheT0iMTY0LjkzMzYxNDMxMzQ2NDE1IDU2Ljk3Nzg3MTQzNzgyMTM4Ij4gICAgPGFuaW1hdGVUcmFuc2Zvcm0gYXR0cmlidXRlTmFtZT0idHJhbnNmb3JtIiB0eXBlPSJyb3RhdGUiIHJlcGVhdENvdW50PSJpbmRlZmluaXRlIiBkdXI9IjFzIiB2YWx1ZXM9IjAgNTAgNTA7MzYwIDUwIDUwIiBrZXlUaW1lcz0iMDsxIj48L2FuaW1hdGVUcmFuc2Zvcm0+ICA8L2NpcmNsZT48L3N2Zz4=\\\");\\n  background-size: auto calc(min(50%, 400px));\\n}\",{\"id\":\"p1280\"},{\"id\":\"p1278\"},{\"id\":\"p1279\"}],\"margin\":0,\"sizing_mode\":\"stretch_width\",\"align\":\"start\"}},{\"type\":\"object\",\"name\":\"Figure\",\"id\":\"p1289\",\"attributes\":{\"width\":700,\"height\":300,\"margin\":[5,10],\"sizing_mode\":\"fixed\",\"align\":\"start\",\"x_range\":{\"type\":\"object\",\"name\":\"Range1d\",\"id\":\"p1282\",\"attributes\":{\"tags\":[[[\"Error Values\",\"Error Values\",null]],[]],\"start\":-386252.98202140577,\"end\":417415.2854807517,\"reset_start\":-386252.98202140577,\"reset_end\":417415.2854807517}},\"y_range\":{\"type\":\"object\",\"name\":\"Range1d\",\"id\":\"p1283\",\"attributes\":{\"tags\":[[[\"Error Values_density\",\"Density\",null]],{\"type\":\"map\",\"entries\":[[\"invert_yaxis\",false],[\"autorange\",false]]}],\"end\":4.052842316894039e-06,\"reset_start\":0.0,\"reset_end\":4.052842316894039e-06}},\"x_scale\":{\"type\":\"object\",\"name\":\"LinearScale\",\"id\":\"p1299\"},\"y_scale\":{\"type\":\"object\",\"name\":\"LinearScale\",\"id\":\"p1300\"},\"title\":{\"type\":\"object\",\"name\":\"Title\",\"id\":\"p1292\",\"attributes\":{\"text_color\":\"black\",\"text_font_size\":\"12pt\"}},\"renderers\":[{\"type\":\"object\",\"name\":\"GlyphRenderer\",\"id\":\"p1325\",\"attributes\":{\"data_source\":{\"type\":\"object\",\"name\":\"ColumnDataSource\",\"id\":\"p1316\",\"attributes\":{\"selected\":{\"type\":\"object\",\"name\":\"Selection\",\"id\":\"p1317\",\"attributes\":{\"indices\":[],\"line_indices\":[]}},\"selection_policy\":{\"type\":\"object\",\"name\":\"UnionRenderers\",\"id\":\"p1318\"},\"data\":{\"type\":\"map\",\"entries\":[[\"x\",{\"type\":\"ndarray\",\"array\":{\"type\":\"bytes\",\"data\":\"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\"},\"shape\":[200],\"dtype\":\"float64\",\"order\":\"little\"}],[\"y\",{\"type\":\"ndarray\",\"array\":{\"type\":\"bytes\",\"data\":\"AAAAAAAAAAAAAAAAAAAAAAAAAAAAAAAAAAAAAAAAAAAAAAAAAAAAAAAAAAAAAAAAAAAAAAAAAAAAAAAAAAAAAAAAAAAAAAAAAAAAAAAAAAAAAAAAAAAAAAAAAAAAAAAAAAAAAAAAAAAAAAAAAAAAAAAAAAAAAAAAAAAAAAAAAAAAAAAAAAAAAAAAAAAAAAAAAAAAAAAAAAAAAAAAAAAAAAAAAAAAAAAAAAAAAAAAAAAAAAAAAAAAAAAAAAAAAAAAAAAAAAAAAAAAAAAAAAAAAAAAAAAAAAAAAAAAAAAAAAAAAAAAAAAAAAAAAAAAAAAAAAAAAAAAAAAAAAAAAAAAAAAAAAAAAAAAAAAAAAAAAAAAAAAAAAAAAAAAAAAAAAAAAAAAAAAAAAAAAAAAAAAAAAAAAAAAAAAAAAAAAAAAAAAAAAAAAAAAAAAAAAAAAAAAAAAAAAAAAAAAAAAAAAAAAAAAAAAAAAAAAAAAAAAAAAAAAAAAAAAAAAAAAAAAAAAAAAAAAAAAAAAAAAAAAAAAAAAAAAAAAAAAAAAAAAAAAAAAAAAAAAAAAAAAAAAAAAAAAAAAAAAAAAAAAAAAAAAAAAAAAAAAAAAAAAAAAAAAAAAAAAAAAAAAAAAAAAAAAAAAAAAAAAAAAAAAAAAAAAAAAAAAAAAAAAAAAAAAAAAAAAAAAAAAAAAAAAAAAAAAAAAAAAAAAAAAAAAAAAAAAAAAAAAAAAAAAAAAAAAAAAAAAAAAAAAAAAAAAAAAAAAAAAAAAAAAAAAAAAAAAAAAAAAAAAAAAAAAAAAAAAAAAAAAAAAAAAAAAAAAAAAAAAAAAAAAAAAAAAAAAAAAAAAAAAAAAAAAAAAAAAAAAAAAAAAAAAAAAAAAAAAAAAAAAAAAAAAAAAAAAAAAAAAAAAAAAAAAAAAAAAAAAAAAAAAAAAAAAAAAAAAAAAAAAAAAAAAAAAAAAAAAAAAAAAAAAAAAAAAAAAAAAAAAAAAAAAAAAAAAAAAAAAAAAAAAAAAAAAAAAAAAAAAAAAAAAAAAAAAAAAAAAAAAAAAAAAAAAAAAAAAAAABN77zCNrHhPdt8zOwZ5vc9RHOypR6wDD5MTN0IxqsePtkjEBO5Ti0+ToySC/spOT7UEMiB+5FDPvSZedrp4ks+Fc1I1B96Uj7tiJoCVy5XPtWidhorC1w+dPCfumqeYD5+SvlH9YVjPi4VOmwL6mY++Nck+wsFaz67VJS3dhFwPhmiWChwVHM+3PK9nSKTdz4lLnFN4TN9PrY6jdi+W4I+vPp9zR9Ohz7SoKHgt5mNPhTdm0fHoZI+hQ6x3KgYlz4admOyeBycPshLFeqpy6A+3/tKF0u7oz6i0qkRe9emPlPwKy3nIKo+FbHqt7qfrT4AWkR6u7CwPk94s1ahurI+g0KuYVX1tD5N3dz/ymm3PrZZjV0uIro+S6tQU9glvT7C438SwTjAPlVw7sOW+ME+KDp4QSrBwz72GkHycX/FPpGQ2bBeJMc+MHg65uWlyD7wVz13D/vJPmLt8gt+GMs+mGxCE+nyyz778Wk/q4bMPk9E7B7N3cw+z/lKMwQPzT7FMyY5KTbNPmoYdh3kas0+m7TR7Xq5zT5s3Q4L0h7OPoSKZL/Wh84+sGFf37vVzj605xDdN+jOPiwgsldOq84+gd+fhpIhzj6ZvVRsOWPNPiiCi9ckkMw+7K7P7/m7yz6L+xC0leDKPilFgAQv4Mk+Ubg0dbKWyD7iUbdtEvDGPqBqztBK9sQ+A+o6wIjPwj60Xt4Nxa7APoyZhK9vgL0+erfyTQA3uj4IMFaj/4C3PkBhrvSlO7U+n4mkeok3sz7D6CJa+kuxPuFvE0j+wa4+DgqlxWrgqj73/vxoaQKnPshnDVhGSqM+TH7VMKjGnz7uJzHWKOmZPlbbvAtdJZU+E5ZoM3JwkT4q95dE/iSNPmCC5nLVf4g+fVDnin1thD4JyZOX4aOAPgxtVKFCMno+mqtgYNzccz7tzxID2DhtPnGHj7+DOmU+AZO0X1gmXz6bPfbp71xXPpW5HrPStlE+2Bz73UFWSj5b+QKzeIxCPls4gzu4GDg+uE8ZCxlfLD7gnaFnLPcdPsAN5nW+OQw+Q7mo2i+i9z2hT69h+47hPQ==\"},\"shape\":[200],\"dtype\":\"float64\",\"order\":\"little\"}]]}}},\"view\":{\"type\":\"object\",\"name\":\"CDSView\",\"id\":\"p1326\",\"attributes\":{\"filter\":{\"type\":\"object\",\"name\":\"AllIndices\",\"id\":\"p1327\"}}},\"glyph\":{\"type\":\"object\",\"name\":\"Patch\",\"id\":\"p1322\",\"attributes\":{\"tags\":[\"apply_ranges\"],\"x\":{\"type\":\"field\",\"field\":\"x\"},\"y\":{\"type\":\"field\",\"field\":\"y\"},\"fill_color\":\"#30a2da\",\"fill_alpha\":0.5,\"hatch_color\":\"#30a2da\"}},\"selection_glyph\":{\"type\":\"object\",\"name\":\"Patch\",\"id\":\"p1328\",\"attributes\":{\"tags\":[\"apply_ranges\"],\"x\":{\"type\":\"field\",\"field\":\"x\"},\"y\":{\"type\":\"field\",\"field\":\"y\"},\"fill_color\":\"#30a2da\",\"fill_alpha\":0.5,\"hatch_color\":\"#30a2da\"}},\"nonselection_glyph\":{\"type\":\"object\",\"name\":\"Patch\",\"id\":\"p1323\",\"attributes\":{\"tags\":[\"apply_ranges\"],\"x\":{\"type\":\"field\",\"field\":\"x\"},\"y\":{\"type\":\"field\",\"field\":\"y\"},\"line_alpha\":1,\"fill_color\":\"#30a2da\",\"fill_alpha\":0.5,\"hatch_color\":\"#30a2da\",\"hatch_alpha\":0.1}},\"muted_glyph\":{\"type\":\"object\",\"name\":\"Patch\",\"id\":\"p1324\",\"attributes\":{\"tags\":[\"apply_ranges\"],\"x\":{\"type\":\"field\",\"field\":\"x\"},\"y\":{\"type\":\"field\",\"field\":\"y\"},\"line_alpha\":0.2,\"fill_color\":\"#30a2da\",\"fill_alpha\":0.2,\"hatch_color\":\"#30a2da\",\"hatch_alpha\":0.2}}}}],\"toolbar\":{\"type\":\"object\",\"name\":\"Toolbar\",\"id\":\"p1298\",\"attributes\":{\"tools\":[{\"type\":\"object\",\"name\":\"WheelZoomTool\",\"id\":\"p1287\",\"attributes\":{\"tags\":[\"hv_created\"],\"zoom_together\":\"none\"}},{\"type\":\"object\",\"name\":\"HoverTool\",\"id\":\"p1288\",\"attributes\":{\"tags\":[\"hv_created\"],\"renderers\":[{\"id\":\"p1325\"}],\"tooltips\":[[\"Error Values\",\"@{Error_Values}\"],[\"Density\",\"@{Error_Values_density}\"]]}},{\"type\":\"object\",\"name\":\"SaveTool\",\"id\":\"p1311\"},{\"type\":\"object\",\"name\":\"PanTool\",\"id\":\"p1312\"},{\"type\":\"object\",\"name\":\"BoxZoomTool\",\"id\":\"p1313\",\"attributes\":{\"overlay\":{\"type\":\"object\",\"name\":\"BoxAnnotation\",\"id\":\"p1314\",\"attributes\":{\"syncable\":false,\"level\":\"overlay\",\"visible\":false,\"left_units\":\"canvas\",\"right_units\":\"canvas\",\"bottom_units\":\"canvas\",\"top_units\":\"canvas\",\"line_color\":\"black\",\"line_alpha\":1.0,\"line_width\":2,\"line_dash\":[4,4],\"fill_color\":\"lightgrey\",\"fill_alpha\":0.5}}}},{\"type\":\"object\",\"name\":\"ResetTool\",\"id\":\"p1315\"}],\"active_drag\":{\"id\":\"p1312\"},\"active_scroll\":{\"id\":\"p1287\"}}},\"left\":[{\"type\":\"object\",\"name\":\"LinearAxis\",\"id\":\"p1306\",\"attributes\":{\"ticker\":{\"type\":\"object\",\"name\":\"BasicTicker\",\"id\":\"p1307\",\"attributes\":{\"mantissas\":[1,2,5]}},\"formatter\":{\"type\":\"object\",\"name\":\"BasicTickFormatter\",\"id\":\"p1308\"},\"axis_label\":\"Density\",\"major_label_policy\":{\"type\":\"object\",\"name\":\"AllLabels\",\"id\":\"p1309\"}}}],\"below\":[{\"type\":\"object\",\"name\":\"LinearAxis\",\"id\":\"p1301\",\"attributes\":{\"ticker\":{\"type\":\"object\",\"name\":\"BasicTicker\",\"id\":\"p1302\",\"attributes\":{\"mantissas\":[1,2,5]}},\"formatter\":{\"type\":\"object\",\"name\":\"BasicTickFormatter\",\"id\":\"p1303\"},\"axis_label\":\"Error Values\",\"major_label_policy\":{\"type\":\"object\",\"name\":\"AllLabels\",\"id\":\"p1304\"}}}],\"center\":[{\"type\":\"object\",\"name\":\"Grid\",\"id\":\"p1305\",\"attributes\":{\"axis\":{\"id\":\"p1301\"},\"grid_line_color\":null}},{\"type\":\"object\",\"name\":\"Grid\",\"id\":\"p1310\",\"attributes\":{\"dimension\":1,\"axis\":{\"id\":\"p1306\"},\"grid_line_color\":null}}],\"min_border_top\":10,\"min_border_bottom\":10,\"min_border_left\":10,\"min_border_right\":10,\"output_backend\":\"webgl\"}},{\"type\":\"object\",\"name\":\"Spacer\",\"id\":\"p1330\",\"attributes\":{\"name\":\"HSpacer01442\",\"stylesheets\":[\"\\n:host(.pn-loading.pn-arc):before, .pn-loading.pn-arc:before {\\n  background-image: url(\\\"data:image/svg+xml;base64,PHN2ZyB4bWxucz0iaHR0cDovL3d3dy53My5vcmcvMjAwMC9zdmciIHN0eWxlPSJtYXJnaW46IGF1dG87IGJhY2tncm91bmQ6IG5vbmU7IGRpc3BsYXk6IGJsb2NrOyBzaGFwZS1yZW5kZXJpbmc6IGF1dG87IiB2aWV3Qm94PSIwIDAgMTAwIDEwMCIgcHJlc2VydmVBc3BlY3RSYXRpbz0ieE1pZFlNaWQiPiAgPGNpcmNsZSBjeD0iNTAiIGN5PSI1MCIgZmlsbD0ibm9uZSIgc3Ryb2tlPSIjYzNjM2MzIiBzdHJva2Utd2lkdGg9IjEwIiByPSIzNSIgc3Ryb2tlLWRhc2hhcnJheT0iMTY0LjkzMzYxNDMxMzQ2NDE1IDU2Ljk3Nzg3MTQzNzgyMTM4Ij4gICAgPGFuaW1hdGVUcmFuc2Zvcm0gYXR0cmlidXRlTmFtZT0idHJhbnNmb3JtIiB0eXBlPSJyb3RhdGUiIHJlcGVhdENvdW50PSJpbmRlZmluaXRlIiBkdXI9IjFzIiB2YWx1ZXM9IjAgNTAgNTA7MzYwIDUwIDUwIiBrZXlUaW1lcz0iMDsxIj48L2FuaW1hdGVUcmFuc2Zvcm0+ICA8L2NpcmNsZT48L3N2Zz4=\\\");\\n  background-size: auto calc(min(50%, 400px));\\n}\",{\"id\":\"p1280\"},{\"id\":\"p1278\"},{\"id\":\"p1279\"}],\"margin\":0,\"sizing_mode\":\"stretch_width\",\"align\":\"start\"}}]}}],\"defs\":[{\"type\":\"model\",\"name\":\"ReactiveHTML1\"},{\"type\":\"model\",\"name\":\"FlexBox1\",\"properties\":[{\"name\":\"align_content\",\"kind\":\"Any\",\"default\":\"flex-start\"},{\"name\":\"align_items\",\"kind\":\"Any\",\"default\":\"flex-start\"},{\"name\":\"flex_direction\",\"kind\":\"Any\",\"default\":\"row\"},{\"name\":\"flex_wrap\",\"kind\":\"Any\",\"default\":\"wrap\"},{\"name\":\"justify_content\",\"kind\":\"Any\",\"default\":\"flex-start\"}]},{\"type\":\"model\",\"name\":\"FloatPanel1\",\"properties\":[{\"name\":\"config\",\"kind\":\"Any\",\"default\":{\"type\":\"map\"}},{\"name\":\"contained\",\"kind\":\"Any\",\"default\":true},{\"name\":\"position\",\"kind\":\"Any\",\"default\":\"right-top\"},{\"name\":\"offsetx\",\"kind\":\"Any\",\"default\":null},{\"name\":\"offsety\",\"kind\":\"Any\",\"default\":null},{\"name\":\"theme\",\"kind\":\"Any\",\"default\":\"primary\"},{\"name\":\"status\",\"kind\":\"Any\",\"default\":\"normalized\"}]},{\"type\":\"model\",\"name\":\"GridStack1\",\"properties\":[{\"name\":\"mode\",\"kind\":\"Any\",\"default\":\"warn\"},{\"name\":\"ncols\",\"kind\":\"Any\",\"default\":null},{\"name\":\"nrows\",\"kind\":\"Any\",\"default\":null},{\"name\":\"allow_resize\",\"kind\":\"Any\",\"default\":true},{\"name\":\"allow_drag\",\"kind\":\"Any\",\"default\":true},{\"name\":\"state\",\"kind\":\"Any\",\"default\":[]}]},{\"type\":\"model\",\"name\":\"drag1\",\"properties\":[{\"name\":\"slider_width\",\"kind\":\"Any\",\"default\":5},{\"name\":\"slider_color\",\"kind\":\"Any\",\"default\":\"black\"},{\"name\":\"value\",\"kind\":\"Any\",\"default\":50}]},{\"type\":\"model\",\"name\":\"click1\",\"properties\":[{\"name\":\"terminal_output\",\"kind\":\"Any\",\"default\":\"\"},{\"name\":\"debug_name\",\"kind\":\"Any\",\"default\":\"\"},{\"name\":\"clears\",\"kind\":\"Any\",\"default\":0}]},{\"type\":\"model\",\"name\":\"FastWrapper1\",\"properties\":[{\"name\":\"object\",\"kind\":\"Any\",\"default\":null},{\"name\":\"style\",\"kind\":\"Any\",\"default\":null}]},{\"type\":\"model\",\"name\":\"NotificationAreaBase1\",\"properties\":[{\"name\":\"js_events\",\"kind\":\"Any\",\"default\":{\"type\":\"map\"}},{\"name\":\"position\",\"kind\":\"Any\",\"default\":\"bottom-right\"},{\"name\":\"_clear\",\"kind\":\"Any\",\"default\":0}]},{\"type\":\"model\",\"name\":\"NotificationArea1\",\"properties\":[{\"name\":\"js_events\",\"kind\":\"Any\",\"default\":{\"type\":\"map\"}},{\"name\":\"notifications\",\"kind\":\"Any\",\"default\":[]},{\"name\":\"position\",\"kind\":\"Any\",\"default\":\"bottom-right\"},{\"name\":\"_clear\",\"kind\":\"Any\",\"default\":0},{\"name\":\"types\",\"kind\":\"Any\",\"default\":[{\"type\":\"map\",\"entries\":[[\"type\",\"warning\"],[\"background\",\"#ffc107\"],[\"icon\",{\"type\":\"map\",\"entries\":[[\"className\",\"fas fa-exclamation-triangle\"],[\"tagName\",\"i\"],[\"color\",\"white\"]]}]]},{\"type\":\"map\",\"entries\":[[\"type\",\"info\"],[\"background\",\"#007bff\"],[\"icon\",{\"type\":\"map\",\"entries\":[[\"className\",\"fas fa-info-circle\"],[\"tagName\",\"i\"],[\"color\",\"white\"]]}]]}]}]},{\"type\":\"model\",\"name\":\"Notification\",\"properties\":[{\"name\":\"background\",\"kind\":\"Any\",\"default\":null},{\"name\":\"duration\",\"kind\":\"Any\",\"default\":3000},{\"name\":\"icon\",\"kind\":\"Any\",\"default\":null},{\"name\":\"message\",\"kind\":\"Any\",\"default\":\"\"},{\"name\":\"notification_type\",\"kind\":\"Any\",\"default\":null},{\"name\":\"_destroyed\",\"kind\":\"Any\",\"default\":false}]},{\"type\":\"model\",\"name\":\"TemplateActions1\",\"properties\":[{\"name\":\"open_modal\",\"kind\":\"Any\",\"default\":0},{\"name\":\"close_modal\",\"kind\":\"Any\",\"default\":0}]},{\"type\":\"model\",\"name\":\"BootstrapTemplateActions1\",\"properties\":[{\"name\":\"open_modal\",\"kind\":\"Any\",\"default\":0},{\"name\":\"close_modal\",\"kind\":\"Any\",\"default\":0}]},{\"type\":\"model\",\"name\":\"MaterialTemplateActions1\",\"properties\":[{\"name\":\"open_modal\",\"kind\":\"Any\",\"default\":0},{\"name\":\"close_modal\",\"kind\":\"Any\",\"default\":0}]}]}};\n",
              "  var render_items = [{\"docid\":\"2ad70c4d-80a3-43c9-bb27-e2ea39322224\",\"roots\":{\"p1277\":\"b81e8ee8-ab80-47af-9eca-59b8578efa4e\"},\"root_ids\":[\"p1277\"]}];\n",
              "  var docs = Object.values(docs_json)\n",
              "  if (!docs) {\n",
              "    return\n",
              "  }\n",
              "  const py_version = docs[0].version.replace('rc', '-rc.').replace('.dev', '-dev.')\n",
              "  const is_dev = py_version.indexOf(\"+\") !== -1 || py_version.indexOf(\"-\") !== -1\n",
              "  function embed_document(root) {\n",
              "    var Bokeh = get_bokeh(root)\n",
              "    Bokeh.embed.embed_items_notebook(docs_json, render_items);\n",
              "    for (const render_item of render_items) {\n",
              "      for (const root_id of render_item.root_ids) {\n",
              "\tconst id_el = document.getElementById(root_id)\n",
              "\tif (id_el.children.length && (id_el.children[0].className === 'bk-root')) {\n",
              "\t  const root_el = id_el.children[0]\n",
              "\t  root_el.id = root_el.id + '-rendered'\n",
              "\t}\n",
              "      }\n",
              "    }\n",
              "  }\n",
              "  function get_bokeh(root) {\n",
              "    if (root.Bokeh === undefined) {\n",
              "      return null\n",
              "    } else if (root.Bokeh.version !== py_version && !is_dev) {\n",
              "      if (root.Bokeh.versions === undefined || !root.Bokeh.versions.has(py_version)) {\n",
              "\treturn null\n",
              "      }\n",
              "      return root.Bokeh.versions.get(py_version);\n",
              "    } else if (root.Bokeh.version === py_version) {\n",
              "      return root.Bokeh\n",
              "    }\n",
              "    return null\n",
              "  }\n",
              "  function is_loaded(root) {\n",
              "    var Bokeh = get_bokeh(root)\n",
              "    return (Bokeh != null && Bokeh.Panel !== undefined)\n",
              "  }\n",
              "  if (is_loaded(root)) {\n",
              "    embed_document(root);\n",
              "  } else {\n",
              "    var attempts = 0;\n",
              "    var timer = setInterval(function(root) {\n",
              "      if (is_loaded(root)) {\n",
              "        clearInterval(timer);\n",
              "        embed_document(root);\n",
              "      } else if (document.readyState == \"complete\") {\n",
              "        attempts++;\n",
              "        if (attempts > 200) {\n",
              "          clearInterval(timer);\n",
              "\t  var Bokeh = get_bokeh(root)\n",
              "\t  if (Bokeh == null || Bokeh.Panel == null) {\n",
              "            console.warn(\"Panel: ERROR: Unable to run Panel code because Bokeh or Panel library is missing\");\n",
              "\t  } else {\n",
              "\t    console.warn(\"Panel: WARNING: Attempting to render but not all required libraries could be resolved.\")\n",
              "\t    embed_document(root)\n",
              "\t  }\n",
              "        }\n",
              "      }\n",
              "    }, 25, root)\n",
              "  }\n",
              "})(window);</script>"
            ],
            "text/plain": [
              ":Distribution   [Error Values]   (Density)"
            ]
          },
          "execution_count": 25,
          "metadata": {},
          "output_type": "execute_result"
        }
      ]
    },
    {
      "cell_type": "code",
      "source": [
        "test_pred=lin_reg.predict(X_test)\n",
        "train_pred=lin_reg.predict(X_train)\n",
        "\n",
        "print('Test set evalution:\\n____________________________________________')\n",
        "print_evaluate(y_tes,test_pred)\n",
        "print('Train set evaluton:\\n____________________________________________')\n",
        "print_evaluate(y_train,train_pred)\n",
        "results_df=pd.DataFrame(data=[[\"Linear Regression\", *evaluate(y_tes, test_pred), cross_val(LinearRegression())]],columns=['Model','MAE','MSE','RMSE','R2 Square', \"Cross Validation\"])"
      ],
      "metadata": {
        "colab": {
          "base_uri": "https://localhost:8080/",
          "height": 0
        },
        "id": "1zLyGAb50WyD",
        "outputId": "476efd72-90b1-4376-a9f4-6ccbb8b24d21"
      },
      "execution_count": 26,
      "outputs": [
        {
          "metadata": {
            "tags": null
          },
          "name": "stdout",
          "output_type": "stream",
          "text": [
            "Test set evalution:\n",
            "____________________________________________\n",
            "MAE: 81135.56609336878\n",
            "MSE: 10068422551.40088\n",
            "RMSE: 100341.52954485436\n",
            "R2 Square 0.9146818498754016\n",
            "___________________________\n",
            "Train set evaluton:\n",
            "____________________________________________\n",
            "MAE: 81480.49973174892\n",
            "MSE: 10287043161.197224\n",
            "RMSE: 101425.06180031257\n",
            "R2 Square 0.9192986579075526\n",
            "___________________________\n"
          ]
        }
      ]
    },
    {
      "cell_type": "markdown",
      "source": [
        "Robust Regression"
      ],
      "metadata": {
        "id": "Xv6fo1_6lqUa"
      }
    },
    {
      "cell_type": "code",
      "source": [
        "from sklearn.linear_model import RANSACRegressor\n",
        "\n",
        "model= RANSACRegressor (base_estimator=LinearRegression(), max_trials=100)\n",
        "model.fit(X_train, y_train)\n",
        "\n",
        "test_pred = model.predict(X_test)\n",
        "train_pred=model.predict(X_train)\n",
        "\n",
        "print('Test set evalution:\\n_____________________________________________')\n",
        "print_evaluate(y_tes, test_pred)\n",
        "print('=======================================')\n",
        "print('Train set evaluation:\\n______________________________________________')\n",
        "print_evaluate(y_train,train_pred)\n",
        "\n",
        "results_df_2=pd.DataFrame(data=[[\"Robust Regression\", *evaluate (y_tes, test_pred), cross_val(RANSACRegressor())]], columns=['Model', 'MAE', 'MSE', 'RMSE', 'R2 Square', \"Cross validation\"])\n",
        "results_df=results_df.append(results_df_2, ignore_index=True)"
      ],
      "metadata": {
        "colab": {
          "base_uri": "https://localhost:8080/",
          "height": 0
        },
        "id": "wcwyyNep4It0",
        "outputId": "049b86c8-1506-4b97-80ec-d22589870815"
      },
      "execution_count": 27,
      "outputs": [
        {
          "output_type": "stream",
          "name": "stderr",
          "text": [
            "/usr/local/lib/python3.10/dist-packages/sklearn/linear_model/_ransac.py:343: FutureWarning: `base_estimator` was renamed to `estimator` in version 1.1 and will be removed in 1.3.\n",
            "  warnings.warn(\n"
          ]
        },
        {
          "output_type": "stream",
          "name": "stdout",
          "text": [
            "Test set evalution:\n",
            "_____________________________________________\n",
            "MAE: 83461.11441172272\n",
            "MSE: 10826948773.617777\n",
            "RMSE: 104052.62502031257\n",
            "R2 Square 0.9082542239220648\n",
            "___________________________\n",
            "=======================================\n",
            "Train set evaluation:\n",
            "______________________________________________\n",
            "MAE: 84215.14195015775\n",
            "MSE: 10919364262.715544\n",
            "RMSE: 104495.76193662375\n",
            "R2 Square 0.9143381303073199\n",
            "___________________________\n"
          ]
        },
        {
          "output_type": "stream",
          "name": "stderr",
          "text": [
            "<ipython-input-27-9889222c76f5>:16: FutureWarning: The frame.append method is deprecated and will be removed from pandas in a future version. Use pandas.concat instead.\n",
            "  results_df=results_df.append(results_df_2, ignore_index=True)\n"
          ]
        }
      ]
    },
    {
      "cell_type": "markdown",
      "source": [
        "**Ridge Regression**"
      ],
      "metadata": {
        "id": "puFrZroM5txL"
      }
    },
    {
      "cell_type": "code",
      "source": [
        "from sklearn.linear_model import Ridge\n",
        "\n",
        "model=Ridge(alpha=100, solver='cholesky', tol=0.0001, random_state=42)\n",
        "model.fit(X_train, y_train)\n",
        "pred=model.predict(X_test)\n",
        "\n",
        "test_pred=model.predict(X_test)\n",
        "train_pred=model.predict(X_train)\n",
        "\n",
        "print('Test set evaluation:\\n_________________________________________________')\n",
        "print_evaluate(y_tes, test_pred)\n",
        "print('==================================')\n",
        "print('Train set evaluation:\\n________________________________________________')\n",
        "print_evaluate(y_train, train_pred)\n",
        "\n",
        "results_df_2 = pd.DataFrame(data=[[\"Ridge Regression\", *evaluate(y_tes, test_pred) , cross_val(Ridge())]],\n",
        "                            columns=['Model', 'MAE', 'MSE', 'RMSE', 'R2 Square', \"Cross Validation\"])\n",
        "results_df = results_df.append(results_df_2, ignore_index=True)"
      ],
      "metadata": {
        "id": "49nqAG3YpCoR",
        "outputId": "2c8eae6b-3fbc-4170-ae9e-d1b544cd3bb9",
        "colab": {
          "base_uri": "https://localhost:8080/",
          "height": 0
        }
      },
      "execution_count": 29,
      "outputs": [
        {
          "output_type": "stream",
          "name": "stdout",
          "text": [
            "Test set evaluation:\n",
            "_________________________________________________\n",
            "MAE: 81428.64835535336\n",
            "MSE: 10153269900.892609\n",
            "RMSE: 100763.43533689494\n",
            "R2 Square 0.9139628674464607\n",
            "___________________________\n",
            "==================================\n",
            "Train set evaluation:\n",
            "________________________________________________\n",
            "MAE: 81972.39058585507\n",
            "MSE: 10382929615.143456\n",
            "RMSE: 101896.66145239232\n",
            "R2 Square 0.9185464334441484\n",
            "___________________________\n"
          ]
        },
        {
          "output_type": "stream",
          "name": "stderr",
          "text": [
            "<ipython-input-29-358ef1b6c489>:18: FutureWarning: The frame.append method is deprecated and will be removed from pandas in a future version. Use pandas.concat instead.\n",
            "  results_df = results_df.append(results_df_2, ignore_index=True)\n"
          ]
        }
      ]
    },
    {
      "cell_type": "markdown",
      "source": [
        "**LASSO Regresssion**"
      ],
      "metadata": {
        "id": "SszIIP9D_yhc"
      }
    },
    {
      "cell_type": "code",
      "source": [
        "from sklearn.linear_model import Lasso\n",
        "\n",
        "model = Lasso(alpha=0.1,\n",
        "              precompute=True,\n",
        "#               warm_start=True,\n",
        "              positive=True,\n",
        "              selection='random',\n",
        "              random_state=42)\n",
        "model.fit(X_train, y_train)\n",
        "\n",
        "test_pred = model.predict(X_test)\n",
        "train_pred = model.predict(X_train)\n",
        "\n",
        "print('Test set evaluation:\\n_____________________________________')\n",
        "print_evaluate(y_tes, test_pred)\n",
        "print('====================================')\n",
        "print('Train set evaluation:\\n_____________________________________')\n",
        "print_evaluate(y_train, train_pred)\n",
        "\n",
        "results_df_2 = pd.DataFrame(data=[[\"Lasso Regression\", *evaluate(y_tes, test_pred) , cross_val(Lasso())]],\n",
        "                            columns=['Model', 'MAE', 'MSE', 'RMSE', 'R2 Square', \"Cross Validation\"])\n",
        "results_df = results_df.append(results_df_2, ignore_index=True)"
      ],
      "metadata": {
        "id": "qSg85jqV8sLD",
        "outputId": "30a5e538-4d77-4e7e-c580-c8e3ab84c564",
        "colab": {
          "base_uri": "https://localhost:8080/",
          "height": 0
        }
      },
      "execution_count": 33,
      "outputs": [
        {
          "output_type": "stream",
          "name": "stdout",
          "text": [
            "Test set evaluation:\n",
            "_____________________________________\n",
            "MAE: 81135.6985172622\n",
            "MSE: 10068453390.364523\n",
            "RMSE: 100341.68321472648\n",
            "R2 Square 0.914681588551116\n",
            "___________________________\n",
            "====================================\n",
            "Train set evaluation:\n",
            "_____________________________________\n",
            "MAE: 81480.63002185506\n",
            "MSE: 10287043196.634295\n",
            "RMSE: 101425.0619750084\n",
            "R2 Square 0.9192986576295505\n",
            "___________________________\n"
          ]
        },
        {
          "output_type": "stream",
          "name": "stderr",
          "text": [
            "<ipython-input-33-0f60150cf142>:22: FutureWarning: The frame.append method is deprecated and will be removed from pandas in a future version. Use pandas.concat instead.\n",
            "  results_df = results_df.append(results_df_2, ignore_index=True)\n"
          ]
        }
      ]
    },
    {
      "cell_type": "code",
      "source": [
        "results_df"
      ],
      "metadata": {
        "id": "LlJI68ifAnlF",
        "outputId": "2f0ef8f0-ff5f-4e88-92e6-c11b4506f535",
        "colab": {
          "base_uri": "https://localhost:8080/",
          "height": 313
        }
      },
      "execution_count": 55,
      "outputs": [
        {
          "output_type": "execute_result",
          "data": {
            "text/plain": [
              "                            MAE           MSE           RMSE  R2 Square  \\\n",
              "Model                                                                     \n",
              "Linear Regression  81135.566093  1.006842e+10  100341.529545   0.914682   \n",
              "Robust Regression  83461.114412  1.082695e+10  104052.625020   0.908254   \n",
              "Ridge Regression   81428.648355  1.015327e+10  100763.435337   0.913963   \n",
              "Lasso Regression   81135.698517  1.006845e+10  100341.683215   0.914682   \n",
              "\n",
              "                   Cross Validation  Cross validation  \n",
              "Model                                                  \n",
              "Linear Regression          0.917379               NaN  \n",
              "Robust Regression               NaN           0.91268  \n",
              "Ridge Regression           0.917379               NaN  \n",
              "Lasso Regression           0.917379               NaN  "
            ],
            "text/html": [
              "\n",
              "  <div id=\"df-06b44294-982d-47b3-a802-47053b5bdcfc\" class=\"colab-df-container\">\n",
              "    <div>\n",
              "<style scoped>\n",
              "    .dataframe tbody tr th:only-of-type {\n",
              "        vertical-align: middle;\n",
              "    }\n",
              "\n",
              "    .dataframe tbody tr th {\n",
              "        vertical-align: top;\n",
              "    }\n",
              "\n",
              "    .dataframe thead th {\n",
              "        text-align: right;\n",
              "    }\n",
              "</style>\n",
              "<table border=\"1\" class=\"dataframe\">\n",
              "  <thead>\n",
              "    <tr style=\"text-align: right;\">\n",
              "      <th></th>\n",
              "      <th>MAE</th>\n",
              "      <th>MSE</th>\n",
              "      <th>RMSE</th>\n",
              "      <th>R2 Square</th>\n",
              "      <th>Cross Validation</th>\n",
              "      <th>Cross validation</th>\n",
              "    </tr>\n",
              "    <tr>\n",
              "      <th>Model</th>\n",
              "      <th></th>\n",
              "      <th></th>\n",
              "      <th></th>\n",
              "      <th></th>\n",
              "      <th></th>\n",
              "      <th></th>\n",
              "    </tr>\n",
              "  </thead>\n",
              "  <tbody>\n",
              "    <tr>\n",
              "      <th>Linear Regression</th>\n",
              "      <td>81135.566093</td>\n",
              "      <td>1.006842e+10</td>\n",
              "      <td>100341.529545</td>\n",
              "      <td>0.914682</td>\n",
              "      <td>0.917379</td>\n",
              "      <td>NaN</td>\n",
              "    </tr>\n",
              "    <tr>\n",
              "      <th>Robust Regression</th>\n",
              "      <td>83461.114412</td>\n",
              "      <td>1.082695e+10</td>\n",
              "      <td>104052.625020</td>\n",
              "      <td>0.908254</td>\n",
              "      <td>NaN</td>\n",
              "      <td>0.91268</td>\n",
              "    </tr>\n",
              "    <tr>\n",
              "      <th>Ridge Regression</th>\n",
              "      <td>81428.648355</td>\n",
              "      <td>1.015327e+10</td>\n",
              "      <td>100763.435337</td>\n",
              "      <td>0.913963</td>\n",
              "      <td>0.917379</td>\n",
              "      <td>NaN</td>\n",
              "    </tr>\n",
              "    <tr>\n",
              "      <th>Lasso Regression</th>\n",
              "      <td>81135.698517</td>\n",
              "      <td>1.006845e+10</td>\n",
              "      <td>100341.683215</td>\n",
              "      <td>0.914682</td>\n",
              "      <td>0.917379</td>\n",
              "      <td>NaN</td>\n",
              "    </tr>\n",
              "  </tbody>\n",
              "</table>\n",
              "</div>\n",
              "    <div class=\"colab-df-buttons\">\n",
              "\n",
              "  <div class=\"colab-df-container\">\n",
              "    <button class=\"colab-df-convert\" onclick=\"convertToInteractive('df-06b44294-982d-47b3-a802-47053b5bdcfc')\"\n",
              "            title=\"Convert this dataframe to an interactive table.\"\n",
              "            style=\"display:none;\">\n",
              "\n",
              "  <svg xmlns=\"http://www.w3.org/2000/svg\" height=\"24px\" viewBox=\"0 -960 960 960\">\n",
              "    <path d=\"M120-120v-720h720v720H120Zm60-500h600v-160H180v160Zm220 220h160v-160H400v160Zm0 220h160v-160H400v160ZM180-400h160v-160H180v160Zm440 0h160v-160H620v160ZM180-180h160v-160H180v160Zm440 0h160v-160H620v160Z\"/>\n",
              "  </svg>\n",
              "    </button>\n",
              "\n",
              "  <style>\n",
              "    .colab-df-container {\n",
              "      display:flex;\n",
              "      gap: 12px;\n",
              "    }\n",
              "\n",
              "    .colab-df-convert {\n",
              "      background-color: #E8F0FE;\n",
              "      border: none;\n",
              "      border-radius: 50%;\n",
              "      cursor: pointer;\n",
              "      display: none;\n",
              "      fill: #1967D2;\n",
              "      height: 32px;\n",
              "      padding: 0 0 0 0;\n",
              "      width: 32px;\n",
              "    }\n",
              "\n",
              "    .colab-df-convert:hover {\n",
              "      background-color: #E2EBFA;\n",
              "      box-shadow: 0px 1px 2px rgba(60, 64, 67, 0.3), 0px 1px 3px 1px rgba(60, 64, 67, 0.15);\n",
              "      fill: #174EA6;\n",
              "    }\n",
              "\n",
              "    .colab-df-buttons div {\n",
              "      margin-bottom: 4px;\n",
              "    }\n",
              "\n",
              "    [theme=dark] .colab-df-convert {\n",
              "      background-color: #3B4455;\n",
              "      fill: #D2E3FC;\n",
              "    }\n",
              "\n",
              "    [theme=dark] .colab-df-convert:hover {\n",
              "      background-color: #434B5C;\n",
              "      box-shadow: 0px 1px 3px 1px rgba(0, 0, 0, 0.15);\n",
              "      filter: drop-shadow(0px 1px 2px rgba(0, 0, 0, 0.3));\n",
              "      fill: #FFFFFF;\n",
              "    }\n",
              "  </style>\n",
              "\n",
              "    <script>\n",
              "      const buttonEl =\n",
              "        document.querySelector('#df-06b44294-982d-47b3-a802-47053b5bdcfc button.colab-df-convert');\n",
              "      buttonEl.style.display =\n",
              "        google.colab.kernel.accessAllowed ? 'block' : 'none';\n",
              "\n",
              "      async function convertToInteractive(key) {\n",
              "        const element = document.querySelector('#df-06b44294-982d-47b3-a802-47053b5bdcfc');\n",
              "        const dataTable =\n",
              "          await google.colab.kernel.invokeFunction('convertToInteractive',\n",
              "                                                    [key], {});\n",
              "        if (!dataTable) return;\n",
              "\n",
              "        const docLinkHtml = 'Like what you see? Visit the ' +\n",
              "          '<a target=\"_blank\" href=https://colab.research.google.com/notebooks/data_table.ipynb>data table notebook</a>'\n",
              "          + ' to learn more about interactive tables.';\n",
              "        element.innerHTML = '';\n",
              "        dataTable['output_type'] = 'display_data';\n",
              "        await google.colab.output.renderOutput(dataTable, element);\n",
              "        const docLink = document.createElement('div');\n",
              "        docLink.innerHTML = docLinkHtml;\n",
              "        element.appendChild(docLink);\n",
              "      }\n",
              "    </script>\n",
              "  </div>\n",
              "\n",
              "    </div>\n",
              "  </div>\n"
            ]
          },
          "metadata": {},
          "execution_count": 55
        }
      ]
    },
    {
      "cell_type": "code",
      "source": [
        "results_df.columns"
      ],
      "metadata": {
        "id": "FAGmdeNlEAgl",
        "outputId": "686e411a-3829-4859-a2b1-5f1403f23f66",
        "colab": {
          "base_uri": "https://localhost:8080/",
          "height": 0
        }
      },
      "execution_count": 60,
      "outputs": [
        {
          "output_type": "execute_result",
          "data": {
            "text/plain": [
              "Index(['Model', 'MAE', 'MSE', 'RMSE', 'R2 Square', 'Cross Validation',\n",
              "       'Cross validation'],\n",
              "      dtype='object')"
            ]
          },
          "metadata": {},
          "execution_count": 60
        }
      ]
    },
    {
      "cell_type": "code",
      "source": [
        "results_df=results_df.reset_index()"
      ],
      "metadata": {
        "id": "BO7zDSMeEGaa"
      },
      "execution_count": 68,
      "outputs": []
    },
    {
      "cell_type": "markdown",
      "source": [
        "**Model Comparison**"
      ],
      "metadata": {
        "id": "yWE9jGxSB1m7"
      }
    },
    {
      "cell_type": "code",
      "source": [
        "results_df.set_index('Model', inplace=True)\n",
        "results_df['R2 Square'].plot(kind='barh', figsize=(12, 8))"
      ],
      "metadata": {
        "id": "i4SqzSVhBiHC",
        "outputId": "3f9ef2a1-a6da-4bba-9024-ec9d398ed551",
        "colab": {
          "base_uri": "https://localhost:8080/",
          "height": 419
        }
      },
      "execution_count": 69,
      "outputs": [
        {
          "output_type": "execute_result",
          "data": {
            "text/plain": [
              "<Axes: ylabel='Model'>"
            ]
          },
          "metadata": {},
          "execution_count": 69
        },
        {
          "output_type": "display_data",
          "data": {
            "text/plain": [
              "<Figure size 1200x800 with 1 Axes>"
            ],
            "image/png": "[encoded data removed]"
          },
          "metadata": {}
        }
      ]
    },
    {
      "cell_type": "code",
      "source": [
        "model.predict(X_test)"
      ],
      "metadata": {
        "id": "eHIPG8UNCLv4",
        "outputId": "87ba8107-8e36-4542-c525-51fb9492e2f6",
        "colab": {
          "base_uri": "https://localhost:8080/",
          "height": 0
        }
      },
      "execution_count": 77,
      "outputs": [
        {
          "output_type": "execute_result",
          "data": {
            "text/plain": [
              "1308533.8356186203"
            ]
          },
          "metadata": {},
          "execution_count": 77
        }
      ]
    },
    {
      "cell_type": "code",
      "source": [
        "model.predict([[90499.05745,\t6.384358921,\t4.242191302\t,3.04,\t33970.16499]])"
      ],
      "metadata": {
        "id": "fLit46yTImFM",
        "outputId": "96c612d1-d60e-41b9-eb51-c3723209e3d2",
        "colab": {
          "base_uri": "https://localhost:8080/",
          "height": 0
        }
      },
      "execution_count": 86,
      "outputs": [
        {
          "output_type": "execute_result",
          "data": {
            "text/plain": [
              "array([2.6198131e+10])"
            ]
          },
          "metadata": {},
          "execution_count": 86
        }
      ]
    }
  ],
  "metadata": {
    "colab": {
      "provenance": []
    },
    "kernelspec": {
      "display_name": "Python 3",
      "name": "python3"
    },
    "language_info": {
      "name": "python"
    }
  },
  "nbformat": 4,
  "nbformat_minor": 0
}